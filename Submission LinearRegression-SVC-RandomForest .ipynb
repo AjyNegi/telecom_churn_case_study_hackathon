{
 "cells": [
  {
   "cell_type": "markdown",
   "id": "9d7f3214",
   "metadata": {
    "papermill": {
     "duration": 0.036252,
     "end_time": "2021-08-13T07:16:36.548737",
     "exception": false,
     "start_time": "2021-08-13T07:16:36.512485",
     "status": "completed"
    },
    "tags": []
   },
   "source": [
    "# Telecom Churn Prediction - Starter Notebook\n",
    "\n",
    "**Author:** Akshay Sehgal (www.akshaysehgal.com)"
   ]
  },
  {
   "cell_type": "markdown",
   "id": "fb5052e4",
   "metadata": {
    "papermill": {
     "duration": 0.035836,
     "end_time": "2021-08-13T07:16:36.620553",
     "exception": false,
     "start_time": "2021-08-13T07:16:36.584717",
     "status": "completed"
    },
    "tags": []
   },
   "source": [
    "The goal of this notebook is to provide an overview of how write a notebook and create a submission file that successfully solves the churn prediction problem. Please download the datasets, unzip and place them in the same folder as this notebook.\n",
    "\n",
    "We are going to follow the process called CRISP-DM.\n",
    "\n",
    "<img src=\"https://upload.wikimedia.org/wikipedia/commons/thumb/b/b9/CRISP-DM_Process_Diagram.png/639px-CRISP-DM_Process_Diagram.png\" style=\"height: 400px; width:400px;\"/>\n",
    "\n",
    "After Business and Data Understanding via EDA, we want to prepare data for modelling. Then evaluate and submit our predictions."
   ]
  },
  {
   "cell_type": "markdown",
   "id": "9290ee78",
   "metadata": {
    "papermill": {
     "duration": 0.034552,
     "end_time": "2021-08-13T07:16:36.690028",
     "exception": false,
     "start_time": "2021-08-13T07:16:36.655476",
     "status": "completed"
    },
    "tags": []
   },
   "source": [
    "# 0. Problem statement\n",
    "\n",
    "In the telecom industry, customers are able to choose from multiple service providers and actively switch from one operator to another. In this highly competitive market, the telecommunications industry experiences an average of 15-25% annual churn rate. Given the fact that it costs 5-10 times more to acquire a new customer than to retain an existing one, customer retention has now become even more important than customer acquisition.\n",
    "\n",
    "For many incumbent operators, retaining high profitable customers is the number one business\n",
    "goal. To reduce customer churn, telecom companies need to predict which customers are at high risk of churn. In this project, you will analyze customer-level data of a leading telecom firm, build predictive models to identify customers at high risk of churn, and identify the main indicators of churn.\n",
    "\n",
    "In this competition, your goal is *to build a machine learning model that is able to predict churning customers based on the features provided for their usage.*\n",
    "\n",
    "**Customer behaviour during churn:**\n",
    "\n",
    "Customers usually do not decide to switch to another competitor instantly, but rather over a\n",
    "period of time (this is especially applicable to high-value customers). In churn prediction, we\n",
    "assume that there are three phases of customer lifecycle :\n",
    "\n",
    "1. <u>The ‘good’ phase:</u> In this phase, the customer is happy with the service and behaves as usual.\n",
    "\n",
    "2. <u>The ‘action’ phase:</u> The customer experience starts to sore in this phase, for e.g. he/she gets a compelling offer from a competitor, faces unjust charges, becomes unhappy with service quality etc. In this phase, the customer usually shows different behaviour than the ‘good’ months. It is crucial to identify high-churn-risk customers in this phase, since some corrective actions can be taken at this point (such as matching the competitor’s offer/improving the service quality etc.)\n",
    "\n",
    "3. <u>The ‘churn’ phase:</u> In this phase, the customer is said to have churned. In this case, since you are working over a four-month window, the first two months are the ‘good’ phase, the third month is the ‘action’ phase, while the fourth month (September) is the ‘churn’ phase."
   ]
  },
  {
   "cell_type": "markdown",
   "id": "3da713b1",
   "metadata": {
    "papermill": {
     "duration": 0.034501,
     "end_time": "2021-08-13T07:16:36.760335",
     "exception": false,
     "start_time": "2021-08-13T07:16:36.725834",
     "status": "completed"
    },
    "tags": []
   },
   "source": [
    "# 1. Loading dependencies & datasets\n",
    "\n",
    "Lets start by loading our dependencies. We can keep adding any imports to this cell block, as we write mode and mode code."
   ]
  },
  {
   "cell_type": "code",
   "execution_count": 52,
   "id": "2e47254e",
   "metadata": {
    "execution": {
     "iopub.execute_input": "2021-08-13T07:16:36.838077Z",
     "iopub.status.busy": "2021-08-13T07:16:36.837038Z",
     "iopub.status.idle": "2021-08-13T07:16:38.158096Z",
     "shell.execute_reply": "2021-08-13T07:16:38.157302Z"
    },
    "papermill": {
     "duration": 1.362112,
     "end_time": "2021-08-13T07:16:38.158342",
     "exception": false,
     "start_time": "2021-08-13T07:16:36.796230",
     "status": "completed"
    },
    "tags": []
   },
   "outputs": [],
   "source": [
    "#Data Structures\n",
    "import pandas as pd\n",
    "import numpy as np\n",
    "import re\n",
    "import os\n",
    "\n",
    "### For installing missingno library, type this command in terminal\n",
    "#pip install missingno\n",
    "\n",
    "# import missingno as msno\n",
    "\n",
    "#Sklearn\n",
    "from sklearn.impute import SimpleImputer\n",
    "from sklearn.preprocessing import StandardScaler\n",
    "from sklearn.model_selection import train_test_split\n",
    "from sklearn.ensemble import RandomForestClassifier\n",
    "from sklearn.decomposition import PCA\n",
    "from sklearn.manifold import TSNE\n",
    "from sklearn.linear_model import LogisticRegression\n",
    "from sklearn.pipeline import Pipeline\n",
    "from sklearn.model_selection import GridSearchCV\n",
    "from sklearn.metrics import confusion_matrix, precision_score, recall_score\n",
    "\n",
    "#Plotting\n",
    "import matplotlib.pyplot as plt\n",
    "from mpl_toolkits.mplot3d import Axes3D\n",
    "import seaborn as sns\n",
    "\n",
    "#Others\n",
    "import warnings\n",
    "warnings.filterwarnings('ignore')\n",
    "\n",
    "%matplotlib inline"
   ]
  },
  {
   "cell_type": "markdown",
   "id": "8d5046d0",
   "metadata": {
    "papermill": {
     "duration": 0.03468,
     "end_time": "2021-08-13T07:16:38.240579",
     "exception": false,
     "start_time": "2021-08-13T07:16:38.205899",
     "status": "completed"
    },
    "tags": []
   },
   "source": [
    "Next, we load our datasets and the data dictionary file.\n",
    "\n",
    "The **train.csv** file contains both dependent and independent features, while the **test.csv** contains only the independent variables. \n",
    "\n",
    "So, for model selection, I will create our own train/test dataset from the **train.csv** and use the model to predict the solution using the features in unseen test.csv data for submission."
   ]
  },
  {
   "cell_type": "code",
   "execution_count": 98,
   "id": "3b94d1d5",
   "metadata": {
    "execution": {
     "iopub.execute_input": "2021-08-13T07:16:38.396407Z",
     "iopub.status.busy": "2021-08-13T07:16:38.395775Z",
     "iopub.status.idle": "2021-08-13T07:16:40.947829Z",
     "shell.execute_reply": "2021-08-13T07:16:40.948376Z"
    },
    "papermill": {
     "duration": 2.591587,
     "end_time": "2021-08-13T07:16:40.948543",
     "exception": false,
     "start_time": "2021-08-13T07:16:38.356956",
     "status": "completed"
    },
    "tags": []
   },
   "outputs": [
    {
     "name": "stdout",
     "output_type": "stream",
     "text": [
      "(69999, 172)\n",
      "(30000, 171)\n",
      "(30000, 2)\n"
     ]
    }
   ],
   "source": [
    "#INCASE RUNNING THIS LOCALLY, PASS THE RELATIVE PATH OF THE CSV FILES BELOW\n",
    "#(e.g. if files are in same folder as notebook, simple write \"train.csv\" as path)\n",
    "\n",
    "data = pd.read_csv(r\"C:\\Users\\Manoj Kumar Panicker\\python Again\\Files\\telecom-churn-case-study-hackathon-c-61\\train.csv\")\n",
    "unseen = pd.read_csv(r\"C:\\Users\\Manoj Kumar Panicker\\python Again\\Files\\telecom-churn-case-study-hackathon-c-61\\test.csv\")\n",
    "sample = pd.read_csv(r\"C:\\Users\\Manoj Kumar Panicker\\python Again\\Files\\telecom-churn-case-study-hackathon-c-61\\sample.csv\")\n",
    "#data_dict = pd.read_csv(\"/kaggle/input/kagglelabstest2021/data_dictionary.csv\")\n",
    "\n",
    "unseen_old = unseen.copy()\n",
    "\n",
    "print(data.shape)\n",
    "print(unseen.shape)\n",
    "print(sample.shape)\n",
    "#print(data_dict.shape)"
   ]
  },
  {
   "cell_type": "code",
   "execution_count": 99,
   "id": "d9393db4",
   "metadata": {},
   "outputs": [],
   "source": [
    "#unseen = unseen.merge(sample, on='id', how='left')"
   ]
  },
  {
   "cell_type": "code",
   "execution_count": 100,
   "id": "2cd9e61c",
   "metadata": {},
   "outputs": [
    {
     "data": {
      "text/plain": [
       "(30000, 171)"
      ]
     },
     "execution_count": 100,
     "metadata": {},
     "output_type": "execute_result"
    }
   ],
   "source": [
    "unseen.shape"
   ]
  },
  {
   "cell_type": "code",
   "execution_count": 101,
   "id": "d40bdb11",
   "metadata": {
    "execution": {
     "iopub.execute_input": "2021-08-13T07:16:41.375999Z",
     "iopub.status.busy": "2021-08-13T07:16:41.375128Z",
     "iopub.status.idle": "2021-08-13T07:16:41.401438Z",
     "shell.execute_reply": "2021-08-13T07:16:41.400962Z"
    },
    "papermill": {
     "duration": 0.066079,
     "end_time": "2021-08-13T07:16:41.401769",
     "exception": false,
     "start_time": "2021-08-13T07:16:41.335690",
     "status": "completed"
    },
    "tags": []
   },
   "outputs": [
    {
     "data": {
      "text/html": [
       "<div>\n",
       "<style scoped>\n",
       "    .dataframe tbody tr th:only-of-type {\n",
       "        vertical-align: middle;\n",
       "    }\n",
       "\n",
       "    .dataframe tbody tr th {\n",
       "        vertical-align: top;\n",
       "    }\n",
       "\n",
       "    .dataframe thead th {\n",
       "        text-align: right;\n",
       "    }\n",
       "</style>\n",
       "<table border=\"1\" class=\"dataframe\">\n",
       "  <thead>\n",
       "    <tr style=\"text-align: right;\">\n",
       "      <th></th>\n",
       "      <th>id</th>\n",
       "      <th>circle_id</th>\n",
       "      <th>loc_og_t2o_mou</th>\n",
       "      <th>std_og_t2o_mou</th>\n",
       "      <th>loc_ic_t2o_mou</th>\n",
       "      <th>last_date_of_month_6</th>\n",
       "      <th>last_date_of_month_7</th>\n",
       "      <th>last_date_of_month_8</th>\n",
       "      <th>arpu_6</th>\n",
       "      <th>arpu_7</th>\n",
       "      <th>...</th>\n",
       "      <th>sachet_3g_7</th>\n",
       "      <th>sachet_3g_8</th>\n",
       "      <th>fb_user_6</th>\n",
       "      <th>fb_user_7</th>\n",
       "      <th>fb_user_8</th>\n",
       "      <th>aon</th>\n",
       "      <th>aug_vbc_3g</th>\n",
       "      <th>jul_vbc_3g</th>\n",
       "      <th>jun_vbc_3g</th>\n",
       "      <th>churn_probability</th>\n",
       "    </tr>\n",
       "  </thead>\n",
       "  <tbody>\n",
       "    <tr>\n",
       "      <th>0</th>\n",
       "      <td>0</td>\n",
       "      <td>109</td>\n",
       "      <td>0.0</td>\n",
       "      <td>0.0</td>\n",
       "      <td>0.0</td>\n",
       "      <td>6/30/2014</td>\n",
       "      <td>7/31/2014</td>\n",
       "      <td>8/31/2014</td>\n",
       "      <td>31.277</td>\n",
       "      <td>87.009</td>\n",
       "      <td>...</td>\n",
       "      <td>0</td>\n",
       "      <td>0</td>\n",
       "      <td>NaN</td>\n",
       "      <td>NaN</td>\n",
       "      <td>NaN</td>\n",
       "      <td>1958</td>\n",
       "      <td>0.0</td>\n",
       "      <td>0.0</td>\n",
       "      <td>0.0</td>\n",
       "      <td>0</td>\n",
       "    </tr>\n",
       "    <tr>\n",
       "      <th>1</th>\n",
       "      <td>1</td>\n",
       "      <td>109</td>\n",
       "      <td>0.0</td>\n",
       "      <td>0.0</td>\n",
       "      <td>0.0</td>\n",
       "      <td>6/30/2014</td>\n",
       "      <td>7/31/2014</td>\n",
       "      <td>8/31/2014</td>\n",
       "      <td>0.000</td>\n",
       "      <td>122.787</td>\n",
       "      <td>...</td>\n",
       "      <td>0</td>\n",
       "      <td>0</td>\n",
       "      <td>NaN</td>\n",
       "      <td>1.0</td>\n",
       "      <td>NaN</td>\n",
       "      <td>710</td>\n",
       "      <td>0.0</td>\n",
       "      <td>0.0</td>\n",
       "      <td>0.0</td>\n",
       "      <td>0</td>\n",
       "    </tr>\n",
       "    <tr>\n",
       "      <th>2</th>\n",
       "      <td>2</td>\n",
       "      <td>109</td>\n",
       "      <td>0.0</td>\n",
       "      <td>0.0</td>\n",
       "      <td>0.0</td>\n",
       "      <td>6/30/2014</td>\n",
       "      <td>7/31/2014</td>\n",
       "      <td>8/31/2014</td>\n",
       "      <td>60.806</td>\n",
       "      <td>103.176</td>\n",
       "      <td>...</td>\n",
       "      <td>0</td>\n",
       "      <td>0</td>\n",
       "      <td>NaN</td>\n",
       "      <td>NaN</td>\n",
       "      <td>NaN</td>\n",
       "      <td>882</td>\n",
       "      <td>0.0</td>\n",
       "      <td>0.0</td>\n",
       "      <td>0.0</td>\n",
       "      <td>0</td>\n",
       "    </tr>\n",
       "    <tr>\n",
       "      <th>3</th>\n",
       "      <td>3</td>\n",
       "      <td>109</td>\n",
       "      <td>0.0</td>\n",
       "      <td>0.0</td>\n",
       "      <td>0.0</td>\n",
       "      <td>6/30/2014</td>\n",
       "      <td>7/31/2014</td>\n",
       "      <td>8/31/2014</td>\n",
       "      <td>156.362</td>\n",
       "      <td>205.260</td>\n",
       "      <td>...</td>\n",
       "      <td>0</td>\n",
       "      <td>0</td>\n",
       "      <td>NaN</td>\n",
       "      <td>NaN</td>\n",
       "      <td>NaN</td>\n",
       "      <td>982</td>\n",
       "      <td>0.0</td>\n",
       "      <td>0.0</td>\n",
       "      <td>0.0</td>\n",
       "      <td>0</td>\n",
       "    </tr>\n",
       "    <tr>\n",
       "      <th>4</th>\n",
       "      <td>4</td>\n",
       "      <td>109</td>\n",
       "      <td>0.0</td>\n",
       "      <td>0.0</td>\n",
       "      <td>0.0</td>\n",
       "      <td>6/30/2014</td>\n",
       "      <td>7/31/2014</td>\n",
       "      <td>8/31/2014</td>\n",
       "      <td>240.708</td>\n",
       "      <td>128.191</td>\n",
       "      <td>...</td>\n",
       "      <td>1</td>\n",
       "      <td>0</td>\n",
       "      <td>1.0</td>\n",
       "      <td>1.0</td>\n",
       "      <td>1.0</td>\n",
       "      <td>647</td>\n",
       "      <td>0.0</td>\n",
       "      <td>0.0</td>\n",
       "      <td>0.0</td>\n",
       "      <td>0</td>\n",
       "    </tr>\n",
       "  </tbody>\n",
       "</table>\n",
       "<p>5 rows × 172 columns</p>\n",
       "</div>"
      ],
      "text/plain": [
       "   id  circle_id  loc_og_t2o_mou  std_og_t2o_mou  loc_ic_t2o_mou  \\\n",
       "0   0        109             0.0             0.0             0.0   \n",
       "1   1        109             0.0             0.0             0.0   \n",
       "2   2        109             0.0             0.0             0.0   \n",
       "3   3        109             0.0             0.0             0.0   \n",
       "4   4        109             0.0             0.0             0.0   \n",
       "\n",
       "  last_date_of_month_6 last_date_of_month_7 last_date_of_month_8   arpu_6  \\\n",
       "0            6/30/2014            7/31/2014            8/31/2014   31.277   \n",
       "1            6/30/2014            7/31/2014            8/31/2014    0.000   \n",
       "2            6/30/2014            7/31/2014            8/31/2014   60.806   \n",
       "3            6/30/2014            7/31/2014            8/31/2014  156.362   \n",
       "4            6/30/2014            7/31/2014            8/31/2014  240.708   \n",
       "\n",
       "    arpu_7  ...  sachet_3g_7  sachet_3g_8  fb_user_6  fb_user_7  fb_user_8  \\\n",
       "0   87.009  ...            0            0        NaN        NaN        NaN   \n",
       "1  122.787  ...            0            0        NaN        1.0        NaN   \n",
       "2  103.176  ...            0            0        NaN        NaN        NaN   \n",
       "3  205.260  ...            0            0        NaN        NaN        NaN   \n",
       "4  128.191  ...            1            0        1.0        1.0        1.0   \n",
       "\n",
       "    aon  aug_vbc_3g  jul_vbc_3g  jun_vbc_3g  churn_probability  \n",
       "0  1958         0.0         0.0         0.0                  0  \n",
       "1   710         0.0         0.0         0.0                  0  \n",
       "2   882         0.0         0.0         0.0                  0  \n",
       "3   982         0.0         0.0         0.0                  0  \n",
       "4   647         0.0         0.0         0.0                  0  \n",
       "\n",
       "[5 rows x 172 columns]"
      ]
     },
     "execution_count": 101,
     "metadata": {},
     "output_type": "execute_result"
    }
   ],
   "source": [
    "data.head()"
   ]
  },
  {
   "cell_type": "code",
   "execution_count": 102,
   "id": "cbd5d726",
   "metadata": {
    "execution": {
     "iopub.execute_input": "2021-08-13T07:16:41.557516Z",
     "iopub.status.busy": "2021-08-13T07:16:41.556428Z",
     "iopub.status.idle": "2021-08-13T07:16:41.578390Z",
     "shell.execute_reply": "2021-08-13T07:16:41.577859Z"
    },
    "papermill": {
     "duration": 0.064419,
     "end_time": "2021-08-13T07:16:41.578526",
     "exception": false,
     "start_time": "2021-08-13T07:16:41.514107",
     "status": "completed"
    },
    "tags": []
   },
   "outputs": [
    {
     "name": "stdout",
     "output_type": "stream",
     "text": [
      "<class 'pandas.core.frame.DataFrame'>\n",
      "RangeIndex: 69999 entries, 0 to 69998\n",
      "Data columns (total 172 columns):\n",
      " #    Column                    Dtype  \n",
      "---   ------                    -----  \n",
      " 0    id                        int64  \n",
      " 1    circle_id                 int64  \n",
      " 2    loc_og_t2o_mou            float64\n",
      " 3    std_og_t2o_mou            float64\n",
      " 4    loc_ic_t2o_mou            float64\n",
      " 5    last_date_of_month_6      object \n",
      " 6    last_date_of_month_7      object \n",
      " 7    last_date_of_month_8      object \n",
      " 8    arpu_6                    float64\n",
      " 9    arpu_7                    float64\n",
      " 10   arpu_8                    float64\n",
      " 11   onnet_mou_6               float64\n",
      " 12   onnet_mou_7               float64\n",
      " 13   onnet_mou_8               float64\n",
      " 14   offnet_mou_6              float64\n",
      " 15   offnet_mou_7              float64\n",
      " 16   offnet_mou_8              float64\n",
      " 17   roam_ic_mou_6             float64\n",
      " 18   roam_ic_mou_7             float64\n",
      " 19   roam_ic_mou_8             float64\n",
      " 20   roam_og_mou_6             float64\n",
      " 21   roam_og_mou_7             float64\n",
      " 22   roam_og_mou_8             float64\n",
      " 23   loc_og_t2t_mou_6          float64\n",
      " 24   loc_og_t2t_mou_7          float64\n",
      " 25   loc_og_t2t_mou_8          float64\n",
      " 26   loc_og_t2m_mou_6          float64\n",
      " 27   loc_og_t2m_mou_7          float64\n",
      " 28   loc_og_t2m_mou_8          float64\n",
      " 29   loc_og_t2f_mou_6          float64\n",
      " 30   loc_og_t2f_mou_7          float64\n",
      " 31   loc_og_t2f_mou_8          float64\n",
      " 32   loc_og_t2c_mou_6          float64\n",
      " 33   loc_og_t2c_mou_7          float64\n",
      " 34   loc_og_t2c_mou_8          float64\n",
      " 35   loc_og_mou_6              float64\n",
      " 36   loc_og_mou_7              float64\n",
      " 37   loc_og_mou_8              float64\n",
      " 38   std_og_t2t_mou_6          float64\n",
      " 39   std_og_t2t_mou_7          float64\n",
      " 40   std_og_t2t_mou_8          float64\n",
      " 41   std_og_t2m_mou_6          float64\n",
      " 42   std_og_t2m_mou_7          float64\n",
      " 43   std_og_t2m_mou_8          float64\n",
      " 44   std_og_t2f_mou_6          float64\n",
      " 45   std_og_t2f_mou_7          float64\n",
      " 46   std_og_t2f_mou_8          float64\n",
      " 47   std_og_t2c_mou_6          float64\n",
      " 48   std_og_t2c_mou_7          float64\n",
      " 49   std_og_t2c_mou_8          float64\n",
      " 50   std_og_mou_6              float64\n",
      " 51   std_og_mou_7              float64\n",
      " 52   std_og_mou_8              float64\n",
      " 53   isd_og_mou_6              float64\n",
      " 54   isd_og_mou_7              float64\n",
      " 55   isd_og_mou_8              float64\n",
      " 56   spl_og_mou_6              float64\n",
      " 57   spl_og_mou_7              float64\n",
      " 58   spl_og_mou_8              float64\n",
      " 59   og_others_6               float64\n",
      " 60   og_others_7               float64\n",
      " 61   og_others_8               float64\n",
      " 62   total_og_mou_6            float64\n",
      " 63   total_og_mou_7            float64\n",
      " 64   total_og_mou_8            float64\n",
      " 65   loc_ic_t2t_mou_6          float64\n",
      " 66   loc_ic_t2t_mou_7          float64\n",
      " 67   loc_ic_t2t_mou_8          float64\n",
      " 68   loc_ic_t2m_mou_6          float64\n",
      " 69   loc_ic_t2m_mou_7          float64\n",
      " 70   loc_ic_t2m_mou_8          float64\n",
      " 71   loc_ic_t2f_mou_6          float64\n",
      " 72   loc_ic_t2f_mou_7          float64\n",
      " 73   loc_ic_t2f_mou_8          float64\n",
      " 74   loc_ic_mou_6              float64\n",
      " 75   loc_ic_mou_7              float64\n",
      " 76   loc_ic_mou_8              float64\n",
      " 77   std_ic_t2t_mou_6          float64\n",
      " 78   std_ic_t2t_mou_7          float64\n",
      " 79   std_ic_t2t_mou_8          float64\n",
      " 80   std_ic_t2m_mou_6          float64\n",
      " 81   std_ic_t2m_mou_7          float64\n",
      " 82   std_ic_t2m_mou_8          float64\n",
      " 83   std_ic_t2f_mou_6          float64\n",
      " 84   std_ic_t2f_mou_7          float64\n",
      " 85   std_ic_t2f_mou_8          float64\n",
      " 86   std_ic_t2o_mou_6          float64\n",
      " 87   std_ic_t2o_mou_7          float64\n",
      " 88   std_ic_t2o_mou_8          float64\n",
      " 89   std_ic_mou_6              float64\n",
      " 90   std_ic_mou_7              float64\n",
      " 91   std_ic_mou_8              float64\n",
      " 92   total_ic_mou_6            float64\n",
      " 93   total_ic_mou_7            float64\n",
      " 94   total_ic_mou_8            float64\n",
      " 95   spl_ic_mou_6              float64\n",
      " 96   spl_ic_mou_7              float64\n",
      " 97   spl_ic_mou_8              float64\n",
      " 98   isd_ic_mou_6              float64\n",
      " 99   isd_ic_mou_7              float64\n",
      " 100  isd_ic_mou_8              float64\n",
      " 101  ic_others_6               float64\n",
      " 102  ic_others_7               float64\n",
      " 103  ic_others_8               float64\n",
      " 104  total_rech_num_6          int64  \n",
      " 105  total_rech_num_7          int64  \n",
      " 106  total_rech_num_8          int64  \n",
      " 107  total_rech_amt_6          int64  \n",
      " 108  total_rech_amt_7          int64  \n",
      " 109  total_rech_amt_8          int64  \n",
      " 110  max_rech_amt_6            int64  \n",
      " 111  max_rech_amt_7            int64  \n",
      " 112  max_rech_amt_8            int64  \n",
      " 113  date_of_last_rech_6       object \n",
      " 114  date_of_last_rech_7       object \n",
      " 115  date_of_last_rech_8       object \n",
      " 116  last_day_rch_amt_6        int64  \n",
      " 117  last_day_rch_amt_7        int64  \n",
      " 118  last_day_rch_amt_8        int64  \n",
      " 119  date_of_last_rech_data_6  object \n",
      " 120  date_of_last_rech_data_7  object \n",
      " 121  date_of_last_rech_data_8  object \n",
      " 122  total_rech_data_6         float64\n",
      " 123  total_rech_data_7         float64\n",
      " 124  total_rech_data_8         float64\n",
      " 125  max_rech_data_6           float64\n",
      " 126  max_rech_data_7           float64\n",
      " 127  max_rech_data_8           float64\n",
      " 128  count_rech_2g_6           float64\n",
      " 129  count_rech_2g_7           float64\n",
      " 130  count_rech_2g_8           float64\n",
      " 131  count_rech_3g_6           float64\n",
      " 132  count_rech_3g_7           float64\n",
      " 133  count_rech_3g_8           float64\n",
      " 134  av_rech_amt_data_6        float64\n",
      " 135  av_rech_amt_data_7        float64\n",
      " 136  av_rech_amt_data_8        float64\n",
      " 137  vol_2g_mb_6               float64\n",
      " 138  vol_2g_mb_7               float64\n",
      " 139  vol_2g_mb_8               float64\n",
      " 140  vol_3g_mb_6               float64\n",
      " 141  vol_3g_mb_7               float64\n",
      " 142  vol_3g_mb_8               float64\n",
      " 143  arpu_3g_6                 float64\n",
      " 144  arpu_3g_7                 float64\n",
      " 145  arpu_3g_8                 float64\n",
      " 146  arpu_2g_6                 float64\n",
      " 147  arpu_2g_7                 float64\n",
      " 148  arpu_2g_8                 float64\n",
      " 149  night_pck_user_6          float64\n",
      " 150  night_pck_user_7          float64\n",
      " 151  night_pck_user_8          float64\n",
      " 152  monthly_2g_6              int64  \n",
      " 153  monthly_2g_7              int64  \n",
      " 154  monthly_2g_8              int64  \n",
      " 155  sachet_2g_6               int64  \n",
      " 156  sachet_2g_7               int64  \n",
      " 157  sachet_2g_8               int64  \n",
      " 158  monthly_3g_6              int64  \n",
      " 159  monthly_3g_7              int64  \n",
      " 160  monthly_3g_8              int64  \n",
      " 161  sachet_3g_6               int64  \n",
      " 162  sachet_3g_7               int64  \n",
      " 163  sachet_3g_8               int64  \n",
      " 164  fb_user_6                 float64\n",
      " 165  fb_user_7                 float64\n",
      " 166  fb_user_8                 float64\n",
      " 167  aon                       int64  \n",
      " 168  aug_vbc_3g                float64\n",
      " 169  jul_vbc_3g                float64\n",
      " 170  jun_vbc_3g                float64\n",
      " 171  churn_probability         int64  \n",
      "dtypes: float64(135), int64(28), object(9)\n",
      "memory usage: 91.9+ MB\n"
     ]
    }
   ],
   "source": [
    "data.info(1)"
   ]
  },
  {
   "cell_type": "markdown",
   "id": "c7ec8a98",
   "metadata": {},
   "source": [
    "## Creating Function for Pipeline"
   ]
  },
  {
   "cell_type": "code",
   "execution_count": 103,
   "id": "79bc0fe3",
   "metadata": {},
   "outputs": [],
   "source": [
    "# dropping \n",
    "def drop_null_all(df,unseen_df,axs):\n",
    "    df.dropna(how='all', axis=axs,inplace =True)\n",
    "    unseen_df.dropna(how='all', axis=axs,inplace =True)\n",
    "    \n",
    "# Dropping where more than 70% values are Null   \n",
    "def drop_col_most_Null(df,unseen_df):\n",
    "    drop_col = []\n",
    "    for i in df.columns:\n",
    "        x = round((df[i].isnull().sum()/len(data))*100,2)\n",
    "        if x >= 70:\n",
    "            #print(\"Column name is:\",i,\"and null % is:\",x)\n",
    "            drop_col += [i]\n",
    "    #print(drop_col)\n",
    "    df.drop(drop_col,axis=1,inplace=True)\n",
    "    unseen_df.drop(drop_col,axis=1,inplace=True)\n",
    "\n",
    "# dropping columns where only one uique value is there in column\n",
    "def drop_One_Val_Col(df,unseen_df):\n",
    "    drop_col = []\n",
    "    for i in df.columns:\n",
    "        x = df[i].nunique()\n",
    "        if x == 1:\n",
    "            #print(\"Column name is:\",i,\"and unique value is:\",x)\n",
    "            drop_col += [i]\n",
    "    #print(drop_col)\n",
    "    df.drop(drop_col,axis=1,inplace=True)\n",
    "    unseen_df.drop(drop_col,axis=1,inplace=True)\n",
    "\n",
    "# now dropping where each value contribution in a column is more than 80%\n",
    "def drop_one_val_contribution(df,unseen_df):\n",
    "    drop_col = []\n",
    "    for i in df.columns:\n",
    "        x = df[i].value_counts()\n",
    "        value_count= len(x)\n",
    "        for j in list(x):\n",
    "            if j >= len(df)*0.80 and value_count > 10:\n",
    "                #print(\"Column name is:\",i,\"and value count is:\",value_count,'and Max contribution is',j)\n",
    "                drop_col += [i]\n",
    "    #print(drop_col)\n",
    "    df.drop(drop_col,axis=1,inplace=True)\n",
    "    unseen_df.drop(drop_col,axis=1,inplace=True)\n",
    "\n",
    "# Extracting Date part from date column to convert all columns into numeric\n",
    "def extract_date_part(df,unseen_df):\n",
    "    df['date_of_last_rech_6'] = df['date_of_last_rech_6'].str.replace('/','').str[2:4].astype(float)\n",
    "    df['date_of_last_rech_7'] = df['date_of_last_rech_7'].str.replace('/','').str[2:4].astype(float)\n",
    "    df['date_of_last_rech_8'] = df['date_of_last_rech_8'].str.replace('/','').str[2:4].astype(float)\n",
    "    df.drop(['id'],axis=1,inplace=True)\n",
    "    \n",
    "    unseen_df['date_of_last_rech_6'] = unseen_df['date_of_last_rech_6'].str.replace('/','').str[2:4].astype(float)\n",
    "    unseen_df['date_of_last_rech_7'] = unseen_df['date_of_last_rech_7'].str.replace('/','').str[2:4].astype(float)\n",
    "    unseen_df['date_of_last_rech_8'] = unseen_df['date_of_last_rech_8'].str.replace('/','').str[2:4].astype(float)\n",
    "    unseen_df.drop(['id'],axis=1,inplace=True)\n",
    "\n",
    "\n",
    "def skew_control_data(df,df2):\n",
    "    for i in df.columns:\n",
    "        skw = round(df[i].skew(axis = 0, skipna = True),2)\n",
    "        corr = round(df[i].corr(df['churn_probability']),2)\n",
    "        if skw > 1 and (corr >0 and corr < 0.65):\n",
    "            df[i] = round(np.sqrt(df[i][np.isfinite(df[i])]),2)\n",
    "            df2[i] = round(np.sqrt(df2[i][np.isfinite(df2[i])]),2)\n",
    "            \n",
    "            \n",
    "    \n",
    "\n",
    "# Replacing Null values with mean   \n",
    "def replace_null(df):\n",
    "    for i in df.columns:\n",
    "        mean_val = round(df[i].mean(),2)\n",
    "        #print('Column is',i,'mean is ',mean_val)\n",
    "        df[i].fillna(value=mean_val, inplace=True)\n",
    "        \n",
    "# Handling Outlier\n",
    "def outlier_handling(df):\n",
    "    for i in df.columns:\n",
    "    \n",
    "        mean_val = round(df[i].mean(),2)\n",
    "        Q1 = df[i].quantile(0.25)\n",
    "        Q3 = df[i].quantile(0.85)\n",
    "\n",
    "        # Calculate Interquartile Range (IQR)\n",
    "        IQR = Q3 - Q1\n",
    "        # Define lower and upper bounds\n",
    "        lower_bound = round((Q1 - 1.5 * IQR),2)\n",
    "        upper_bound = round((Q3 + 1.5 * IQR),2)\n",
    "        # Remove outliers based on lower & upper bounds    \n",
    "    \n",
    "        if upper_bound > 0:\n",
    "            #df[i] = np.where((df[i] < lower_bound) , lower_bound, df[i] )\n",
    "            df[i] = np.where((df[i] > upper_bound) ,upper_bound , df[i] )\n",
    "            #print('Column Name is',i,'Upper bound ',upper_bound,'Replaced Value Count',len(data[data[i]==upper_bound]))\n",
    "\n",
    "\n"
   ]
  },
  {
   "cell_type": "code",
   "execution_count": 104,
   "id": "1d72a003",
   "metadata": {},
   "outputs": [],
   "source": [
    "# to display pipeline diagram\n",
    "from sklearn import set_config\n",
    "set_config(display='diagram')"
   ]
  },
  {
   "cell_type": "code",
   "execution_count": 105,
   "id": "984b20f2",
   "metadata": {},
   "outputs": [
    {
     "data": {
      "text/html": [
       "<style>#sk-container-id-7 {color: black;}#sk-container-id-7 pre{padding: 0;}#sk-container-id-7 div.sk-toggleable {background-color: white;}#sk-container-id-7 label.sk-toggleable__label {cursor: pointer;display: block;width: 100%;margin-bottom: 0;padding: 0.3em;box-sizing: border-box;text-align: center;}#sk-container-id-7 label.sk-toggleable__label-arrow:before {content: \"▸\";float: left;margin-right: 0.25em;color: #696969;}#sk-container-id-7 label.sk-toggleable__label-arrow:hover:before {color: black;}#sk-container-id-7 div.sk-estimator:hover label.sk-toggleable__label-arrow:before {color: black;}#sk-container-id-7 div.sk-toggleable__content {max-height: 0;max-width: 0;overflow: hidden;text-align: left;background-color: #f0f8ff;}#sk-container-id-7 div.sk-toggleable__content pre {margin: 0.2em;color: black;border-radius: 0.25em;background-color: #f0f8ff;}#sk-container-id-7 input.sk-toggleable__control:checked~div.sk-toggleable__content {max-height: 200px;max-width: 100%;overflow: auto;}#sk-container-id-7 input.sk-toggleable__control:checked~label.sk-toggleable__label-arrow:before {content: \"▾\";}#sk-container-id-7 div.sk-estimator input.sk-toggleable__control:checked~label.sk-toggleable__label {background-color: #d4ebff;}#sk-container-id-7 div.sk-label input.sk-toggleable__control:checked~label.sk-toggleable__label {background-color: #d4ebff;}#sk-container-id-7 input.sk-hidden--visually {border: 0;clip: rect(1px 1px 1px 1px);clip: rect(1px, 1px, 1px, 1px);height: 1px;margin: -1px;overflow: hidden;padding: 0;position: absolute;width: 1px;}#sk-container-id-7 div.sk-estimator {font-family: monospace;background-color: #f0f8ff;border: 1px dotted black;border-radius: 0.25em;box-sizing: border-box;margin-bottom: 0.5em;}#sk-container-id-7 div.sk-estimator:hover {background-color: #d4ebff;}#sk-container-id-7 div.sk-parallel-item::after {content: \"\";width: 100%;border-bottom: 1px solid gray;flex-grow: 1;}#sk-container-id-7 div.sk-label:hover label.sk-toggleable__label {background-color: #d4ebff;}#sk-container-id-7 div.sk-serial::before {content: \"\";position: absolute;border-left: 1px solid gray;box-sizing: border-box;top: 0;bottom: 0;left: 50%;z-index: 0;}#sk-container-id-7 div.sk-serial {display: flex;flex-direction: column;align-items: center;background-color: white;padding-right: 0.2em;padding-left: 0.2em;position: relative;}#sk-container-id-7 div.sk-item {position: relative;z-index: 1;}#sk-container-id-7 div.sk-parallel {display: flex;align-items: stretch;justify-content: center;background-color: white;position: relative;}#sk-container-id-7 div.sk-item::before, #sk-container-id-7 div.sk-parallel-item::before {content: \"\";position: absolute;border-left: 1px solid gray;box-sizing: border-box;top: 0;bottom: 0;left: 50%;z-index: -1;}#sk-container-id-7 div.sk-parallel-item {display: flex;flex-direction: column;z-index: 1;position: relative;background-color: white;}#sk-container-id-7 div.sk-parallel-item:first-child::after {align-self: flex-end;width: 50%;}#sk-container-id-7 div.sk-parallel-item:last-child::after {align-self: flex-start;width: 50%;}#sk-container-id-7 div.sk-parallel-item:only-child::after {width: 0;}#sk-container-id-7 div.sk-dashed-wrapped {border: 1px dashed gray;margin: 0 0.4em 0.5em 0.4em;box-sizing: border-box;padding-bottom: 0.4em;background-color: white;}#sk-container-id-7 div.sk-label label {font-family: monospace;font-weight: bold;display: inline-block;line-height: 1.2em;}#sk-container-id-7 div.sk-label-container {text-align: center;}#sk-container-id-7 div.sk-container {/* jupyter's `normalize.less` sets `[hidden] { display: none; }` but bootstrap.min.css set `[hidden] { display: none !important; }` so we also need the `!important` here to be able to override the default hidden behavior on the sphinx rendered scikit-learn.org. See: https://github.com/scikit-learn/scikit-learn/issues/21755 */display: inline-block !important;position: relative;}#sk-container-id-7 div.sk-text-repr-fallback {display: none;}</style><div id=\"sk-container-id-7\" class=\"sk-top-container\"><div class=\"sk-text-repr-fallback\"><pre>Pipeline(steps=[(&#x27;Drop Null Column&#x27;, None), (&#x27;Drop Null Rows&#x27;, None),\n",
       "                (&#x27;Drop where &gt;70% Observations are Null&#x27;, None),\n",
       "                (&#x27;Drop Columns with 1 unique value&#x27;, None),\n",
       "                (&#x27;Drop where one value contribution is &gt;80% &#x27;, None),\n",
       "                (&#x27;Extract Date to convert Numeric&#x27;, None),\n",
       "                (&#x27;Skew Handling in data&#x27;, None),\n",
       "                (&#x27;Replace Null from Data&#x27;, None),\n",
       "                (&#x27;Replace Null from Unseen&#x27;, None),\n",
       "                (&#x27;Outlier Handling in Data&#x27;, None),\n",
       "                (&#x27;Outlier Handling in unseen&#x27;, None)])</pre><b>In a Jupyter environment, please rerun this cell to show the HTML representation or trust the notebook. <br />On GitHub, the HTML representation is unable to render, please try loading this page with nbviewer.org.</b></div><div class=\"sk-container\" hidden><div class=\"sk-item sk-dashed-wrapped\"><div class=\"sk-label-container\"><div class=\"sk-label sk-toggleable\"><input class=\"sk-toggleable__control sk-hidden--visually\" id=\"sk-estimator-id-37\" type=\"checkbox\" ><label for=\"sk-estimator-id-37\" class=\"sk-toggleable__label sk-toggleable__label-arrow\">Pipeline</label><div class=\"sk-toggleable__content\"><pre>Pipeline(steps=[(&#x27;Drop Null Column&#x27;, None), (&#x27;Drop Null Rows&#x27;, None),\n",
       "                (&#x27;Drop where &gt;70% Observations are Null&#x27;, None),\n",
       "                (&#x27;Drop Columns with 1 unique value&#x27;, None),\n",
       "                (&#x27;Drop where one value contribution is &gt;80% &#x27;, None),\n",
       "                (&#x27;Extract Date to convert Numeric&#x27;, None),\n",
       "                (&#x27;Skew Handling in data&#x27;, None),\n",
       "                (&#x27;Replace Null from Data&#x27;, None),\n",
       "                (&#x27;Replace Null from Unseen&#x27;, None),\n",
       "                (&#x27;Outlier Handling in Data&#x27;, None),\n",
       "                (&#x27;Outlier Handling in unseen&#x27;, None)])</pre></div></div></div><div class=\"sk-serial\"><div class=\"sk-item\"><div class=\"sk-estimator sk-toggleable\"><input class=\"sk-toggleable__control sk-hidden--visually\" id=\"sk-estimator-id-38\" type=\"checkbox\" ><label for=\"sk-estimator-id-38\" class=\"sk-toggleable__label sk-toggleable__label-arrow\">None</label><div class=\"sk-toggleable__content\"><pre>None</pre></div></div></div><div class=\"sk-item\"><div class=\"sk-estimator sk-toggleable\"><input class=\"sk-toggleable__control sk-hidden--visually\" id=\"sk-estimator-id-39\" type=\"checkbox\" ><label for=\"sk-estimator-id-39\" class=\"sk-toggleable__label sk-toggleable__label-arrow\">None</label><div class=\"sk-toggleable__content\"><pre>None</pre></div></div></div><div class=\"sk-item\"><div class=\"sk-estimator sk-toggleable\"><input class=\"sk-toggleable__control sk-hidden--visually\" id=\"sk-estimator-id-40\" type=\"checkbox\" ><label for=\"sk-estimator-id-40\" class=\"sk-toggleable__label sk-toggleable__label-arrow\">None</label><div class=\"sk-toggleable__content\"><pre>None</pre></div></div></div><div class=\"sk-item\"><div class=\"sk-estimator sk-toggleable\"><input class=\"sk-toggleable__control sk-hidden--visually\" id=\"sk-estimator-id-41\" type=\"checkbox\" ><label for=\"sk-estimator-id-41\" class=\"sk-toggleable__label sk-toggleable__label-arrow\">None</label><div class=\"sk-toggleable__content\"><pre>None</pre></div></div></div><div class=\"sk-item\"><div class=\"sk-estimator sk-toggleable\"><input class=\"sk-toggleable__control sk-hidden--visually\" id=\"sk-estimator-id-42\" type=\"checkbox\" ><label for=\"sk-estimator-id-42\" class=\"sk-toggleable__label sk-toggleable__label-arrow\">None</label><div class=\"sk-toggleable__content\"><pre>None</pre></div></div></div><div class=\"sk-item\"><div class=\"sk-estimator sk-toggleable\"><input class=\"sk-toggleable__control sk-hidden--visually\" id=\"sk-estimator-id-43\" type=\"checkbox\" ><label for=\"sk-estimator-id-43\" class=\"sk-toggleable__label sk-toggleable__label-arrow\">None</label><div class=\"sk-toggleable__content\"><pre>None</pre></div></div></div><div class=\"sk-item\"><div class=\"sk-estimator sk-toggleable\"><input class=\"sk-toggleable__control sk-hidden--visually\" id=\"sk-estimator-id-44\" type=\"checkbox\" ><label for=\"sk-estimator-id-44\" class=\"sk-toggleable__label sk-toggleable__label-arrow\">None</label><div class=\"sk-toggleable__content\"><pre>None</pre></div></div></div><div class=\"sk-item\"><div class=\"sk-estimator sk-toggleable\"><input class=\"sk-toggleable__control sk-hidden--visually\" id=\"sk-estimator-id-45\" type=\"checkbox\" ><label for=\"sk-estimator-id-45\" class=\"sk-toggleable__label sk-toggleable__label-arrow\">None</label><div class=\"sk-toggleable__content\"><pre>None</pre></div></div></div><div class=\"sk-item\"><div class=\"sk-estimator sk-toggleable\"><input class=\"sk-toggleable__control sk-hidden--visually\" id=\"sk-estimator-id-46\" type=\"checkbox\" ><label for=\"sk-estimator-id-46\" class=\"sk-toggleable__label sk-toggleable__label-arrow\">None</label><div class=\"sk-toggleable__content\"><pre>None</pre></div></div></div><div class=\"sk-item\"><div class=\"sk-estimator sk-toggleable\"><input class=\"sk-toggleable__control sk-hidden--visually\" id=\"sk-estimator-id-47\" type=\"checkbox\" ><label for=\"sk-estimator-id-47\" class=\"sk-toggleable__label sk-toggleable__label-arrow\">None</label><div class=\"sk-toggleable__content\"><pre>None</pre></div></div></div><div class=\"sk-item\"><div class=\"sk-estimator sk-toggleable\"><input class=\"sk-toggleable__control sk-hidden--visually\" id=\"sk-estimator-id-48\" type=\"checkbox\" ><label for=\"sk-estimator-id-48\" class=\"sk-toggleable__label sk-toggleable__label-arrow\">None</label><div class=\"sk-toggleable__content\"><pre>None</pre></div></div></div></div></div></div></div>"
      ],
      "text/plain": [
       "Pipeline(steps=[('Drop Null Column', None), ('Drop Null Rows', None),\n",
       "                ('Drop where >70% Observations are Null', None),\n",
       "                ('Drop Columns with 1 unique value', None),\n",
       "                ('Drop where one value contribution is >80% ', None),\n",
       "                ('Extract Date to convert Numeric', None),\n",
       "                ('Skew Handling in data', None),\n",
       "                ('Replace Null from Data', None),\n",
       "                ('Replace Null from Unseen', None),\n",
       "                ('Outlier Handling in Data', None),\n",
       "                ('Outlier Handling in unseen', None)])"
      ]
     },
     "execution_count": 105,
     "metadata": {},
     "output_type": "execute_result"
    }
   ],
   "source": [
    "# Creating Pipeline to perform all steps created above\n",
    "Pipeline([('Drop Null Column', drop_null_all(data,unseen,1)),('Drop Null Rows', drop_null_all(data,unseen,0)),\n",
    "            ('Drop where >70% Observations are Null', drop_col_most_Null(data,unseen)),('Drop Columns with 1 unique value', drop_One_Val_Col(data,unseen)),\n",
    "            ('Drop where one value contribution is >80% ', drop_one_val_contribution(data,unseen)),('Extract Date to convert Numeric', extract_date_part(data,unseen)),\n",
    "            ('Skew Handling in data',skew_control_data(data,unseen)),\n",
    "            ('Replace Null from Data',replace_null(data)),\n",
    "            ('Replace Null from Unseen',replace_null(unseen)),\n",
    "            ('Outlier Handling in Data',outlier_handling(data)),('Outlier Handling in unseen',outlier_handling(unseen))])\n"
   ]
  },
  {
   "cell_type": "code",
   "execution_count": 106,
   "id": "4a60a470",
   "metadata": {},
   "outputs": [
    {
     "name": "stdout",
     "output_type": "stream",
     "text": [
      "(69999, 99)\n",
      "(30000, 98)\n"
     ]
    }
   ],
   "source": [
    "print(data.shape)\n",
    "print(unseen.shape)"
   ]
  },
  {
   "cell_type": "code",
   "execution_count": 107,
   "id": "f52ec8cc",
   "metadata": {},
   "outputs": [],
   "source": [
    "# To check skewness below code"
   ]
  },
  {
   "cell_type": "code",
   "execution_count": 108,
   "id": "eb0a5bbc",
   "metadata": {},
   "outputs": [
    {
     "data": {
      "text/plain": [
       "((69999, 98), (69999,))"
      ]
     },
     "execution_count": 108,
     "metadata": {},
     "output_type": "execute_result"
    }
   ],
   "source": [
    "X = data.copy()\n",
    "y = X.pop('churn_probability')\n",
    "X.shape, y.shape"
   ]
  },
  {
   "cell_type": "code",
   "execution_count": 109,
   "id": "9014c5ec",
   "metadata": {},
   "outputs": [
    {
     "data": {
      "text/plain": [
       "((52499, 98), (17500, 98), (52499,), (17500,))"
      ]
     },
     "execution_count": 109,
     "metadata": {},
     "output_type": "execute_result"
    }
   ],
   "source": [
    "X_train, X_test, y_train, y_test = train_test_split(X, y, test_size=0.25)\n",
    "\n",
    "X_train.shape, X_test.shape, y_train.shape, y_test.shape"
   ]
  },
  {
   "cell_type": "markdown",
   "id": "90cb2356",
   "metadata": {},
   "source": [
    "### PCA"
   ]
  },
  {
   "cell_type": "code",
   "execution_count": 110,
   "id": "0b2654d2",
   "metadata": {},
   "outputs": [
    {
     "data": {
      "text/plain": [
       "array([[ 1.06872513e-03,  3.31641603e-02,  3.66080952e-02, ...,\n",
       "         9.43088065e-06,  7.60665302e-06,  9.78118909e-01],\n",
       "       [ 6.01651040e-03,  2.79987907e-01,  2.86425117e-01, ...,\n",
       "         1.87099537e-05,  4.83196309e-05, -1.36783495e-01],\n",
       "       [ 2.00589876e-03, -1.48846791e-02, -6.24680968e-02, ...,\n",
       "         4.35778058e-05,  4.50868697e-05, -1.51189047e-01],\n",
       "       ...,\n",
       "       [-9.13378504e-03, -1.44405664e-01,  4.59173905e-03, ...,\n",
       "         1.86132975e-04,  7.78620162e-05, -1.05034946e-02],\n",
       "       [ 4.97883346e-03,  2.09939263e-03,  1.95704524e-02, ...,\n",
       "        -9.13624885e-05, -1.64085968e-04, -1.82842714e-04],\n",
       "       [-6.37715858e-03, -1.21911538e-01,  1.83590999e-02, ...,\n",
       "         9.20153812e-05, -1.04449864e-04, -7.13376810e-05]])"
      ]
     },
     "execution_count": 110,
     "metadata": {},
     "output_type": "execute_result"
    }
   ],
   "source": [
    "pca = PCA(n_components =15,random_state=42)\n",
    "pca.fit(X_train)\n",
    "pca.components_"
   ]
  },
  {
   "cell_type": "code",
   "execution_count": 111,
   "id": "5188661c",
   "metadata": {},
   "outputs": [
    {
     "data": {
      "text/plain": [
       "array([0.45199624, 0.28774276, 0.08858526, 0.03656747, 0.03134751,\n",
       "       0.02187431, 0.01484295, 0.0105061 , 0.00804503, 0.00560911,\n",
       "       0.00520432, 0.00464298, 0.00378212, 0.00332094, 0.00286648])"
      ]
     },
     "execution_count": 111,
     "metadata": {},
     "output_type": "execute_result"
    }
   ],
   "source": [
    "pca.explained_variance_ratio_"
   ]
  },
  {
   "cell_type": "code",
   "execution_count": 112,
   "id": "67166e12",
   "metadata": {},
   "outputs": [
    {
     "data": {
      "text/plain": [
       "<BarContainer object of 15 artists>"
      ]
     },
     "execution_count": 112,
     "metadata": {},
     "output_type": "execute_result"
    },
    {
     "data": {
      "image/png": "[encoded data removed]",
      "text/plain": [
       "<Figure size 640x480 with 1 Axes>"
      ]
     },
     "metadata": {},
     "output_type": "display_data"
    }
   ],
   "source": [
    "plt.bar(range(1,len(pca.explained_variance_ratio_)+1),pca.explained_variance_ratio_)"
   ]
  },
  {
   "cell_type": "code",
   "execution_count": 113,
   "id": "2014366b",
   "metadata": {},
   "outputs": [
    {
     "data": {
      "text/plain": [
       "[<matplotlib.lines.Line2D at 0x20a8cec1d10>]"
      ]
     },
     "execution_count": 113,
     "metadata": {},
     "output_type": "execute_result"
    },
    {
     "data": {
      "image/png": "[encoded data removed]",
      "text/plain": [
       "<Figure size 640x480 with 1 Axes>"
      ]
     },
     "metadata": {},
     "output_type": "display_data"
    }
   ],
   "source": [
    "var_cum = np.cumsum(pca.explained_variance_ratio_)\n",
    "plt.plot(range(1,len(var_cum)+1),var_cum)"
   ]
  },
  {
   "cell_type": "code",
   "execution_count": 114,
   "id": "2780c93f",
   "metadata": {},
   "outputs": [
    {
     "data": {
      "text/plain": [
       "0.9769335954530768"
      ]
     },
     "execution_count": 114,
     "metadata": {},
     "output_type": "execute_result"
    }
   ],
   "source": [
    "pca.explained_variance_ratio_.sum()"
   ]
  },
  {
   "cell_type": "code",
   "execution_count": 115,
   "id": "2c8e79fa",
   "metadata": {},
   "outputs": [],
   "source": [
    "#loading = pd.DataFrame(pca.components_.T,columns=[f'PC{i+1}' for i in range(pca.n_components_)],index=X_train.columns)"
   ]
  },
  {
   "cell_type": "code",
   "execution_count": 153,
   "id": "11770d69",
   "metadata": {},
   "outputs": [
    {
     "ename": "TypeError",
     "evalue": "only integer scalar arrays can be converted to a scalar index",
     "output_type": "error",
     "traceback": [
      "\u001b[1;31m---------------------------------------------------------------------------\u001b[0m",
      "\u001b[1;31mTypeError\u001b[0m                                 Traceback (most recent call last)",
      "Cell \u001b[1;32mIn[153], line 1\u001b[0m\n\u001b[1;32m----> 1\u001b[0m loading \u001b[38;5;241m=\u001b[39m pd\u001b[38;5;241m.\u001b[39mDataFrame(pca\u001b[38;5;241m.\u001b[39mcomponents_\u001b[38;5;241m.\u001b[39mT,columns\u001b[38;5;241m=\u001b[39m[\u001b[38;5;124mf\u001b[39m\u001b[38;5;124m'\u001b[39m\u001b[38;5;124mPC\u001b[39m\u001b[38;5;132;01m{\u001b[39;00mi\u001b[38;5;241m+\u001b[39m\u001b[38;5;241m1\u001b[39m\u001b[38;5;132;01m}\u001b[39;00m\u001b[38;5;124m'\u001b[39m \u001b[38;5;28;01mfor\u001b[39;00m i \u001b[38;5;129;01min\u001b[39;00m \u001b[38;5;28mrange\u001b[39m(pca\u001b[38;5;241m.\u001b[39mexplained_variance_ratio_)],index\u001b[38;5;241m=\u001b[39mX_train\u001b[38;5;241m.\u001b[39mcolumns)\n",
      "\u001b[1;31mTypeError\u001b[0m: only integer scalar arrays can be converted to a scalar index"
     ]
    }
   ],
   "source": [
    "loading = pd.DataFrame(pca.components_.T,columns=[f'PC{i+1}' for i in range(pca.explained_variance_ratio_)],index=X_train.columns)"
   ]
  },
  {
   "cell_type": "code",
   "execution_count": 116,
   "id": "fb4c6664",
   "metadata": {},
   "outputs": [
    {
     "data": {
      "text/html": [
       "<div>\n",
       "<style scoped>\n",
       "    .dataframe tbody tr th:only-of-type {\n",
       "        vertical-align: middle;\n",
       "    }\n",
       "\n",
       "    .dataframe tbody tr th {\n",
       "        vertical-align: top;\n",
       "    }\n",
       "\n",
       "    .dataframe thead th {\n",
       "        text-align: right;\n",
       "    }\n",
       "</style>\n",
       "<table border=\"1\" class=\"dataframe\">\n",
       "  <thead>\n",
       "    <tr style=\"text-align: right;\">\n",
       "      <th></th>\n",
       "      <th>PC1</th>\n",
       "      <th>PC2</th>\n",
       "      <th>PC3</th>\n",
       "      <th>PC4</th>\n",
       "      <th>PC5</th>\n",
       "      <th>PC6</th>\n",
       "      <th>PC7</th>\n",
       "      <th>PC8</th>\n",
       "      <th>PC9</th>\n",
       "      <th>PC10</th>\n",
       "      <th>PC11</th>\n",
       "      <th>PC12</th>\n",
       "      <th>PC13</th>\n",
       "      <th>PC14</th>\n",
       "      <th>PC15</th>\n",
       "    </tr>\n",
       "  </thead>\n",
       "  <tbody>\n",
       "    <tr>\n",
       "      <th>arpu_6</th>\n",
       "      <td>0.001069</td>\n",
       "      <td>0.006017</td>\n",
       "      <td>0.002006</td>\n",
       "      <td>0.007319</td>\n",
       "      <td>0.003096</td>\n",
       "      <td>-0.000138</td>\n",
       "      <td>0.002845</td>\n",
       "      <td>0.012598</td>\n",
       "      <td>0.003223</td>\n",
       "      <td>0.009615</td>\n",
       "      <td>0.000484</td>\n",
       "      <td>-0.008946</td>\n",
       "      <td>-0.009134</td>\n",
       "      <td>0.004979</td>\n",
       "      <td>-0.006377</td>\n",
       "    </tr>\n",
       "    <tr>\n",
       "      <th>arpu_7</th>\n",
       "      <td>0.033164</td>\n",
       "      <td>0.279988</td>\n",
       "      <td>-0.014885</td>\n",
       "      <td>0.375152</td>\n",
       "      <td>0.174247</td>\n",
       "      <td>-0.180906</td>\n",
       "      <td>-0.016817</td>\n",
       "      <td>-0.009400</td>\n",
       "      <td>0.152088</td>\n",
       "      <td>-0.065213</td>\n",
       "      <td>-0.012825</td>\n",
       "      <td>-0.036900</td>\n",
       "      <td>-0.144406</td>\n",
       "      <td>0.002099</td>\n",
       "      <td>-0.121912</td>\n",
       "    </tr>\n",
       "    <tr>\n",
       "      <th>arpu_8</th>\n",
       "      <td>0.036608</td>\n",
       "      <td>0.286425</td>\n",
       "      <td>-0.062468</td>\n",
       "      <td>-0.160128</td>\n",
       "      <td>0.406235</td>\n",
       "      <td>-0.030010</td>\n",
       "      <td>-0.008683</td>\n",
       "      <td>0.057156</td>\n",
       "      <td>-0.115804</td>\n",
       "      <td>-0.112472</td>\n",
       "      <td>0.051495</td>\n",
       "      <td>0.076732</td>\n",
       "      <td>0.004592</td>\n",
       "      <td>0.019570</td>\n",
       "      <td>0.018359</td>\n",
       "    </tr>\n",
       "    <tr>\n",
       "      <th>onnet_mou_6</th>\n",
       "      <td>0.000314</td>\n",
       "      <td>0.004761</td>\n",
       "      <td>-0.001477</td>\n",
       "      <td>0.002221</td>\n",
       "      <td>-0.005799</td>\n",
       "      <td>-0.002478</td>\n",
       "      <td>0.019237</td>\n",
       "      <td>0.006745</td>\n",
       "      <td>0.001143</td>\n",
       "      <td>0.005362</td>\n",
       "      <td>0.000194</td>\n",
       "      <td>-0.005850</td>\n",
       "      <td>-0.014697</td>\n",
       "      <td>-0.003668</td>\n",
       "      <td>0.000774</td>\n",
       "    </tr>\n",
       "    <tr>\n",
       "      <th>onnet_mou_7</th>\n",
       "      <td>0.000351</td>\n",
       "      <td>0.006203</td>\n",
       "      <td>-0.003165</td>\n",
       "      <td>0.003634</td>\n",
       "      <td>-0.007066</td>\n",
       "      <td>-0.005710</td>\n",
       "      <td>0.020420</td>\n",
       "      <td>-0.003560</td>\n",
       "      <td>-0.002437</td>\n",
       "      <td>0.001969</td>\n",
       "      <td>-0.005179</td>\n",
       "      <td>-0.002916</td>\n",
       "      <td>-0.009807</td>\n",
       "      <td>-0.006526</td>\n",
       "      <td>-0.004166</td>\n",
       "    </tr>\n",
       "    <tr>\n",
       "      <th>...</th>\n",
       "      <td>...</td>\n",
       "      <td>...</td>\n",
       "      <td>...</td>\n",
       "      <td>...</td>\n",
       "      <td>...</td>\n",
       "      <td>...</td>\n",
       "      <td>...</td>\n",
       "      <td>...</td>\n",
       "      <td>...</td>\n",
       "      <td>...</td>\n",
       "      <td>...</td>\n",
       "      <td>...</td>\n",
       "      <td>...</td>\n",
       "      <td>...</td>\n",
       "      <td>...</td>\n",
       "    </tr>\n",
       "    <tr>\n",
       "      <th>monthly_2g_6</th>\n",
       "      <td>0.000007</td>\n",
       "      <td>0.000012</td>\n",
       "      <td>0.000053</td>\n",
       "      <td>0.000051</td>\n",
       "      <td>0.000192</td>\n",
       "      <td>-0.000076</td>\n",
       "      <td>-0.000008</td>\n",
       "      <td>0.000034</td>\n",
       "      <td>0.000029</td>\n",
       "      <td>0.000348</td>\n",
       "      <td>-0.000115</td>\n",
       "      <td>-0.000174</td>\n",
       "      <td>0.000221</td>\n",
       "      <td>-0.000114</td>\n",
       "      <td>-0.000074</td>\n",
       "    </tr>\n",
       "    <tr>\n",
       "      <th>monthly_2g_7</th>\n",
       "      <td>0.000008</td>\n",
       "      <td>0.000020</td>\n",
       "      <td>0.000049</td>\n",
       "      <td>0.000110</td>\n",
       "      <td>0.000244</td>\n",
       "      <td>-0.000120</td>\n",
       "      <td>-0.000028</td>\n",
       "      <td>-0.000016</td>\n",
       "      <td>0.000202</td>\n",
       "      <td>0.000254</td>\n",
       "      <td>-0.000058</td>\n",
       "      <td>-0.000046</td>\n",
       "      <td>0.000292</td>\n",
       "      <td>-0.000105</td>\n",
       "      <td>0.000108</td>\n",
       "    </tr>\n",
       "    <tr>\n",
       "      <th>monthly_2g_8</th>\n",
       "      <td>0.000009</td>\n",
       "      <td>0.000019</td>\n",
       "      <td>0.000044</td>\n",
       "      <td>0.000005</td>\n",
       "      <td>0.000292</td>\n",
       "      <td>-0.000083</td>\n",
       "      <td>-0.000018</td>\n",
       "      <td>0.000028</td>\n",
       "      <td>-0.000155</td>\n",
       "      <td>0.000223</td>\n",
       "      <td>-0.000076</td>\n",
       "      <td>-0.000146</td>\n",
       "      <td>0.000186</td>\n",
       "      <td>-0.000091</td>\n",
       "      <td>0.000092</td>\n",
       "    </tr>\n",
       "    <tr>\n",
       "      <th>monthly_3g_6</th>\n",
       "      <td>0.000008</td>\n",
       "      <td>0.000048</td>\n",
       "      <td>0.000045</td>\n",
       "      <td>0.000128</td>\n",
       "      <td>0.000380</td>\n",
       "      <td>-0.000120</td>\n",
       "      <td>-0.000031</td>\n",
       "      <td>0.000114</td>\n",
       "      <td>0.000165</td>\n",
       "      <td>0.000504</td>\n",
       "      <td>-0.000295</td>\n",
       "      <td>-0.000286</td>\n",
       "      <td>0.000078</td>\n",
       "      <td>-0.000164</td>\n",
       "      <td>-0.000104</td>\n",
       "    </tr>\n",
       "    <tr>\n",
       "      <th>aon</th>\n",
       "      <td>0.978119</td>\n",
       "      <td>-0.136783</td>\n",
       "      <td>-0.151189</td>\n",
       "      <td>0.002687</td>\n",
       "      <td>-0.021656</td>\n",
       "      <td>-0.023510</td>\n",
       "      <td>-0.013368</td>\n",
       "      <td>0.003683</td>\n",
       "      <td>0.000833</td>\n",
       "      <td>-0.017891</td>\n",
       "      <td>0.003066</td>\n",
       "      <td>0.003744</td>\n",
       "      <td>-0.010503</td>\n",
       "      <td>-0.000183</td>\n",
       "      <td>-0.000071</td>\n",
       "    </tr>\n",
       "  </tbody>\n",
       "</table>\n",
       "<p>98 rows × 15 columns</p>\n",
       "</div>"
      ],
      "text/plain": [
       "                   PC1       PC2       PC3       PC4       PC5       PC6  \\\n",
       "arpu_6        0.001069  0.006017  0.002006  0.007319  0.003096 -0.000138   \n",
       "arpu_7        0.033164  0.279988 -0.014885  0.375152  0.174247 -0.180906   \n",
       "arpu_8        0.036608  0.286425 -0.062468 -0.160128  0.406235 -0.030010   \n",
       "onnet_mou_6   0.000314  0.004761 -0.001477  0.002221 -0.005799 -0.002478   \n",
       "onnet_mou_7   0.000351  0.006203 -0.003165  0.003634 -0.007066 -0.005710   \n",
       "...                ...       ...       ...       ...       ...       ...   \n",
       "monthly_2g_6  0.000007  0.000012  0.000053  0.000051  0.000192 -0.000076   \n",
       "monthly_2g_7  0.000008  0.000020  0.000049  0.000110  0.000244 -0.000120   \n",
       "monthly_2g_8  0.000009  0.000019  0.000044  0.000005  0.000292 -0.000083   \n",
       "monthly_3g_6  0.000008  0.000048  0.000045  0.000128  0.000380 -0.000120   \n",
       "aon           0.978119 -0.136783 -0.151189  0.002687 -0.021656 -0.023510   \n",
       "\n",
       "                   PC7       PC8       PC9      PC10      PC11      PC12  \\\n",
       "arpu_6        0.002845  0.012598  0.003223  0.009615  0.000484 -0.008946   \n",
       "arpu_7       -0.016817 -0.009400  0.152088 -0.065213 -0.012825 -0.036900   \n",
       "arpu_8       -0.008683  0.057156 -0.115804 -0.112472  0.051495  0.076732   \n",
       "onnet_mou_6   0.019237  0.006745  0.001143  0.005362  0.000194 -0.005850   \n",
       "onnet_mou_7   0.020420 -0.003560 -0.002437  0.001969 -0.005179 -0.002916   \n",
       "...                ...       ...       ...       ...       ...       ...   \n",
       "monthly_2g_6 -0.000008  0.000034  0.000029  0.000348 -0.000115 -0.000174   \n",
       "monthly_2g_7 -0.000028 -0.000016  0.000202  0.000254 -0.000058 -0.000046   \n",
       "monthly_2g_8 -0.000018  0.000028 -0.000155  0.000223 -0.000076 -0.000146   \n",
       "monthly_3g_6 -0.000031  0.000114  0.000165  0.000504 -0.000295 -0.000286   \n",
       "aon          -0.013368  0.003683  0.000833 -0.017891  0.003066  0.003744   \n",
       "\n",
       "                  PC13      PC14      PC15  \n",
       "arpu_6       -0.009134  0.004979 -0.006377  \n",
       "arpu_7       -0.144406  0.002099 -0.121912  \n",
       "arpu_8        0.004592  0.019570  0.018359  \n",
       "onnet_mou_6  -0.014697 -0.003668  0.000774  \n",
       "onnet_mou_7  -0.009807 -0.006526 -0.004166  \n",
       "...                ...       ...       ...  \n",
       "monthly_2g_6  0.000221 -0.000114 -0.000074  \n",
       "monthly_2g_7  0.000292 -0.000105  0.000108  \n",
       "monthly_2g_8  0.000186 -0.000091  0.000092  \n",
       "monthly_3g_6  0.000078 -0.000164 -0.000104  \n",
       "aon          -0.010503 -0.000183 -0.000071  \n",
       "\n",
       "[98 rows x 15 columns]"
      ]
     },
     "execution_count": 116,
     "metadata": {},
     "output_type": "execute_result"
    }
   ],
   "source": [
    "loading"
   ]
  },
  {
   "cell_type": "code",
   "execution_count": 117,
   "id": "b2f3cf92",
   "metadata": {},
   "outputs": [
    {
     "data": {
      "text/html": [
       "<div>\n",
       "<style scoped>\n",
       "    .dataframe tbody tr th:only-of-type {\n",
       "        vertical-align: middle;\n",
       "    }\n",
       "\n",
       "    .dataframe tbody tr th {\n",
       "        vertical-align: top;\n",
       "    }\n",
       "\n",
       "    .dataframe thead th {\n",
       "        text-align: right;\n",
       "    }\n",
       "</style>\n",
       "<table border=\"1\" class=\"dataframe\">\n",
       "  <thead>\n",
       "    <tr style=\"text-align: right;\">\n",
       "      <th></th>\n",
       "      <th>PC1</th>\n",
       "      <th>PC2</th>\n",
       "      <th>PC3</th>\n",
       "      <th>PC4</th>\n",
       "      <th>PC5</th>\n",
       "      <th>PC6</th>\n",
       "      <th>PC7</th>\n",
       "      <th>PC8</th>\n",
       "      <th>PC9</th>\n",
       "      <th>PC10</th>\n",
       "      <th>PC11</th>\n",
       "      <th>PC12</th>\n",
       "      <th>PC13</th>\n",
       "      <th>PC14</th>\n",
       "      <th>PC15</th>\n",
       "    </tr>\n",
       "  </thead>\n",
       "  <tbody>\n",
       "    <tr>\n",
       "      <th>aon</th>\n",
       "      <td>0.978119</td>\n",
       "      <td>-0.136783</td>\n",
       "      <td>-0.151189</td>\n",
       "      <td>0.002687</td>\n",
       "      <td>-0.021656</td>\n",
       "      <td>-0.023510</td>\n",
       "      <td>-0.013368</td>\n",
       "      <td>0.003683</td>\n",
       "      <td>0.000833</td>\n",
       "      <td>-0.017891</td>\n",
       "      <td>0.003066</td>\n",
       "      <td>0.003744</td>\n",
       "      <td>-0.010503</td>\n",
       "      <td>-0.000183</td>\n",
       "      <td>-0.000071</td>\n",
       "    </tr>\n",
       "    <tr>\n",
       "      <th>total_ic_mou_7</th>\n",
       "      <td>0.061033</td>\n",
       "      <td>0.118931</td>\n",
       "      <td>0.338350</td>\n",
       "      <td>-0.042558</td>\n",
       "      <td>-0.117024</td>\n",
       "      <td>-0.269524</td>\n",
       "      <td>-0.086541</td>\n",
       "      <td>-0.116389</td>\n",
       "      <td>-0.170699</td>\n",
       "      <td>0.171618</td>\n",
       "      <td>-0.179759</td>\n",
       "      <td>0.507338</td>\n",
       "      <td>0.002988</td>\n",
       "      <td>0.157052</td>\n",
       "      <td>-0.054633</td>\n",
       "    </tr>\n",
       "    <tr>\n",
       "      <th>total_ic_mou_8</th>\n",
       "      <td>0.060554</td>\n",
       "      <td>0.121561</td>\n",
       "      <td>0.305999</td>\n",
       "      <td>-0.211656</td>\n",
       "      <td>-0.023548</td>\n",
       "      <td>-0.200646</td>\n",
       "      <td>-0.105229</td>\n",
       "      <td>-0.386907</td>\n",
       "      <td>0.003856</td>\n",
       "      <td>0.200604</td>\n",
       "      <td>0.324089</td>\n",
       "      <td>-0.138576</td>\n",
       "      <td>-0.227444</td>\n",
       "      <td>0.278475</td>\n",
       "      <td>0.195315</td>\n",
       "    </tr>\n",
       "    <tr>\n",
       "      <th>total_ic_mou_6</th>\n",
       "      <td>0.059831</td>\n",
       "      <td>0.093173</td>\n",
       "      <td>0.353221</td>\n",
       "      <td>-0.059109</td>\n",
       "      <td>-0.112875</td>\n",
       "      <td>-0.195334</td>\n",
       "      <td>0.012294</td>\n",
       "      <td>0.489353</td>\n",
       "      <td>-0.001745</td>\n",
       "      <td>0.150165</td>\n",
       "      <td>0.312148</td>\n",
       "      <td>0.076531</td>\n",
       "      <td>-0.070496</td>\n",
       "      <td>0.008334</td>\n",
       "      <td>-0.350951</td>\n",
       "    </tr>\n",
       "    <tr>\n",
       "      <th>loc_ic_mou_7</th>\n",
       "      <td>0.052084</td>\n",
       "      <td>0.085169</td>\n",
       "      <td>0.292016</td>\n",
       "      <td>-0.042288</td>\n",
       "      <td>-0.086776</td>\n",
       "      <td>-0.094597</td>\n",
       "      <td>-0.015537</td>\n",
       "      <td>-0.083340</td>\n",
       "      <td>-0.067175</td>\n",
       "      <td>-0.148111</td>\n",
       "      <td>-0.413625</td>\n",
       "      <td>0.165270</td>\n",
       "      <td>0.150352</td>\n",
       "      <td>-0.264659</td>\n",
       "      <td>0.141996</td>\n",
       "    </tr>\n",
       "    <tr>\n",
       "      <th>loc_ic_mou_6</th>\n",
       "      <td>0.051224</td>\n",
       "      <td>0.069623</td>\n",
       "      <td>0.299952</td>\n",
       "      <td>-0.055891</td>\n",
       "      <td>-0.078971</td>\n",
       "      <td>-0.059462</td>\n",
       "      <td>0.068334</td>\n",
       "      <td>0.398560</td>\n",
       "      <td>0.063826</td>\n",
       "      <td>-0.155926</td>\n",
       "      <td>0.052106</td>\n",
       "      <td>-0.159575</td>\n",
       "      <td>0.108491</td>\n",
       "      <td>-0.272574</td>\n",
       "      <td>0.075455</td>\n",
       "    </tr>\n",
       "    <tr>\n",
       "      <th>loc_ic_mou_8</th>\n",
       "      <td>0.050590</td>\n",
       "      <td>0.084635</td>\n",
       "      <td>0.269158</td>\n",
       "      <td>-0.149009</td>\n",
       "      <td>-0.033790</td>\n",
       "      <td>-0.047625</td>\n",
       "      <td>-0.030313</td>\n",
       "      <td>-0.302023</td>\n",
       "      <td>0.128329</td>\n",
       "      <td>-0.106969</td>\n",
       "      <td>0.024955</td>\n",
       "      <td>-0.392425</td>\n",
       "      <td>-0.089004</td>\n",
       "      <td>-0.221441</td>\n",
       "      <td>0.114198</td>\n",
       "    </tr>\n",
       "    <tr>\n",
       "      <th>loc_og_mou_8</th>\n",
       "      <td>0.047826</td>\n",
       "      <td>0.115056</td>\n",
       "      <td>0.125322</td>\n",
       "      <td>-0.053312</td>\n",
       "      <td>0.052305</td>\n",
       "      <td>0.351688</td>\n",
       "      <td>0.153778</td>\n",
       "      <td>-0.189408</td>\n",
       "      <td>0.134094</td>\n",
       "      <td>0.045719</td>\n",
       "      <td>0.093841</td>\n",
       "      <td>0.057684</td>\n",
       "      <td>-0.025767</td>\n",
       "      <td>-0.176278</td>\n",
       "      <td>-0.361916</td>\n",
       "    </tr>\n",
       "    <tr>\n",
       "      <th>loc_og_mou_7</th>\n",
       "      <td>0.047605</td>\n",
       "      <td>0.116714</td>\n",
       "      <td>0.146251</td>\n",
       "      <td>0.104855</td>\n",
       "      <td>-0.015133</td>\n",
       "      <td>0.319862</td>\n",
       "      <td>0.165966</td>\n",
       "      <td>-0.095775</td>\n",
       "      <td>-0.032037</td>\n",
       "      <td>0.029358</td>\n",
       "      <td>-0.181011</td>\n",
       "      <td>0.179703</td>\n",
       "      <td>-0.128499</td>\n",
       "      <td>-0.028673</td>\n",
       "      <td>0.015562</td>\n",
       "    </tr>\n",
       "    <tr>\n",
       "      <th>loc_og_mou_6</th>\n",
       "      <td>0.047322</td>\n",
       "      <td>0.097102</td>\n",
       "      <td>0.165340</td>\n",
       "      <td>0.068163</td>\n",
       "      <td>-0.003689</td>\n",
       "      <td>0.342672</td>\n",
       "      <td>0.237694</td>\n",
       "      <td>0.233965</td>\n",
       "      <td>0.080456</td>\n",
       "      <td>0.068471</td>\n",
       "      <td>0.022099</td>\n",
       "      <td>0.010506</td>\n",
       "      <td>-0.217014</td>\n",
       "      <td>0.209808</td>\n",
       "      <td>0.453261</td>\n",
       "    </tr>\n",
       "  </tbody>\n",
       "</table>\n",
       "</div>"
      ],
      "text/plain": [
       "                     PC1       PC2       PC3       PC4       PC5       PC6  \\\n",
       "aon             0.978119 -0.136783 -0.151189  0.002687 -0.021656 -0.023510   \n",
       "total_ic_mou_7  0.061033  0.118931  0.338350 -0.042558 -0.117024 -0.269524   \n",
       "total_ic_mou_8  0.060554  0.121561  0.305999 -0.211656 -0.023548 -0.200646   \n",
       "total_ic_mou_6  0.059831  0.093173  0.353221 -0.059109 -0.112875 -0.195334   \n",
       "loc_ic_mou_7    0.052084  0.085169  0.292016 -0.042288 -0.086776 -0.094597   \n",
       "loc_ic_mou_6    0.051224  0.069623  0.299952 -0.055891 -0.078971 -0.059462   \n",
       "loc_ic_mou_8    0.050590  0.084635  0.269158 -0.149009 -0.033790 -0.047625   \n",
       "loc_og_mou_8    0.047826  0.115056  0.125322 -0.053312  0.052305  0.351688   \n",
       "loc_og_mou_7    0.047605  0.116714  0.146251  0.104855 -0.015133  0.319862   \n",
       "loc_og_mou_6    0.047322  0.097102  0.165340  0.068163 -0.003689  0.342672   \n",
       "\n",
       "                     PC7       PC8       PC9      PC10      PC11      PC12  \\\n",
       "aon            -0.013368  0.003683  0.000833 -0.017891  0.003066  0.003744   \n",
       "total_ic_mou_7 -0.086541 -0.116389 -0.170699  0.171618 -0.179759  0.507338   \n",
       "total_ic_mou_8 -0.105229 -0.386907  0.003856  0.200604  0.324089 -0.138576   \n",
       "total_ic_mou_6  0.012294  0.489353 -0.001745  0.150165  0.312148  0.076531   \n",
       "loc_ic_mou_7   -0.015537 -0.083340 -0.067175 -0.148111 -0.413625  0.165270   \n",
       "loc_ic_mou_6    0.068334  0.398560  0.063826 -0.155926  0.052106 -0.159575   \n",
       "loc_ic_mou_8   -0.030313 -0.302023  0.128329 -0.106969  0.024955 -0.392425   \n",
       "loc_og_mou_8    0.153778 -0.189408  0.134094  0.045719  0.093841  0.057684   \n",
       "loc_og_mou_7    0.165966 -0.095775 -0.032037  0.029358 -0.181011  0.179703   \n",
       "loc_og_mou_6    0.237694  0.233965  0.080456  0.068471  0.022099  0.010506   \n",
       "\n",
       "                    PC13      PC14      PC15  \n",
       "aon            -0.010503 -0.000183 -0.000071  \n",
       "total_ic_mou_7  0.002988  0.157052 -0.054633  \n",
       "total_ic_mou_8 -0.227444  0.278475  0.195315  \n",
       "total_ic_mou_6 -0.070496  0.008334 -0.350951  \n",
       "loc_ic_mou_7    0.150352 -0.264659  0.141996  \n",
       "loc_ic_mou_6    0.108491 -0.272574  0.075455  \n",
       "loc_ic_mou_8   -0.089004 -0.221441  0.114198  \n",
       "loc_og_mou_8   -0.025767 -0.176278 -0.361916  \n",
       "loc_og_mou_7   -0.128499 -0.028673  0.015562  \n",
       "loc_og_mou_6   -0.217014  0.209808  0.453261  "
      ]
     },
     "execution_count": 117,
     "metadata": {},
     "output_type": "execute_result"
    }
   ],
   "source": [
    "loading.sort_values(by=['PC1'],ascending = False).head(10)"
   ]
  },
  {
   "cell_type": "markdown",
   "id": "182c9a35",
   "metadata": {},
   "source": [
    "### aon is most significant variable "
   ]
  },
  {
   "cell_type": "code",
   "execution_count": 118,
   "id": "a244501e",
   "metadata": {},
   "outputs": [
    {
     "data": {
      "text/html": [
       "<div>\n",
       "<style scoped>\n",
       "    .dataframe tbody tr th:only-of-type {\n",
       "        vertical-align: middle;\n",
       "    }\n",
       "\n",
       "    .dataframe tbody tr th {\n",
       "        vertical-align: top;\n",
       "    }\n",
       "\n",
       "    .dataframe thead th {\n",
       "        text-align: right;\n",
       "    }\n",
       "</style>\n",
       "<table border=\"1\" class=\"dataframe\">\n",
       "  <thead>\n",
       "    <tr style=\"text-align: right;\">\n",
       "      <th></th>\n",
       "      <th>PC1</th>\n",
       "      <th>PC2</th>\n",
       "      <th>PC3</th>\n",
       "      <th>PC4</th>\n",
       "      <th>PC5</th>\n",
       "      <th>PC6</th>\n",
       "      <th>PC7</th>\n",
       "      <th>PC8</th>\n",
       "      <th>PC9</th>\n",
       "      <th>PC10</th>\n",
       "      <th>PC11</th>\n",
       "      <th>PC12</th>\n",
       "      <th>PC13</th>\n",
       "      <th>PC14</th>\n",
       "      <th>PC15</th>\n",
       "    </tr>\n",
       "  </thead>\n",
       "  <tbody>\n",
       "    <tr>\n",
       "      <th>total_og_mou_8</th>\n",
       "      <td>0.027473</td>\n",
       "      <td>0.405537</td>\n",
       "      <td>-0.224892</td>\n",
       "      <td>-0.395611</td>\n",
       "      <td>-0.200961</td>\n",
       "      <td>0.100154</td>\n",
       "      <td>0.182766</td>\n",
       "      <td>-0.052909</td>\n",
       "      <td>0.147335</td>\n",
       "      <td>0.034443</td>\n",
       "      <td>0.197020</td>\n",
       "      <td>0.222344</td>\n",
       "      <td>0.434133</td>\n",
       "      <td>0.063857</td>\n",
       "      <td>0.109331</td>\n",
       "    </tr>\n",
       "    <tr>\n",
       "      <th>total_og_mou_7</th>\n",
       "      <td>0.025571</td>\n",
       "      <td>0.404006</td>\n",
       "      <td>-0.150274</td>\n",
       "      <td>0.334938</td>\n",
       "      <td>-0.463488</td>\n",
       "      <td>-0.034668</td>\n",
       "      <td>0.181116</td>\n",
       "      <td>-0.092703</td>\n",
       "      <td>-0.476749</td>\n",
       "      <td>-0.002034</td>\n",
       "      <td>0.163611</td>\n",
       "      <td>-0.223525</td>\n",
       "      <td>0.097629</td>\n",
       "      <td>-0.036791</td>\n",
       "      <td>-0.015812</td>\n",
       "    </tr>\n",
       "    <tr>\n",
       "      <th>total_rech_amt_8</th>\n",
       "      <td>0.042486</td>\n",
       "      <td>0.335126</td>\n",
       "      <td>-0.077322</td>\n",
       "      <td>-0.238724</td>\n",
       "      <td>0.522814</td>\n",
       "      <td>-0.035066</td>\n",
       "      <td>-0.004039</td>\n",
       "      <td>0.105919</td>\n",
       "      <td>-0.404555</td>\n",
       "      <td>-0.123988</td>\n",
       "      <td>-0.061273</td>\n",
       "      <td>-0.070537</td>\n",
       "      <td>-0.129332</td>\n",
       "      <td>-0.022435</td>\n",
       "      <td>-0.006720</td>\n",
       "    </tr>\n",
       "    <tr>\n",
       "      <th>total_rech_amt_7</th>\n",
       "      <td>0.038299</td>\n",
       "      <td>0.333589</td>\n",
       "      <td>-0.024301</td>\n",
       "      <td>0.462574</td>\n",
       "      <td>0.207101</td>\n",
       "      <td>-0.229784</td>\n",
       "      <td>-0.029364</td>\n",
       "      <td>-0.059455</td>\n",
       "      <td>0.447066</td>\n",
       "      <td>-0.095495</td>\n",
       "      <td>0.077938</td>\n",
       "      <td>0.117589</td>\n",
       "      <td>0.079471</td>\n",
       "      <td>-0.007304</td>\n",
       "      <td>0.094039</td>\n",
       "    </tr>\n",
       "    <tr>\n",
       "      <th>arpu_8</th>\n",
       "      <td>0.036608</td>\n",
       "      <td>0.286425</td>\n",
       "      <td>-0.062468</td>\n",
       "      <td>-0.160128</td>\n",
       "      <td>0.406235</td>\n",
       "      <td>-0.030010</td>\n",
       "      <td>-0.008683</td>\n",
       "      <td>0.057156</td>\n",
       "      <td>-0.115804</td>\n",
       "      <td>-0.112472</td>\n",
       "      <td>0.051495</td>\n",
       "      <td>0.076732</td>\n",
       "      <td>0.004592</td>\n",
       "      <td>0.019570</td>\n",
       "      <td>0.018359</td>\n",
       "    </tr>\n",
       "    <tr>\n",
       "      <th>arpu_7</th>\n",
       "      <td>0.033164</td>\n",
       "      <td>0.279988</td>\n",
       "      <td>-0.014885</td>\n",
       "      <td>0.375152</td>\n",
       "      <td>0.174247</td>\n",
       "      <td>-0.180906</td>\n",
       "      <td>-0.016817</td>\n",
       "      <td>-0.009400</td>\n",
       "      <td>0.152088</td>\n",
       "      <td>-0.065213</td>\n",
       "      <td>-0.012825</td>\n",
       "      <td>-0.036900</td>\n",
       "      <td>-0.144406</td>\n",
       "      <td>0.002099</td>\n",
       "      <td>-0.121912</td>\n",
       "    </tr>\n",
       "    <tr>\n",
       "      <th>offnet_mou_7</th>\n",
       "      <td>0.019594</td>\n",
       "      <td>0.207393</td>\n",
       "      <td>-0.018245</td>\n",
       "      <td>0.191591</td>\n",
       "      <td>-0.187017</td>\n",
       "      <td>0.225339</td>\n",
       "      <td>-0.464582</td>\n",
       "      <td>0.056326</td>\n",
       "      <td>-0.164315</td>\n",
       "      <td>0.020502</td>\n",
       "      <td>-0.126849</td>\n",
       "      <td>-0.060144</td>\n",
       "      <td>-0.204652</td>\n",
       "      <td>-0.027168</td>\n",
       "      <td>-0.018922</td>\n",
       "    </tr>\n",
       "    <tr>\n",
       "      <th>offnet_mou_8</th>\n",
       "      <td>0.019501</td>\n",
       "      <td>0.207246</td>\n",
       "      <td>-0.053964</td>\n",
       "      <td>-0.158941</td>\n",
       "      <td>-0.063832</td>\n",
       "      <td>0.299334</td>\n",
       "      <td>-0.488800</td>\n",
       "      <td>0.051436</td>\n",
       "      <td>0.186223</td>\n",
       "      <td>0.046699</td>\n",
       "      <td>0.078063</td>\n",
       "      <td>0.064654</td>\n",
       "      <td>-0.012983</td>\n",
       "      <td>-0.173839</td>\n",
       "      <td>-0.122685</td>\n",
       "    </tr>\n",
       "    <tr>\n",
       "      <th>std_og_mou_8</th>\n",
       "      <td>-0.031706</td>\n",
       "      <td>0.191974</td>\n",
       "      <td>-0.299483</td>\n",
       "      <td>-0.268989</td>\n",
       "      <td>-0.258593</td>\n",
       "      <td>-0.227652</td>\n",
       "      <td>-0.089957</td>\n",
       "      <td>0.175280</td>\n",
       "      <td>0.242612</td>\n",
       "      <td>0.017412</td>\n",
       "      <td>-0.320703</td>\n",
       "      <td>-0.090268</td>\n",
       "      <td>-0.213030</td>\n",
       "      <td>0.091183</td>\n",
       "      <td>0.104458</td>\n",
       "    </tr>\n",
       "    <tr>\n",
       "      <th>total_ic_mou_8</th>\n",
       "      <td>0.060554</td>\n",
       "      <td>0.121561</td>\n",
       "      <td>0.305999</td>\n",
       "      <td>-0.211656</td>\n",
       "      <td>-0.023548</td>\n",
       "      <td>-0.200646</td>\n",
       "      <td>-0.105229</td>\n",
       "      <td>-0.386907</td>\n",
       "      <td>0.003856</td>\n",
       "      <td>0.200604</td>\n",
       "      <td>0.324089</td>\n",
       "      <td>-0.138576</td>\n",
       "      <td>-0.227444</td>\n",
       "      <td>0.278475</td>\n",
       "      <td>0.195315</td>\n",
       "    </tr>\n",
       "    <tr>\n",
       "      <th>total_ic_mou_7</th>\n",
       "      <td>0.061033</td>\n",
       "      <td>0.118931</td>\n",
       "      <td>0.338350</td>\n",
       "      <td>-0.042558</td>\n",
       "      <td>-0.117024</td>\n",
       "      <td>-0.269524</td>\n",
       "      <td>-0.086541</td>\n",
       "      <td>-0.116389</td>\n",
       "      <td>-0.170699</td>\n",
       "      <td>0.171618</td>\n",
       "      <td>-0.179759</td>\n",
       "      <td>0.507338</td>\n",
       "      <td>0.002988</td>\n",
       "      <td>0.157052</td>\n",
       "      <td>-0.054633</td>\n",
       "    </tr>\n",
       "    <tr>\n",
       "      <th>loc_og_mou_7</th>\n",
       "      <td>0.047605</td>\n",
       "      <td>0.116714</td>\n",
       "      <td>0.146251</td>\n",
       "      <td>0.104855</td>\n",
       "      <td>-0.015133</td>\n",
       "      <td>0.319862</td>\n",
       "      <td>0.165966</td>\n",
       "      <td>-0.095775</td>\n",
       "      <td>-0.032037</td>\n",
       "      <td>0.029358</td>\n",
       "      <td>-0.181011</td>\n",
       "      <td>0.179703</td>\n",
       "      <td>-0.128499</td>\n",
       "      <td>-0.028673</td>\n",
       "      <td>0.015562</td>\n",
       "    </tr>\n",
       "  </tbody>\n",
       "</table>\n",
       "</div>"
      ],
      "text/plain": [
       "                       PC1       PC2       PC3       PC4       PC5       PC6  \\\n",
       "total_og_mou_8    0.027473  0.405537 -0.224892 -0.395611 -0.200961  0.100154   \n",
       "total_og_mou_7    0.025571  0.404006 -0.150274  0.334938 -0.463488 -0.034668   \n",
       "total_rech_amt_8  0.042486  0.335126 -0.077322 -0.238724  0.522814 -0.035066   \n",
       "total_rech_amt_7  0.038299  0.333589 -0.024301  0.462574  0.207101 -0.229784   \n",
       "arpu_8            0.036608  0.286425 -0.062468 -0.160128  0.406235 -0.030010   \n",
       "arpu_7            0.033164  0.279988 -0.014885  0.375152  0.174247 -0.180906   \n",
       "offnet_mou_7      0.019594  0.207393 -0.018245  0.191591 -0.187017  0.225339   \n",
       "offnet_mou_8      0.019501  0.207246 -0.053964 -0.158941 -0.063832  0.299334   \n",
       "std_og_mou_8     -0.031706  0.191974 -0.299483 -0.268989 -0.258593 -0.227652   \n",
       "total_ic_mou_8    0.060554  0.121561  0.305999 -0.211656 -0.023548 -0.200646   \n",
       "total_ic_mou_7    0.061033  0.118931  0.338350 -0.042558 -0.117024 -0.269524   \n",
       "loc_og_mou_7      0.047605  0.116714  0.146251  0.104855 -0.015133  0.319862   \n",
       "\n",
       "                       PC7       PC8       PC9      PC10      PC11      PC12  \\\n",
       "total_og_mou_8    0.182766 -0.052909  0.147335  0.034443  0.197020  0.222344   \n",
       "total_og_mou_7    0.181116 -0.092703 -0.476749 -0.002034  0.163611 -0.223525   \n",
       "total_rech_amt_8 -0.004039  0.105919 -0.404555 -0.123988 -0.061273 -0.070537   \n",
       "total_rech_amt_7 -0.029364 -0.059455  0.447066 -0.095495  0.077938  0.117589   \n",
       "arpu_8           -0.008683  0.057156 -0.115804 -0.112472  0.051495  0.076732   \n",
       "arpu_7           -0.016817 -0.009400  0.152088 -0.065213 -0.012825 -0.036900   \n",
       "offnet_mou_7     -0.464582  0.056326 -0.164315  0.020502 -0.126849 -0.060144   \n",
       "offnet_mou_8     -0.488800  0.051436  0.186223  0.046699  0.078063  0.064654   \n",
       "std_og_mou_8     -0.089957  0.175280  0.242612  0.017412 -0.320703 -0.090268   \n",
       "total_ic_mou_8   -0.105229 -0.386907  0.003856  0.200604  0.324089 -0.138576   \n",
       "total_ic_mou_7   -0.086541 -0.116389 -0.170699  0.171618 -0.179759  0.507338   \n",
       "loc_og_mou_7      0.165966 -0.095775 -0.032037  0.029358 -0.181011  0.179703   \n",
       "\n",
       "                      PC13      PC14      PC15  \n",
       "total_og_mou_8    0.434133  0.063857  0.109331  \n",
       "total_og_mou_7    0.097629 -0.036791 -0.015812  \n",
       "total_rech_amt_8 -0.129332 -0.022435 -0.006720  \n",
       "total_rech_amt_7  0.079471 -0.007304  0.094039  \n",
       "arpu_8            0.004592  0.019570  0.018359  \n",
       "arpu_7           -0.144406  0.002099 -0.121912  \n",
       "offnet_mou_7     -0.204652 -0.027168 -0.018922  \n",
       "offnet_mou_8     -0.012983 -0.173839 -0.122685  \n",
       "std_og_mou_8     -0.213030  0.091183  0.104458  \n",
       "total_ic_mou_8   -0.227444  0.278475  0.195315  \n",
       "total_ic_mou_7    0.002988  0.157052 -0.054633  \n",
       "loc_og_mou_7     -0.128499 -0.028673  0.015562  "
      ]
     },
     "execution_count": 118,
     "metadata": {},
     "output_type": "execute_result"
    }
   ],
   "source": [
    "loading.sort_values(by=['PC2'],ascending = False).head(12)"
   ]
  },
  {
   "cell_type": "markdown",
   "id": "b069f007",
   "metadata": {},
   "source": [
    "### total_og_mou_7,total_og_mou_8,total_rech_amt_7,total_og_mou_6,total_rech_amt_8,total_rech_amt_6,arpu_7,arpu_8,arpu_6"
   ]
  },
  {
   "cell_type": "code",
   "execution_count": 119,
   "id": "fb71cd39",
   "metadata": {},
   "outputs": [
    {
     "data": {
      "text/html": [
       "<div>\n",
       "<style scoped>\n",
       "    .dataframe tbody tr th:only-of-type {\n",
       "        vertical-align: middle;\n",
       "    }\n",
       "\n",
       "    .dataframe tbody tr th {\n",
       "        vertical-align: top;\n",
       "    }\n",
       "\n",
       "    .dataframe thead th {\n",
       "        text-align: right;\n",
       "    }\n",
       "</style>\n",
       "<table border=\"1\" class=\"dataframe\">\n",
       "  <thead>\n",
       "    <tr style=\"text-align: right;\">\n",
       "      <th></th>\n",
       "      <th>PC1</th>\n",
       "      <th>PC2</th>\n",
       "      <th>PC3</th>\n",
       "      <th>PC4</th>\n",
       "      <th>PC5</th>\n",
       "      <th>PC6</th>\n",
       "      <th>PC7</th>\n",
       "      <th>PC8</th>\n",
       "      <th>PC9</th>\n",
       "      <th>PC10</th>\n",
       "      <th>PC11</th>\n",
       "      <th>PC12</th>\n",
       "      <th>PC13</th>\n",
       "      <th>PC14</th>\n",
       "      <th>PC15</th>\n",
       "    </tr>\n",
       "  </thead>\n",
       "  <tbody>\n",
       "    <tr>\n",
       "      <th>total_ic_mou_6</th>\n",
       "      <td>0.059831</td>\n",
       "      <td>0.093173</td>\n",
       "      <td>0.353221</td>\n",
       "      <td>-0.059109</td>\n",
       "      <td>-0.112875</td>\n",
       "      <td>-0.195334</td>\n",
       "      <td>0.012294</td>\n",
       "      <td>0.489353</td>\n",
       "      <td>-0.001745</td>\n",
       "      <td>0.150165</td>\n",
       "      <td>0.312148</td>\n",
       "      <td>0.076531</td>\n",
       "      <td>-0.070496</td>\n",
       "      <td>0.008334</td>\n",
       "      <td>-0.350951</td>\n",
       "    </tr>\n",
       "    <tr>\n",
       "      <th>total_ic_mou_7</th>\n",
       "      <td>0.061033</td>\n",
       "      <td>0.118931</td>\n",
       "      <td>0.338350</td>\n",
       "      <td>-0.042558</td>\n",
       "      <td>-0.117024</td>\n",
       "      <td>-0.269524</td>\n",
       "      <td>-0.086541</td>\n",
       "      <td>-0.116389</td>\n",
       "      <td>-0.170699</td>\n",
       "      <td>0.171618</td>\n",
       "      <td>-0.179759</td>\n",
       "      <td>0.507338</td>\n",
       "      <td>0.002988</td>\n",
       "      <td>0.157052</td>\n",
       "      <td>-0.054633</td>\n",
       "    </tr>\n",
       "    <tr>\n",
       "      <th>total_ic_mou_8</th>\n",
       "      <td>0.060554</td>\n",
       "      <td>0.121561</td>\n",
       "      <td>0.305999</td>\n",
       "      <td>-0.211656</td>\n",
       "      <td>-0.023548</td>\n",
       "      <td>-0.200646</td>\n",
       "      <td>-0.105229</td>\n",
       "      <td>-0.386907</td>\n",
       "      <td>0.003856</td>\n",
       "      <td>0.200604</td>\n",
       "      <td>0.324089</td>\n",
       "      <td>-0.138576</td>\n",
       "      <td>-0.227444</td>\n",
       "      <td>0.278475</td>\n",
       "      <td>0.195315</td>\n",
       "    </tr>\n",
       "    <tr>\n",
       "      <th>loc_ic_mou_6</th>\n",
       "      <td>0.051224</td>\n",
       "      <td>0.069623</td>\n",
       "      <td>0.299952</td>\n",
       "      <td>-0.055891</td>\n",
       "      <td>-0.078971</td>\n",
       "      <td>-0.059462</td>\n",
       "      <td>0.068334</td>\n",
       "      <td>0.398560</td>\n",
       "      <td>0.063826</td>\n",
       "      <td>-0.155926</td>\n",
       "      <td>0.052106</td>\n",
       "      <td>-0.159575</td>\n",
       "      <td>0.108491</td>\n",
       "      <td>-0.272574</td>\n",
       "      <td>0.075455</td>\n",
       "    </tr>\n",
       "    <tr>\n",
       "      <th>loc_ic_mou_7</th>\n",
       "      <td>0.052084</td>\n",
       "      <td>0.085169</td>\n",
       "      <td>0.292016</td>\n",
       "      <td>-0.042288</td>\n",
       "      <td>-0.086776</td>\n",
       "      <td>-0.094597</td>\n",
       "      <td>-0.015537</td>\n",
       "      <td>-0.083340</td>\n",
       "      <td>-0.067175</td>\n",
       "      <td>-0.148111</td>\n",
       "      <td>-0.413625</td>\n",
       "      <td>0.165270</td>\n",
       "      <td>0.150352</td>\n",
       "      <td>-0.264659</td>\n",
       "      <td>0.141996</td>\n",
       "    </tr>\n",
       "    <tr>\n",
       "      <th>loc_ic_mou_8</th>\n",
       "      <td>0.050590</td>\n",
       "      <td>0.084635</td>\n",
       "      <td>0.269158</td>\n",
       "      <td>-0.149009</td>\n",
       "      <td>-0.033790</td>\n",
       "      <td>-0.047625</td>\n",
       "      <td>-0.030313</td>\n",
       "      <td>-0.302023</td>\n",
       "      <td>0.128329</td>\n",
       "      <td>-0.106969</td>\n",
       "      <td>0.024955</td>\n",
       "      <td>-0.392425</td>\n",
       "      <td>-0.089004</td>\n",
       "      <td>-0.221441</td>\n",
       "      <td>0.114198</td>\n",
       "    </tr>\n",
       "    <tr>\n",
       "      <th>loc_ic_t2m_mou_6</th>\n",
       "      <td>0.032156</td>\n",
       "      <td>0.044148</td>\n",
       "      <td>0.180498</td>\n",
       "      <td>-0.024549</td>\n",
       "      <td>-0.040434</td>\n",
       "      <td>0.000342</td>\n",
       "      <td>-0.006761</td>\n",
       "      <td>0.253079</td>\n",
       "      <td>0.058804</td>\n",
       "      <td>-0.200636</td>\n",
       "      <td>-0.050275</td>\n",
       "      <td>-0.214365</td>\n",
       "      <td>0.213224</td>\n",
       "      <td>0.145734</td>\n",
       "      <td>-0.060809</td>\n",
       "    </tr>\n",
       "    <tr>\n",
       "      <th>loc_ic_t2m_mou_7</th>\n",
       "      <td>0.032407</td>\n",
       "      <td>0.054023</td>\n",
       "      <td>0.174642</td>\n",
       "      <td>-0.015002</td>\n",
       "      <td>-0.046264</td>\n",
       "      <td>-0.018318</td>\n",
       "      <td>-0.064436</td>\n",
       "      <td>-0.042585</td>\n",
       "      <td>-0.023357</td>\n",
       "      <td>-0.201150</td>\n",
       "      <td>-0.334605</td>\n",
       "      <td>-0.021357</td>\n",
       "      <td>0.241796</td>\n",
       "      <td>0.146071</td>\n",
       "      <td>-0.052017</td>\n",
       "    </tr>\n",
       "    <tr>\n",
       "      <th>loc_og_mou_6</th>\n",
       "      <td>0.047322</td>\n",
       "      <td>0.097102</td>\n",
       "      <td>0.165340</td>\n",
       "      <td>0.068163</td>\n",
       "      <td>-0.003689</td>\n",
       "      <td>0.342672</td>\n",
       "      <td>0.237694</td>\n",
       "      <td>0.233965</td>\n",
       "      <td>0.080456</td>\n",
       "      <td>0.068471</td>\n",
       "      <td>0.022099</td>\n",
       "      <td>0.010506</td>\n",
       "      <td>-0.217014</td>\n",
       "      <td>0.209808</td>\n",
       "      <td>0.453261</td>\n",
       "    </tr>\n",
       "    <tr>\n",
       "      <th>loc_ic_t2m_mou_8</th>\n",
       "      <td>0.032119</td>\n",
       "      <td>0.054157</td>\n",
       "      <td>0.163572</td>\n",
       "      <td>-0.086226</td>\n",
       "      <td>-0.013517</td>\n",
       "      <td>0.007164</td>\n",
       "      <td>-0.074021</td>\n",
       "      <td>-0.177408</td>\n",
       "      <td>0.100834</td>\n",
       "      <td>-0.167694</td>\n",
       "      <td>-0.055669</td>\n",
       "      <td>-0.351263</td>\n",
       "      <td>0.097039</td>\n",
       "      <td>0.133528</td>\n",
       "      <td>-0.079224</td>\n",
       "    </tr>\n",
       "    <tr>\n",
       "      <th>loc_og_mou_7</th>\n",
       "      <td>0.047605</td>\n",
       "      <td>0.116714</td>\n",
       "      <td>0.146251</td>\n",
       "      <td>0.104855</td>\n",
       "      <td>-0.015133</td>\n",
       "      <td>0.319862</td>\n",
       "      <td>0.165966</td>\n",
       "      <td>-0.095775</td>\n",
       "      <td>-0.032037</td>\n",
       "      <td>0.029358</td>\n",
       "      <td>-0.181011</td>\n",
       "      <td>0.179703</td>\n",
       "      <td>-0.128499</td>\n",
       "      <td>-0.028673</td>\n",
       "      <td>0.015562</td>\n",
       "    </tr>\n",
       "    <tr>\n",
       "      <th>loc_og_mou_8</th>\n",
       "      <td>0.047826</td>\n",
       "      <td>0.115056</td>\n",
       "      <td>0.125322</td>\n",
       "      <td>-0.053312</td>\n",
       "      <td>0.052305</td>\n",
       "      <td>0.351688</td>\n",
       "      <td>0.153778</td>\n",
       "      <td>-0.189408</td>\n",
       "      <td>0.134094</td>\n",
       "      <td>0.045719</td>\n",
       "      <td>0.093841</td>\n",
       "      <td>0.057684</td>\n",
       "      <td>-0.025767</td>\n",
       "      <td>-0.176278</td>\n",
       "      <td>-0.361916</td>\n",
       "    </tr>\n",
       "  </tbody>\n",
       "</table>\n",
       "</div>"
      ],
      "text/plain": [
       "                       PC1       PC2       PC3       PC4       PC5       PC6  \\\n",
       "total_ic_mou_6    0.059831  0.093173  0.353221 -0.059109 -0.112875 -0.195334   \n",
       "total_ic_mou_7    0.061033  0.118931  0.338350 -0.042558 -0.117024 -0.269524   \n",
       "total_ic_mou_8    0.060554  0.121561  0.305999 -0.211656 -0.023548 -0.200646   \n",
       "loc_ic_mou_6      0.051224  0.069623  0.299952 -0.055891 -0.078971 -0.059462   \n",
       "loc_ic_mou_7      0.052084  0.085169  0.292016 -0.042288 -0.086776 -0.094597   \n",
       "loc_ic_mou_8      0.050590  0.084635  0.269158 -0.149009 -0.033790 -0.047625   \n",
       "loc_ic_t2m_mou_6  0.032156  0.044148  0.180498 -0.024549 -0.040434  0.000342   \n",
       "loc_ic_t2m_mou_7  0.032407  0.054023  0.174642 -0.015002 -0.046264 -0.018318   \n",
       "loc_og_mou_6      0.047322  0.097102  0.165340  0.068163 -0.003689  0.342672   \n",
       "loc_ic_t2m_mou_8  0.032119  0.054157  0.163572 -0.086226 -0.013517  0.007164   \n",
       "loc_og_mou_7      0.047605  0.116714  0.146251  0.104855 -0.015133  0.319862   \n",
       "loc_og_mou_8      0.047826  0.115056  0.125322 -0.053312  0.052305  0.351688   \n",
       "\n",
       "                       PC7       PC8       PC9      PC10      PC11      PC12  \\\n",
       "total_ic_mou_6    0.012294  0.489353 -0.001745  0.150165  0.312148  0.076531   \n",
       "total_ic_mou_7   -0.086541 -0.116389 -0.170699  0.171618 -0.179759  0.507338   \n",
       "total_ic_mou_8   -0.105229 -0.386907  0.003856  0.200604  0.324089 -0.138576   \n",
       "loc_ic_mou_6      0.068334  0.398560  0.063826 -0.155926  0.052106 -0.159575   \n",
       "loc_ic_mou_7     -0.015537 -0.083340 -0.067175 -0.148111 -0.413625  0.165270   \n",
       "loc_ic_mou_8     -0.030313 -0.302023  0.128329 -0.106969  0.024955 -0.392425   \n",
       "loc_ic_t2m_mou_6 -0.006761  0.253079  0.058804 -0.200636 -0.050275 -0.214365   \n",
       "loc_ic_t2m_mou_7 -0.064436 -0.042585 -0.023357 -0.201150 -0.334605 -0.021357   \n",
       "loc_og_mou_6      0.237694  0.233965  0.080456  0.068471  0.022099  0.010506   \n",
       "loc_ic_t2m_mou_8 -0.074021 -0.177408  0.100834 -0.167694 -0.055669 -0.351263   \n",
       "loc_og_mou_7      0.165966 -0.095775 -0.032037  0.029358 -0.181011  0.179703   \n",
       "loc_og_mou_8      0.153778 -0.189408  0.134094  0.045719  0.093841  0.057684   \n",
       "\n",
       "                      PC13      PC14      PC15  \n",
       "total_ic_mou_6   -0.070496  0.008334 -0.350951  \n",
       "total_ic_mou_7    0.002988  0.157052 -0.054633  \n",
       "total_ic_mou_8   -0.227444  0.278475  0.195315  \n",
       "loc_ic_mou_6      0.108491 -0.272574  0.075455  \n",
       "loc_ic_mou_7      0.150352 -0.264659  0.141996  \n",
       "loc_ic_mou_8     -0.089004 -0.221441  0.114198  \n",
       "loc_ic_t2m_mou_6  0.213224  0.145734 -0.060809  \n",
       "loc_ic_t2m_mou_7  0.241796  0.146071 -0.052017  \n",
       "loc_og_mou_6     -0.217014  0.209808  0.453261  \n",
       "loc_ic_t2m_mou_8  0.097039  0.133528 -0.079224  \n",
       "loc_og_mou_7     -0.128499 -0.028673  0.015562  \n",
       "loc_og_mou_8     -0.025767 -0.176278 -0.361916  "
      ]
     },
     "execution_count": 119,
     "metadata": {},
     "output_type": "execute_result"
    }
   ],
   "source": [
    "loading.sort_values(by=['PC3'],ascending = False).head(12)"
   ]
  },
  {
   "cell_type": "code",
   "execution_count": 120,
   "id": "76690b71",
   "metadata": {},
   "outputs": [
    {
     "data": {
      "text/html": [
       "<div>\n",
       "<style scoped>\n",
       "    .dataframe tbody tr th:only-of-type {\n",
       "        vertical-align: middle;\n",
       "    }\n",
       "\n",
       "    .dataframe tbody tr th {\n",
       "        vertical-align: top;\n",
       "    }\n",
       "\n",
       "    .dataframe thead th {\n",
       "        text-align: right;\n",
       "    }\n",
       "</style>\n",
       "<table border=\"1\" class=\"dataframe\">\n",
       "  <thead>\n",
       "    <tr style=\"text-align: right;\">\n",
       "      <th></th>\n",
       "      <th>PC1</th>\n",
       "      <th>PC2</th>\n",
       "      <th>PC3</th>\n",
       "      <th>PC4</th>\n",
       "      <th>PC5</th>\n",
       "      <th>PC6</th>\n",
       "      <th>PC7</th>\n",
       "      <th>PC8</th>\n",
       "      <th>PC9</th>\n",
       "      <th>PC10</th>\n",
       "      <th>PC11</th>\n",
       "      <th>PC12</th>\n",
       "      <th>PC13</th>\n",
       "      <th>PC14</th>\n",
       "      <th>PC15</th>\n",
       "    </tr>\n",
       "  </thead>\n",
       "  <tbody>\n",
       "    <tr>\n",
       "      <th>total_rech_amt_7</th>\n",
       "      <td>0.038299</td>\n",
       "      <td>0.333589</td>\n",
       "      <td>-0.024301</td>\n",
       "      <td>0.462574</td>\n",
       "      <td>0.207101</td>\n",
       "      <td>-0.229784</td>\n",
       "      <td>-0.029364</td>\n",
       "      <td>-0.059455</td>\n",
       "      <td>0.447066</td>\n",
       "      <td>-0.095495</td>\n",
       "      <td>0.077938</td>\n",
       "      <td>0.117589</td>\n",
       "      <td>0.079471</td>\n",
       "      <td>-0.007304</td>\n",
       "      <td>0.094039</td>\n",
       "    </tr>\n",
       "    <tr>\n",
       "      <th>arpu_7</th>\n",
       "      <td>0.033164</td>\n",
       "      <td>0.279988</td>\n",
       "      <td>-0.014885</td>\n",
       "      <td>0.375152</td>\n",
       "      <td>0.174247</td>\n",
       "      <td>-0.180906</td>\n",
       "      <td>-0.016817</td>\n",
       "      <td>-0.009400</td>\n",
       "      <td>0.152088</td>\n",
       "      <td>-0.065213</td>\n",
       "      <td>-0.012825</td>\n",
       "      <td>-0.036900</td>\n",
       "      <td>-0.144406</td>\n",
       "      <td>0.002099</td>\n",
       "      <td>-0.121912</td>\n",
       "    </tr>\n",
       "    <tr>\n",
       "      <th>total_og_mou_7</th>\n",
       "      <td>0.025571</td>\n",
       "      <td>0.404006</td>\n",
       "      <td>-0.150274</td>\n",
       "      <td>0.334938</td>\n",
       "      <td>-0.463488</td>\n",
       "      <td>-0.034668</td>\n",
       "      <td>0.181116</td>\n",
       "      <td>-0.092703</td>\n",
       "      <td>-0.476749</td>\n",
       "      <td>-0.002034</td>\n",
       "      <td>0.163611</td>\n",
       "      <td>-0.223525</td>\n",
       "      <td>0.097629</td>\n",
       "      <td>-0.036791</td>\n",
       "      <td>-0.015812</td>\n",
       "    </tr>\n",
       "    <tr>\n",
       "      <th>offnet_mou_7</th>\n",
       "      <td>0.019594</td>\n",
       "      <td>0.207393</td>\n",
       "      <td>-0.018245</td>\n",
       "      <td>0.191591</td>\n",
       "      <td>-0.187017</td>\n",
       "      <td>0.225339</td>\n",
       "      <td>-0.464582</td>\n",
       "      <td>0.056326</td>\n",
       "      <td>-0.164315</td>\n",
       "      <td>0.020502</td>\n",
       "      <td>-0.126849</td>\n",
       "      <td>-0.060144</td>\n",
       "      <td>-0.204652</td>\n",
       "      <td>-0.027168</td>\n",
       "      <td>-0.018922</td>\n",
       "    </tr>\n",
       "    <tr>\n",
       "      <th>loc_og_mou_7</th>\n",
       "      <td>0.047605</td>\n",
       "      <td>0.116714</td>\n",
       "      <td>0.146251</td>\n",
       "      <td>0.104855</td>\n",
       "      <td>-0.015133</td>\n",
       "      <td>0.319862</td>\n",
       "      <td>0.165966</td>\n",
       "      <td>-0.095775</td>\n",
       "      <td>-0.032037</td>\n",
       "      <td>0.029358</td>\n",
       "      <td>-0.181011</td>\n",
       "      <td>0.179703</td>\n",
       "      <td>-0.128499</td>\n",
       "      <td>-0.028673</td>\n",
       "      <td>0.015562</td>\n",
       "    </tr>\n",
       "    <tr>\n",
       "      <th>max_rech_amt_7</th>\n",
       "      <td>0.019141</td>\n",
       "      <td>0.045985</td>\n",
       "      <td>0.014088</td>\n",
       "      <td>0.088283</td>\n",
       "      <td>0.089786</td>\n",
       "      <td>-0.033475</td>\n",
       "      <td>-0.003011</td>\n",
       "      <td>-0.010977</td>\n",
       "      <td>0.172986</td>\n",
       "      <td>0.333956</td>\n",
       "      <td>-0.073687</td>\n",
       "      <td>-0.041566</td>\n",
       "      <td>0.218331</td>\n",
       "      <td>-0.030399</td>\n",
       "      <td>0.084611</td>\n",
       "    </tr>\n",
       "    <tr>\n",
       "      <th>loc_og_t2m_mou_7</th>\n",
       "      <td>0.030482</td>\n",
       "      <td>0.072362</td>\n",
       "      <td>0.096461</td>\n",
       "      <td>0.069621</td>\n",
       "      <td>-0.001185</td>\n",
       "      <td>0.219946</td>\n",
       "      <td>0.001633</td>\n",
       "      <td>-0.040190</td>\n",
       "      <td>-0.003031</td>\n",
       "      <td>-0.047520</td>\n",
       "      <td>-0.191717</td>\n",
       "      <td>0.046733</td>\n",
       "      <td>-0.021793</td>\n",
       "      <td>0.215825</td>\n",
       "      <td>-0.090028</td>\n",
       "    </tr>\n",
       "    <tr>\n",
       "      <th>loc_og_mou_6</th>\n",
       "      <td>0.047322</td>\n",
       "      <td>0.097102</td>\n",
       "      <td>0.165340</td>\n",
       "      <td>0.068163</td>\n",
       "      <td>-0.003689</td>\n",
       "      <td>0.342672</td>\n",
       "      <td>0.237694</td>\n",
       "      <td>0.233965</td>\n",
       "      <td>0.080456</td>\n",
       "      <td>0.068471</td>\n",
       "      <td>0.022099</td>\n",
       "      <td>0.010506</td>\n",
       "      <td>-0.217014</td>\n",
       "      <td>0.209808</td>\n",
       "      <td>0.453261</td>\n",
       "    </tr>\n",
       "    <tr>\n",
       "      <th>last_day_rch_amt_7</th>\n",
       "      <td>0.012201</td>\n",
       "      <td>0.034333</td>\n",
       "      <td>0.006612</td>\n",
       "      <td>0.051806</td>\n",
       "      <td>0.048676</td>\n",
       "      <td>-0.009731</td>\n",
       "      <td>-0.000529</td>\n",
       "      <td>-0.015139</td>\n",
       "      <td>0.140579</td>\n",
       "      <td>0.244407</td>\n",
       "      <td>-0.056058</td>\n",
       "      <td>-0.024101</td>\n",
       "      <td>0.198654</td>\n",
       "      <td>-0.016297</td>\n",
       "      <td>0.085977</td>\n",
       "    </tr>\n",
       "    <tr>\n",
       "      <th>max_rech_amt_6</th>\n",
       "      <td>0.018307</td>\n",
       "      <td>0.032294</td>\n",
       "      <td>0.023543</td>\n",
       "      <td>0.048596</td>\n",
       "      <td>0.068737</td>\n",
       "      <td>0.015740</td>\n",
       "      <td>0.016057</td>\n",
       "      <td>0.072885</td>\n",
       "      <td>0.016136</td>\n",
       "      <td>0.429913</td>\n",
       "      <td>-0.143154</td>\n",
       "      <td>-0.198606</td>\n",
       "      <td>0.064378</td>\n",
       "      <td>-0.024647</td>\n",
       "      <td>-0.125953</td>\n",
       "    </tr>\n",
       "    <tr>\n",
       "      <th>loc_og_t2m_mou_6</th>\n",
       "      <td>0.030506</td>\n",
       "      <td>0.059960</td>\n",
       "      <td>0.108682</td>\n",
       "      <td>0.045266</td>\n",
       "      <td>0.007072</td>\n",
       "      <td>0.230844</td>\n",
       "      <td>0.061823</td>\n",
       "      <td>0.173863</td>\n",
       "      <td>0.069437</td>\n",
       "      <td>-0.023976</td>\n",
       "      <td>-0.050312</td>\n",
       "      <td>-0.062146</td>\n",
       "      <td>-0.067107</td>\n",
       "      <td>0.366746</td>\n",
       "      <td>0.191148</td>\n",
       "    </tr>\n",
       "    <tr>\n",
       "      <th>last_day_rch_amt_6</th>\n",
       "      <td>0.012274</td>\n",
       "      <td>0.022232</td>\n",
       "      <td>0.010884</td>\n",
       "      <td>0.034679</td>\n",
       "      <td>0.037580</td>\n",
       "      <td>0.013555</td>\n",
       "      <td>0.010917</td>\n",
       "      <td>0.044602</td>\n",
       "      <td>-0.001320</td>\n",
       "      <td>0.304041</td>\n",
       "      <td>-0.121159</td>\n",
       "      <td>-0.158781</td>\n",
       "      <td>0.066429</td>\n",
       "      <td>-0.021284</td>\n",
       "      <td>-0.102748</td>\n",
       "    </tr>\n",
       "  </tbody>\n",
       "</table>\n",
       "</div>"
      ],
      "text/plain": [
       "                         PC1       PC2       PC3       PC4       PC5  \\\n",
       "total_rech_amt_7    0.038299  0.333589 -0.024301  0.462574  0.207101   \n",
       "arpu_7              0.033164  0.279988 -0.014885  0.375152  0.174247   \n",
       "total_og_mou_7      0.025571  0.404006 -0.150274  0.334938 -0.463488   \n",
       "offnet_mou_7        0.019594  0.207393 -0.018245  0.191591 -0.187017   \n",
       "loc_og_mou_7        0.047605  0.116714  0.146251  0.104855 -0.015133   \n",
       "max_rech_amt_7      0.019141  0.045985  0.014088  0.088283  0.089786   \n",
       "loc_og_t2m_mou_7    0.030482  0.072362  0.096461  0.069621 -0.001185   \n",
       "loc_og_mou_6        0.047322  0.097102  0.165340  0.068163 -0.003689   \n",
       "last_day_rch_amt_7  0.012201  0.034333  0.006612  0.051806  0.048676   \n",
       "max_rech_amt_6      0.018307  0.032294  0.023543  0.048596  0.068737   \n",
       "loc_og_t2m_mou_6    0.030506  0.059960  0.108682  0.045266  0.007072   \n",
       "last_day_rch_amt_6  0.012274  0.022232  0.010884  0.034679  0.037580   \n",
       "\n",
       "                         PC6       PC7       PC8       PC9      PC10  \\\n",
       "total_rech_amt_7   -0.229784 -0.029364 -0.059455  0.447066 -0.095495   \n",
       "arpu_7             -0.180906 -0.016817 -0.009400  0.152088 -0.065213   \n",
       "total_og_mou_7     -0.034668  0.181116 -0.092703 -0.476749 -0.002034   \n",
       "offnet_mou_7        0.225339 -0.464582  0.056326 -0.164315  0.020502   \n",
       "loc_og_mou_7        0.319862  0.165966 -0.095775 -0.032037  0.029358   \n",
       "max_rech_amt_7     -0.033475 -0.003011 -0.010977  0.172986  0.333956   \n",
       "loc_og_t2m_mou_7    0.219946  0.001633 -0.040190 -0.003031 -0.047520   \n",
       "loc_og_mou_6        0.342672  0.237694  0.233965  0.080456  0.068471   \n",
       "last_day_rch_amt_7 -0.009731 -0.000529 -0.015139  0.140579  0.244407   \n",
       "max_rech_amt_6      0.015740  0.016057  0.072885  0.016136  0.429913   \n",
       "loc_og_t2m_mou_6    0.230844  0.061823  0.173863  0.069437 -0.023976   \n",
       "last_day_rch_amt_6  0.013555  0.010917  0.044602 -0.001320  0.304041   \n",
       "\n",
       "                        PC11      PC12      PC13      PC14      PC15  \n",
       "total_rech_amt_7    0.077938  0.117589  0.079471 -0.007304  0.094039  \n",
       "arpu_7             -0.012825 -0.036900 -0.144406  0.002099 -0.121912  \n",
       "total_og_mou_7      0.163611 -0.223525  0.097629 -0.036791 -0.015812  \n",
       "offnet_mou_7       -0.126849 -0.060144 -0.204652 -0.027168 -0.018922  \n",
       "loc_og_mou_7       -0.181011  0.179703 -0.128499 -0.028673  0.015562  \n",
       "max_rech_amt_7     -0.073687 -0.041566  0.218331 -0.030399  0.084611  \n",
       "loc_og_t2m_mou_7   -0.191717  0.046733 -0.021793  0.215825 -0.090028  \n",
       "loc_og_mou_6        0.022099  0.010506 -0.217014  0.209808  0.453261  \n",
       "last_day_rch_amt_7 -0.056058 -0.024101  0.198654 -0.016297  0.085977  \n",
       "max_rech_amt_6     -0.143154 -0.198606  0.064378 -0.024647 -0.125953  \n",
       "loc_og_t2m_mou_6   -0.050312 -0.062146 -0.067107  0.366746  0.191148  \n",
       "last_day_rch_amt_6 -0.121159 -0.158781  0.066429 -0.021284 -0.102748  "
      ]
     },
     "execution_count": 120,
     "metadata": {},
     "output_type": "execute_result"
    }
   ],
   "source": [
    "loading.sort_values(by=['PC4'],ascending = False).head(12)"
   ]
  },
  {
   "cell_type": "code",
   "execution_count": 121,
   "id": "1090130d",
   "metadata": {},
   "outputs": [
    {
     "data": {
      "text/html": [
       "<div>\n",
       "<style scoped>\n",
       "    .dataframe tbody tr th:only-of-type {\n",
       "        vertical-align: middle;\n",
       "    }\n",
       "\n",
       "    .dataframe tbody tr th {\n",
       "        vertical-align: top;\n",
       "    }\n",
       "\n",
       "    .dataframe thead th {\n",
       "        text-align: right;\n",
       "    }\n",
       "</style>\n",
       "<table border=\"1\" class=\"dataframe\">\n",
       "  <thead>\n",
       "    <tr style=\"text-align: right;\">\n",
       "      <th></th>\n",
       "      <th>PC1</th>\n",
       "      <th>PC2</th>\n",
       "      <th>PC3</th>\n",
       "      <th>PC4</th>\n",
       "      <th>PC5</th>\n",
       "      <th>PC6</th>\n",
       "      <th>PC7</th>\n",
       "      <th>PC8</th>\n",
       "      <th>PC9</th>\n",
       "      <th>PC10</th>\n",
       "      <th>PC11</th>\n",
       "      <th>PC12</th>\n",
       "      <th>PC13</th>\n",
       "      <th>PC14</th>\n",
       "      <th>PC15</th>\n",
       "    </tr>\n",
       "  </thead>\n",
       "  <tbody>\n",
       "    <tr>\n",
       "      <th>total_rech_amt_8</th>\n",
       "      <td>0.042486</td>\n",
       "      <td>0.335126</td>\n",
       "      <td>-0.077322</td>\n",
       "      <td>-0.238724</td>\n",
       "      <td>0.522814</td>\n",
       "      <td>-0.035066</td>\n",
       "      <td>-0.004039</td>\n",
       "      <td>0.105919</td>\n",
       "      <td>-0.404555</td>\n",
       "      <td>-0.123988</td>\n",
       "      <td>-0.061273</td>\n",
       "      <td>-0.070537</td>\n",
       "      <td>-0.129332</td>\n",
       "      <td>-0.022435</td>\n",
       "      <td>-0.006720</td>\n",
       "    </tr>\n",
       "    <tr>\n",
       "      <th>arpu_8</th>\n",
       "      <td>0.036608</td>\n",
       "      <td>0.286425</td>\n",
       "      <td>-0.062468</td>\n",
       "      <td>-0.160128</td>\n",
       "      <td>0.406235</td>\n",
       "      <td>-0.030010</td>\n",
       "      <td>-0.008683</td>\n",
       "      <td>0.057156</td>\n",
       "      <td>-0.115804</td>\n",
       "      <td>-0.112472</td>\n",
       "      <td>0.051495</td>\n",
       "      <td>0.076732</td>\n",
       "      <td>0.004592</td>\n",
       "      <td>0.019570</td>\n",
       "      <td>0.018359</td>\n",
       "    </tr>\n",
       "    <tr>\n",
       "      <th>total_rech_amt_7</th>\n",
       "      <td>0.038299</td>\n",
       "      <td>0.333589</td>\n",
       "      <td>-0.024301</td>\n",
       "      <td>0.462574</td>\n",
       "      <td>0.207101</td>\n",
       "      <td>-0.229784</td>\n",
       "      <td>-0.029364</td>\n",
       "      <td>-0.059455</td>\n",
       "      <td>0.447066</td>\n",
       "      <td>-0.095495</td>\n",
       "      <td>0.077938</td>\n",
       "      <td>0.117589</td>\n",
       "      <td>0.079471</td>\n",
       "      <td>-0.007304</td>\n",
       "      <td>0.094039</td>\n",
       "    </tr>\n",
       "    <tr>\n",
       "      <th>arpu_7</th>\n",
       "      <td>0.033164</td>\n",
       "      <td>0.279988</td>\n",
       "      <td>-0.014885</td>\n",
       "      <td>0.375152</td>\n",
       "      <td>0.174247</td>\n",
       "      <td>-0.180906</td>\n",
       "      <td>-0.016817</td>\n",
       "      <td>-0.009400</td>\n",
       "      <td>0.152088</td>\n",
       "      <td>-0.065213</td>\n",
       "      <td>-0.012825</td>\n",
       "      <td>-0.036900</td>\n",
       "      <td>-0.144406</td>\n",
       "      <td>0.002099</td>\n",
       "      <td>-0.121912</td>\n",
       "    </tr>\n",
       "    <tr>\n",
       "      <th>max_rech_amt_8</th>\n",
       "      <td>0.021701</td>\n",
       "      <td>0.050965</td>\n",
       "      <td>0.006165</td>\n",
       "      <td>-0.028487</td>\n",
       "      <td>0.154659</td>\n",
       "      <td>0.004823</td>\n",
       "      <td>0.005195</td>\n",
       "      <td>0.032053</td>\n",
       "      <td>-0.139895</td>\n",
       "      <td>0.353966</td>\n",
       "      <td>-0.159793</td>\n",
       "      <td>-0.167850</td>\n",
       "      <td>0.124372</td>\n",
       "      <td>-0.044621</td>\n",
       "      <td>0.052241</td>\n",
       "    </tr>\n",
       "    <tr>\n",
       "      <th>last_day_rch_amt_8</th>\n",
       "      <td>0.017185</td>\n",
       "      <td>0.031822</td>\n",
       "      <td>0.008239</td>\n",
       "      <td>-0.021391</td>\n",
       "      <td>0.100064</td>\n",
       "      <td>0.016629</td>\n",
       "      <td>0.008904</td>\n",
       "      <td>0.020873</td>\n",
       "      <td>-0.087432</td>\n",
       "      <td>0.267461</td>\n",
       "      <td>-0.126960</td>\n",
       "      <td>-0.143164</td>\n",
       "      <td>0.143089</td>\n",
       "      <td>-0.045959</td>\n",
       "      <td>0.072797</td>\n",
       "    </tr>\n",
       "    <tr>\n",
       "      <th>max_rech_amt_7</th>\n",
       "      <td>0.019141</td>\n",
       "      <td>0.045985</td>\n",
       "      <td>0.014088</td>\n",
       "      <td>0.088283</td>\n",
       "      <td>0.089786</td>\n",
       "      <td>-0.033475</td>\n",
       "      <td>-0.003011</td>\n",
       "      <td>-0.010977</td>\n",
       "      <td>0.172986</td>\n",
       "      <td>0.333956</td>\n",
       "      <td>-0.073687</td>\n",
       "      <td>-0.041566</td>\n",
       "      <td>0.218331</td>\n",
       "      <td>-0.030399</td>\n",
       "      <td>0.084611</td>\n",
       "    </tr>\n",
       "    <tr>\n",
       "      <th>max_rech_amt_6</th>\n",
       "      <td>0.018307</td>\n",
       "      <td>0.032294</td>\n",
       "      <td>0.023543</td>\n",
       "      <td>0.048596</td>\n",
       "      <td>0.068737</td>\n",
       "      <td>0.015740</td>\n",
       "      <td>0.016057</td>\n",
       "      <td>0.072885</td>\n",
       "      <td>0.016136</td>\n",
       "      <td>0.429913</td>\n",
       "      <td>-0.143154</td>\n",
       "      <td>-0.198606</td>\n",
       "      <td>0.064378</td>\n",
       "      <td>-0.024647</td>\n",
       "      <td>-0.125953</td>\n",
       "    </tr>\n",
       "    <tr>\n",
       "      <th>loc_og_mou_8</th>\n",
       "      <td>0.047826</td>\n",
       "      <td>0.115056</td>\n",
       "      <td>0.125322</td>\n",
       "      <td>-0.053312</td>\n",
       "      <td>0.052305</td>\n",
       "      <td>0.351688</td>\n",
       "      <td>0.153778</td>\n",
       "      <td>-0.189408</td>\n",
       "      <td>0.134094</td>\n",
       "      <td>0.045719</td>\n",
       "      <td>0.093841</td>\n",
       "      <td>0.057684</td>\n",
       "      <td>-0.025767</td>\n",
       "      <td>-0.176278</td>\n",
       "      <td>-0.361916</td>\n",
       "    </tr>\n",
       "    <tr>\n",
       "      <th>last_day_rch_amt_7</th>\n",
       "      <td>0.012201</td>\n",
       "      <td>0.034333</td>\n",
       "      <td>0.006612</td>\n",
       "      <td>0.051806</td>\n",
       "      <td>0.048676</td>\n",
       "      <td>-0.009731</td>\n",
       "      <td>-0.000529</td>\n",
       "      <td>-0.015139</td>\n",
       "      <td>0.140579</td>\n",
       "      <td>0.244407</td>\n",
       "      <td>-0.056058</td>\n",
       "      <td>-0.024101</td>\n",
       "      <td>0.198654</td>\n",
       "      <td>-0.016297</td>\n",
       "      <td>0.085977</td>\n",
       "    </tr>\n",
       "    <tr>\n",
       "      <th>loc_og_t2m_mou_8</th>\n",
       "      <td>0.030707</td>\n",
       "      <td>0.071613</td>\n",
       "      <td>0.083833</td>\n",
       "      <td>-0.031176</td>\n",
       "      <td>0.043695</td>\n",
       "      <td>0.241456</td>\n",
       "      <td>-0.006811</td>\n",
       "      <td>-0.102907</td>\n",
       "      <td>0.103491</td>\n",
       "      <td>-0.033054</td>\n",
       "      <td>0.008583</td>\n",
       "      <td>-0.032783</td>\n",
       "      <td>0.049954</td>\n",
       "      <td>0.099395</td>\n",
       "      <td>-0.319764</td>\n",
       "    </tr>\n",
       "    <tr>\n",
       "      <th>last_day_rch_amt_6</th>\n",
       "      <td>0.012274</td>\n",
       "      <td>0.022232</td>\n",
       "      <td>0.010884</td>\n",
       "      <td>0.034679</td>\n",
       "      <td>0.037580</td>\n",
       "      <td>0.013555</td>\n",
       "      <td>0.010917</td>\n",
       "      <td>0.044602</td>\n",
       "      <td>-0.001320</td>\n",
       "      <td>0.304041</td>\n",
       "      <td>-0.121159</td>\n",
       "      <td>-0.158781</td>\n",
       "      <td>0.066429</td>\n",
       "      <td>-0.021284</td>\n",
       "      <td>-0.102748</td>\n",
       "    </tr>\n",
       "  </tbody>\n",
       "</table>\n",
       "</div>"
      ],
      "text/plain": [
       "                         PC1       PC2       PC3       PC4       PC5  \\\n",
       "total_rech_amt_8    0.042486  0.335126 -0.077322 -0.238724  0.522814   \n",
       "arpu_8              0.036608  0.286425 -0.062468 -0.160128  0.406235   \n",
       "total_rech_amt_7    0.038299  0.333589 -0.024301  0.462574  0.207101   \n",
       "arpu_7              0.033164  0.279988 -0.014885  0.375152  0.174247   \n",
       "max_rech_amt_8      0.021701  0.050965  0.006165 -0.028487  0.154659   \n",
       "last_day_rch_amt_8  0.017185  0.031822  0.008239 -0.021391  0.100064   \n",
       "max_rech_amt_7      0.019141  0.045985  0.014088  0.088283  0.089786   \n",
       "max_rech_amt_6      0.018307  0.032294  0.023543  0.048596  0.068737   \n",
       "loc_og_mou_8        0.047826  0.115056  0.125322 -0.053312  0.052305   \n",
       "last_day_rch_amt_7  0.012201  0.034333  0.006612  0.051806  0.048676   \n",
       "loc_og_t2m_mou_8    0.030707  0.071613  0.083833 -0.031176  0.043695   \n",
       "last_day_rch_amt_6  0.012274  0.022232  0.010884  0.034679  0.037580   \n",
       "\n",
       "                         PC6       PC7       PC8       PC9      PC10  \\\n",
       "total_rech_amt_8   -0.035066 -0.004039  0.105919 -0.404555 -0.123988   \n",
       "arpu_8             -0.030010 -0.008683  0.057156 -0.115804 -0.112472   \n",
       "total_rech_amt_7   -0.229784 -0.029364 -0.059455  0.447066 -0.095495   \n",
       "arpu_7             -0.180906 -0.016817 -0.009400  0.152088 -0.065213   \n",
       "max_rech_amt_8      0.004823  0.005195  0.032053 -0.139895  0.353966   \n",
       "last_day_rch_amt_8  0.016629  0.008904  0.020873 -0.087432  0.267461   \n",
       "max_rech_amt_7     -0.033475 -0.003011 -0.010977  0.172986  0.333956   \n",
       "max_rech_amt_6      0.015740  0.016057  0.072885  0.016136  0.429913   \n",
       "loc_og_mou_8        0.351688  0.153778 -0.189408  0.134094  0.045719   \n",
       "last_day_rch_amt_7 -0.009731 -0.000529 -0.015139  0.140579  0.244407   \n",
       "loc_og_t2m_mou_8    0.241456 -0.006811 -0.102907  0.103491 -0.033054   \n",
       "last_day_rch_amt_6  0.013555  0.010917  0.044602 -0.001320  0.304041   \n",
       "\n",
       "                        PC11      PC12      PC13      PC14      PC15  \n",
       "total_rech_amt_8   -0.061273 -0.070537 -0.129332 -0.022435 -0.006720  \n",
       "arpu_8              0.051495  0.076732  0.004592  0.019570  0.018359  \n",
       "total_rech_amt_7    0.077938  0.117589  0.079471 -0.007304  0.094039  \n",
       "arpu_7             -0.012825 -0.036900 -0.144406  0.002099 -0.121912  \n",
       "max_rech_amt_8     -0.159793 -0.167850  0.124372 -0.044621  0.052241  \n",
       "last_day_rch_amt_8 -0.126960 -0.143164  0.143089 -0.045959  0.072797  \n",
       "max_rech_amt_7     -0.073687 -0.041566  0.218331 -0.030399  0.084611  \n",
       "max_rech_amt_6     -0.143154 -0.198606  0.064378 -0.024647 -0.125953  \n",
       "loc_og_mou_8        0.093841  0.057684 -0.025767 -0.176278 -0.361916  \n",
       "last_day_rch_amt_7 -0.056058 -0.024101  0.198654 -0.016297  0.085977  \n",
       "loc_og_t2m_mou_8    0.008583 -0.032783  0.049954  0.099395 -0.319764  \n",
       "last_day_rch_amt_6 -0.121159 -0.158781  0.066429 -0.021284 -0.102748  "
      ]
     },
     "execution_count": 121,
     "metadata": {},
     "output_type": "execute_result"
    }
   ],
   "source": [
    "loading.sort_values(by=['PC5'],ascending = False).head(12)"
   ]
  },
  {
   "cell_type": "markdown",
   "id": "b3b5d06d",
   "metadata": {},
   "source": [
    "### std_og_mou_8,std_og_mou_7"
   ]
  },
  {
   "cell_type": "code",
   "execution_count": 122,
   "id": "1ddf4c3a",
   "metadata": {},
   "outputs": [],
   "source": [
    "from sklearn.decomposition import IncrementalPCA"
   ]
  },
  {
   "cell_type": "code",
   "execution_count": 123,
   "id": "c25244b5",
   "metadata": {},
   "outputs": [],
   "source": [
    "pca = PCA(n_components =15,random_state=42)"
   ]
  },
  {
   "cell_type": "code",
   "execution_count": 124,
   "id": "92f9a555",
   "metadata": {},
   "outputs": [],
   "source": [
    "X_train_PCA = pca.fit_transform(X_train)"
   ]
  },
  {
   "cell_type": "code",
   "execution_count": 125,
   "id": "3a42b183",
   "metadata": {},
   "outputs": [
    {
     "data": {
      "text/plain": [
       "(52499, 15)"
      ]
     },
     "execution_count": 125,
     "metadata": {},
     "output_type": "execute_result"
    }
   ],
   "source": [
    "X_train_PCA.shape"
   ]
  },
  {
   "cell_type": "code",
   "execution_count": 126,
   "id": "16a6b9fb",
   "metadata": {},
   "outputs": [],
   "source": [
    "# pca_final = IncrementalPCA(n_components=15)\n",
    "# X_train_pca = pca_final.fit_transform(X_train)"
   ]
  },
  {
   "cell_type": "code",
   "execution_count": 127,
   "id": "630ab195",
   "metadata": {},
   "outputs": [],
   "source": [
    "corrmat = np.corrcoef(X_train_PCA.transpose())"
   ]
  },
  {
   "cell_type": "code",
   "execution_count": 128,
   "id": "d5100270",
   "metadata": {},
   "outputs": [
    {
     "data": {
      "text/plain": [
       "<Axes: >"
      ]
     },
     "execution_count": 128,
     "metadata": {},
     "output_type": "execute_result"
    },
    {
     "data": {
      "image/png": "[encoded data removed]",
      "text/plain": [
       "<Figure size 1500x1500 with 2 Axes>"
      ]
     },
     "metadata": {},
     "output_type": "display_data"
    }
   ],
   "source": [
    "plt.figure(figsize=[15,15])\n",
    "sns.heatmap(corrmat, annot=True)"
   ]
  },
  {
   "cell_type": "markdown",
   "id": "cfcaad53",
   "metadata": {},
   "source": [
    "### Scaling and LogisticRegression"
   ]
  },
  {
   "cell_type": "code",
   "execution_count": 129,
   "id": "3e81203e",
   "metadata": {},
   "outputs": [],
   "source": [
    "from sklearn.preprocessing import StandardScaler\n",
    "from sklearn.linear_model import LogisticRegressionCV\n",
    "steps = [('Standard Scaler',StandardScaler()),('Logistic Regression CV',\n",
    "                                               LogisticRegressionCV(cv=3,max_iter=1000,random_state=42))]\n",
    "                                                                    #,solver='saga',penalty='l2'))]"
   ]
  },
  {
   "cell_type": "code",
   "execution_count": 130,
   "id": "84da7124",
   "metadata": {},
   "outputs": [
    {
     "data": {
      "text/html": [
       "<style>#sk-container-id-8 {color: black;}#sk-container-id-8 pre{padding: 0;}#sk-container-id-8 div.sk-toggleable {background-color: white;}#sk-container-id-8 label.sk-toggleable__label {cursor: pointer;display: block;width: 100%;margin-bottom: 0;padding: 0.3em;box-sizing: border-box;text-align: center;}#sk-container-id-8 label.sk-toggleable__label-arrow:before {content: \"▸\";float: left;margin-right: 0.25em;color: #696969;}#sk-container-id-8 label.sk-toggleable__label-arrow:hover:before {color: black;}#sk-container-id-8 div.sk-estimator:hover label.sk-toggleable__label-arrow:before {color: black;}#sk-container-id-8 div.sk-toggleable__content {max-height: 0;max-width: 0;overflow: hidden;text-align: left;background-color: #f0f8ff;}#sk-container-id-8 div.sk-toggleable__content pre {margin: 0.2em;color: black;border-radius: 0.25em;background-color: #f0f8ff;}#sk-container-id-8 input.sk-toggleable__control:checked~div.sk-toggleable__content {max-height: 200px;max-width: 100%;overflow: auto;}#sk-container-id-8 input.sk-toggleable__control:checked~label.sk-toggleable__label-arrow:before {content: \"▾\";}#sk-container-id-8 div.sk-estimator input.sk-toggleable__control:checked~label.sk-toggleable__label {background-color: #d4ebff;}#sk-container-id-8 div.sk-label input.sk-toggleable__control:checked~label.sk-toggleable__label {background-color: #d4ebff;}#sk-container-id-8 input.sk-hidden--visually {border: 0;clip: rect(1px 1px 1px 1px);clip: rect(1px, 1px, 1px, 1px);height: 1px;margin: -1px;overflow: hidden;padding: 0;position: absolute;width: 1px;}#sk-container-id-8 div.sk-estimator {font-family: monospace;background-color: #f0f8ff;border: 1px dotted black;border-radius: 0.25em;box-sizing: border-box;margin-bottom: 0.5em;}#sk-container-id-8 div.sk-estimator:hover {background-color: #d4ebff;}#sk-container-id-8 div.sk-parallel-item::after {content: \"\";width: 100%;border-bottom: 1px solid gray;flex-grow: 1;}#sk-container-id-8 div.sk-label:hover label.sk-toggleable__label {background-color: #d4ebff;}#sk-container-id-8 div.sk-serial::before {content: \"\";position: absolute;border-left: 1px solid gray;box-sizing: border-box;top: 0;bottom: 0;left: 50%;z-index: 0;}#sk-container-id-8 div.sk-serial {display: flex;flex-direction: column;align-items: center;background-color: white;padding-right: 0.2em;padding-left: 0.2em;position: relative;}#sk-container-id-8 div.sk-item {position: relative;z-index: 1;}#sk-container-id-8 div.sk-parallel {display: flex;align-items: stretch;justify-content: center;background-color: white;position: relative;}#sk-container-id-8 div.sk-item::before, #sk-container-id-8 div.sk-parallel-item::before {content: \"\";position: absolute;border-left: 1px solid gray;box-sizing: border-box;top: 0;bottom: 0;left: 50%;z-index: -1;}#sk-container-id-8 div.sk-parallel-item {display: flex;flex-direction: column;z-index: 1;position: relative;background-color: white;}#sk-container-id-8 div.sk-parallel-item:first-child::after {align-self: flex-end;width: 50%;}#sk-container-id-8 div.sk-parallel-item:last-child::after {align-self: flex-start;width: 50%;}#sk-container-id-8 div.sk-parallel-item:only-child::after {width: 0;}#sk-container-id-8 div.sk-dashed-wrapped {border: 1px dashed gray;margin: 0 0.4em 0.5em 0.4em;box-sizing: border-box;padding-bottom: 0.4em;background-color: white;}#sk-container-id-8 div.sk-label label {font-family: monospace;font-weight: bold;display: inline-block;line-height: 1.2em;}#sk-container-id-8 div.sk-label-container {text-align: center;}#sk-container-id-8 div.sk-container {/* jupyter's `normalize.less` sets `[hidden] { display: none; }` but bootstrap.min.css set `[hidden] { display: none !important; }` so we also need the `!important` here to be able to override the default hidden behavior on the sphinx rendered scikit-learn.org. See: https://github.com/scikit-learn/scikit-learn/issues/21755 */display: inline-block !important;position: relative;}#sk-container-id-8 div.sk-text-repr-fallback {display: none;}</style><div id=\"sk-container-id-8\" class=\"sk-top-container\"><div class=\"sk-text-repr-fallback\"><pre>Pipeline(steps=[(&#x27;Standard Scaler&#x27;, StandardScaler()),\n",
       "                (&#x27;Logistic Regression CV&#x27;,\n",
       "                 LogisticRegressionCV(cv=3, max_iter=1000, random_state=42))])</pre><b>In a Jupyter environment, please rerun this cell to show the HTML representation or trust the notebook. <br />On GitHub, the HTML representation is unable to render, please try loading this page with nbviewer.org.</b></div><div class=\"sk-container\" hidden><div class=\"sk-item sk-dashed-wrapped\"><div class=\"sk-label-container\"><div class=\"sk-label sk-toggleable\"><input class=\"sk-toggleable__control sk-hidden--visually\" id=\"sk-estimator-id-49\" type=\"checkbox\" ><label for=\"sk-estimator-id-49\" class=\"sk-toggleable__label sk-toggleable__label-arrow\">Pipeline</label><div class=\"sk-toggleable__content\"><pre>Pipeline(steps=[(&#x27;Standard Scaler&#x27;, StandardScaler()),\n",
       "                (&#x27;Logistic Regression CV&#x27;,\n",
       "                 LogisticRegressionCV(cv=3, max_iter=1000, random_state=42))])</pre></div></div></div><div class=\"sk-serial\"><div class=\"sk-item\"><div class=\"sk-estimator sk-toggleable\"><input class=\"sk-toggleable__control sk-hidden--visually\" id=\"sk-estimator-id-50\" type=\"checkbox\" ><label for=\"sk-estimator-id-50\" class=\"sk-toggleable__label sk-toggleable__label-arrow\">StandardScaler</label><div class=\"sk-toggleable__content\"><pre>StandardScaler()</pre></div></div></div><div class=\"sk-item\"><div class=\"sk-estimator sk-toggleable\"><input class=\"sk-toggleable__control sk-hidden--visually\" id=\"sk-estimator-id-51\" type=\"checkbox\" ><label for=\"sk-estimator-id-51\" class=\"sk-toggleable__label sk-toggleable__label-arrow\">LogisticRegressionCV</label><div class=\"sk-toggleable__content\"><pre>LogisticRegressionCV(cv=3, max_iter=1000, random_state=42)</pre></div></div></div></div></div></div></div>"
      ],
      "text/plain": [
       "Pipeline(steps=[('Standard Scaler', StandardScaler()),\n",
       "                ('Logistic Regression CV',\n",
       "                 LogisticRegressionCV(cv=3, max_iter=1000, random_state=42))])"
      ]
     },
     "execution_count": 130,
     "metadata": {},
     "output_type": "execute_result"
    }
   ],
   "source": [
    "pipe = Pipeline(steps)\n",
    "pipe"
   ]
  },
  {
   "cell_type": "code",
   "execution_count": 131,
   "id": "139df608",
   "metadata": {},
   "outputs": [],
   "source": [
    "#scaler.fit_transform(data)"
   ]
  },
  {
   "cell_type": "code",
   "execution_count": 132,
   "id": "f92da5fa",
   "metadata": {},
   "outputs": [
    {
     "data": {
      "text/plain": [
       "(17500, 15)"
      ]
     },
     "execution_count": 132,
     "metadata": {},
     "output_type": "execute_result"
    }
   ],
   "source": [
    "## Applying PCA transformation on test set\n",
    "X_test_pca = pca.transform(X_test)\n",
    "X_test_pca.shape"
   ]
  },
  {
   "cell_type": "code",
   "execution_count": 133,
   "id": "5036fd86",
   "metadata": {},
   "outputs": [
    {
     "data": {
      "text/plain": [
       "(30000, 15)"
      ]
     },
     "execution_count": 133,
     "metadata": {},
     "output_type": "execute_result"
    }
   ],
   "source": [
    "## Applying PCA transformation on Unseen set\n",
    "unseen_pca = pca.transform(unseen)\n",
    "unseen_pca.shape"
   ]
  },
  {
   "cell_type": "code",
   "execution_count": 134,
   "id": "53f6d0cd",
   "metadata": {},
   "outputs": [
    {
     "name": "stdout",
     "output_type": "stream",
     "text": [
      "(52499, 15)\n",
      "(17500, 15)\n",
      "(30000, 15)\n"
     ]
    }
   ],
   "source": [
    "print(X_train_PCA.shape)\n",
    "print(X_test_pca.shape)\n",
    "print(unseen_pca.shape)"
   ]
  },
  {
   "cell_type": "markdown",
   "id": "102e0948",
   "metadata": {},
   "source": [
    "## Logistic Regression"
   ]
  },
  {
   "cell_type": "code",
   "execution_count": 135,
   "id": "d1788d95",
   "metadata": {},
   "outputs": [
    {
     "data": {
      "text/html": [
       "<style>#sk-container-id-9 {color: black;}#sk-container-id-9 pre{padding: 0;}#sk-container-id-9 div.sk-toggleable {background-color: white;}#sk-container-id-9 label.sk-toggleable__label {cursor: pointer;display: block;width: 100%;margin-bottom: 0;padding: 0.3em;box-sizing: border-box;text-align: center;}#sk-container-id-9 label.sk-toggleable__label-arrow:before {content: \"▸\";float: left;margin-right: 0.25em;color: #696969;}#sk-container-id-9 label.sk-toggleable__label-arrow:hover:before {color: black;}#sk-container-id-9 div.sk-estimator:hover label.sk-toggleable__label-arrow:before {color: black;}#sk-container-id-9 div.sk-toggleable__content {max-height: 0;max-width: 0;overflow: hidden;text-align: left;background-color: #f0f8ff;}#sk-container-id-9 div.sk-toggleable__content pre {margin: 0.2em;color: black;border-radius: 0.25em;background-color: #f0f8ff;}#sk-container-id-9 input.sk-toggleable__control:checked~div.sk-toggleable__content {max-height: 200px;max-width: 100%;overflow: auto;}#sk-container-id-9 input.sk-toggleable__control:checked~label.sk-toggleable__label-arrow:before {content: \"▾\";}#sk-container-id-9 div.sk-estimator input.sk-toggleable__control:checked~label.sk-toggleable__label {background-color: #d4ebff;}#sk-container-id-9 div.sk-label input.sk-toggleable__control:checked~label.sk-toggleable__label {background-color: #d4ebff;}#sk-container-id-9 input.sk-hidden--visually {border: 0;clip: rect(1px 1px 1px 1px);clip: rect(1px, 1px, 1px, 1px);height: 1px;margin: -1px;overflow: hidden;padding: 0;position: absolute;width: 1px;}#sk-container-id-9 div.sk-estimator {font-family: monospace;background-color: #f0f8ff;border: 1px dotted black;border-radius: 0.25em;box-sizing: border-box;margin-bottom: 0.5em;}#sk-container-id-9 div.sk-estimator:hover {background-color: #d4ebff;}#sk-container-id-9 div.sk-parallel-item::after {content: \"\";width: 100%;border-bottom: 1px solid gray;flex-grow: 1;}#sk-container-id-9 div.sk-label:hover label.sk-toggleable__label {background-color: #d4ebff;}#sk-container-id-9 div.sk-serial::before {content: \"\";position: absolute;border-left: 1px solid gray;box-sizing: border-box;top: 0;bottom: 0;left: 50%;z-index: 0;}#sk-container-id-9 div.sk-serial {display: flex;flex-direction: column;align-items: center;background-color: white;padding-right: 0.2em;padding-left: 0.2em;position: relative;}#sk-container-id-9 div.sk-item {position: relative;z-index: 1;}#sk-container-id-9 div.sk-parallel {display: flex;align-items: stretch;justify-content: center;background-color: white;position: relative;}#sk-container-id-9 div.sk-item::before, #sk-container-id-9 div.sk-parallel-item::before {content: \"\";position: absolute;border-left: 1px solid gray;box-sizing: border-box;top: 0;bottom: 0;left: 50%;z-index: -1;}#sk-container-id-9 div.sk-parallel-item {display: flex;flex-direction: column;z-index: 1;position: relative;background-color: white;}#sk-container-id-9 div.sk-parallel-item:first-child::after {align-self: flex-end;width: 50%;}#sk-container-id-9 div.sk-parallel-item:last-child::after {align-self: flex-start;width: 50%;}#sk-container-id-9 div.sk-parallel-item:only-child::after {width: 0;}#sk-container-id-9 div.sk-dashed-wrapped {border: 1px dashed gray;margin: 0 0.4em 0.5em 0.4em;box-sizing: border-box;padding-bottom: 0.4em;background-color: white;}#sk-container-id-9 div.sk-label label {font-family: monospace;font-weight: bold;display: inline-block;line-height: 1.2em;}#sk-container-id-9 div.sk-label-container {text-align: center;}#sk-container-id-9 div.sk-container {/* jupyter's `normalize.less` sets `[hidden] { display: none; }` but bootstrap.min.css set `[hidden] { display: none !important; }` so we also need the `!important` here to be able to override the default hidden behavior on the sphinx rendered scikit-learn.org. See: https://github.com/scikit-learn/scikit-learn/issues/21755 */display: inline-block !important;position: relative;}#sk-container-id-9 div.sk-text-repr-fallback {display: none;}</style><div id=\"sk-container-id-9\" class=\"sk-top-container\"><div class=\"sk-text-repr-fallback\"><pre>Pipeline(steps=[(&#x27;Standard Scaler&#x27;, StandardScaler()),\n",
       "                (&#x27;Logistic Regression CV&#x27;,\n",
       "                 LogisticRegressionCV(cv=3, max_iter=1000, random_state=42))])</pre><b>In a Jupyter environment, please rerun this cell to show the HTML representation or trust the notebook. <br />On GitHub, the HTML representation is unable to render, please try loading this page with nbviewer.org.</b></div><div class=\"sk-container\" hidden><div class=\"sk-item sk-dashed-wrapped\"><div class=\"sk-label-container\"><div class=\"sk-label sk-toggleable\"><input class=\"sk-toggleable__control sk-hidden--visually\" id=\"sk-estimator-id-52\" type=\"checkbox\" ><label for=\"sk-estimator-id-52\" class=\"sk-toggleable__label sk-toggleable__label-arrow\">Pipeline</label><div class=\"sk-toggleable__content\"><pre>Pipeline(steps=[(&#x27;Standard Scaler&#x27;, StandardScaler()),\n",
       "                (&#x27;Logistic Regression CV&#x27;,\n",
       "                 LogisticRegressionCV(cv=3, max_iter=1000, random_state=42))])</pre></div></div></div><div class=\"sk-serial\"><div class=\"sk-item\"><div class=\"sk-estimator sk-toggleable\"><input class=\"sk-toggleable__control sk-hidden--visually\" id=\"sk-estimator-id-53\" type=\"checkbox\" ><label for=\"sk-estimator-id-53\" class=\"sk-toggleable__label sk-toggleable__label-arrow\">StandardScaler</label><div class=\"sk-toggleable__content\"><pre>StandardScaler()</pre></div></div></div><div class=\"sk-item\"><div class=\"sk-estimator sk-toggleable\"><input class=\"sk-toggleable__control sk-hidden--visually\" id=\"sk-estimator-id-54\" type=\"checkbox\" ><label for=\"sk-estimator-id-54\" class=\"sk-toggleable__label sk-toggleable__label-arrow\">LogisticRegressionCV</label><div class=\"sk-toggleable__content\"><pre>LogisticRegressionCV(cv=3, max_iter=1000, random_state=42)</pre></div></div></div></div></div></div></div>"
      ],
      "text/plain": [
       "Pipeline(steps=[('Standard Scaler', StandardScaler()),\n",
       "                ('Logistic Regression CV',\n",
       "                 LogisticRegressionCV(cv=3, max_iter=1000, random_state=42))])"
      ]
     },
     "execution_count": 135,
     "metadata": {},
     "output_type": "execute_result"
    }
   ],
   "source": [
    "pipe.fit(X_train_PCA,y_train)"
   ]
  },
  {
   "cell_type": "code",
   "execution_count": null,
   "id": "c9803209",
   "metadata": {},
   "outputs": [],
   "source": []
  },
  {
   "cell_type": "code",
   "execution_count": 136,
   "id": "dba574b8",
   "metadata": {},
   "outputs": [
    {
     "data": {
      "text/plain": [
       "array([0, 0, 0, ..., 0, 0, 0], dtype=int64)"
      ]
     },
     "execution_count": 136,
     "metadata": {},
     "output_type": "execute_result"
    }
   ],
   "source": [
    "pred_probs_test= pipe.predict(X_test_pca) #X_test_pca\n",
    "pred_probs_test"
   ]
  },
  {
   "cell_type": "code",
   "execution_count": null,
   "id": "2ba41314",
   "metadata": {},
   "outputs": [],
   "source": []
  },
  {
   "cell_type": "code",
   "execution_count": 137,
   "id": "0cf99e36",
   "metadata": {},
   "outputs": [],
   "source": [
    "from sklearn import metrics"
   ]
  },
  {
   "cell_type": "markdown",
   "id": "525fe6d3",
   "metadata": {},
   "source": [
    "### Accuracy Score ---> Accuracy is simply the ratio of correct prediction"
   ]
  },
  {
   "cell_type": "code",
   "execution_count": 138,
   "id": "b5232567",
   "metadata": {},
   "outputs": [
    {
     "data": {
      "text/plain": [
       "0.93"
      ]
     },
     "execution_count": 138,
     "metadata": {},
     "output_type": "execute_result"
    }
   ],
   "source": [
    "round(metrics.accuracy_score(y_test, pred_probs_test),2)"
   ]
  },
  {
   "cell_type": "code",
   "execution_count": null,
   "id": "ab79416f",
   "metadata": {},
   "outputs": [],
   "source": []
  },
  {
   "cell_type": "markdown",
   "id": "fe108355",
   "metadata": {},
   "source": [
    "### ROC Score --> ROC is relation between True positive rate and false Positive rate"
   ]
  },
  {
   "cell_type": "code",
   "execution_count": 139,
   "id": "b74db0dc",
   "metadata": {},
   "outputs": [
    {
     "data": {
      "text/plain": [
       "0.7"
      ]
     },
     "execution_count": 139,
     "metadata": {},
     "output_type": "execute_result"
    }
   ],
   "source": [
    "round(metrics.roc_auc_score(y_test, pred_probs_test),2) "
   ]
  },
  {
   "cell_type": "code",
   "execution_count": 140,
   "id": "3ecf4117",
   "metadata": {},
   "outputs": [
    {
     "data": {
      "text/plain": [
       "array([[15549,   199],\n",
       "       [ 1027,   725]], dtype=int64)"
      ]
     },
     "execution_count": 140,
     "metadata": {},
     "output_type": "execute_result"
    }
   ],
   "source": [
    "confusion2 = metrics.confusion_matrix(y_test, pred_probs_test)\n",
    "confusion2"
   ]
  },
  {
   "cell_type": "markdown",
   "id": "0b1155aa",
   "metadata": {},
   "source": [
    "## Support Vectore Machine SVM"
   ]
  },
  {
   "cell_type": "code",
   "execution_count": 282,
   "id": "9aad8b4a",
   "metadata": {},
   "outputs": [],
   "source": [
    "from sklearn.svm import SVC"
   ]
  },
  {
   "cell_type": "code",
   "execution_count": 283,
   "id": "d197d9f6",
   "metadata": {},
   "outputs": [],
   "source": [
    "steps_SVC = [('Standard Scaler',StandardScaler()),('SVC',SVC())]"
   ]
  },
  {
   "cell_type": "code",
   "execution_count": 284,
   "id": "ecea361a",
   "metadata": {},
   "outputs": [
    {
     "data": {
      "text/html": [
       "<style>#sk-container-id-27 {color: black;}#sk-container-id-27 pre{padding: 0;}#sk-container-id-27 div.sk-toggleable {background-color: white;}#sk-container-id-27 label.sk-toggleable__label {cursor: pointer;display: block;width: 100%;margin-bottom: 0;padding: 0.3em;box-sizing: border-box;text-align: center;}#sk-container-id-27 label.sk-toggleable__label-arrow:before {content: \"▸\";float: left;margin-right: 0.25em;color: #696969;}#sk-container-id-27 label.sk-toggleable__label-arrow:hover:before {color: black;}#sk-container-id-27 div.sk-estimator:hover label.sk-toggleable__label-arrow:before {color: black;}#sk-container-id-27 div.sk-toggleable__content {max-height: 0;max-width: 0;overflow: hidden;text-align: left;background-color: #f0f8ff;}#sk-container-id-27 div.sk-toggleable__content pre {margin: 0.2em;color: black;border-radius: 0.25em;background-color: #f0f8ff;}#sk-container-id-27 input.sk-toggleable__control:checked~div.sk-toggleable__content {max-height: 200px;max-width: 100%;overflow: auto;}#sk-container-id-27 input.sk-toggleable__control:checked~label.sk-toggleable__label-arrow:before {content: \"▾\";}#sk-container-id-27 div.sk-estimator input.sk-toggleable__control:checked~label.sk-toggleable__label {background-color: #d4ebff;}#sk-container-id-27 div.sk-label input.sk-toggleable__control:checked~label.sk-toggleable__label {background-color: #d4ebff;}#sk-container-id-27 input.sk-hidden--visually {border: 0;clip: rect(1px 1px 1px 1px);clip: rect(1px, 1px, 1px, 1px);height: 1px;margin: -1px;overflow: hidden;padding: 0;position: absolute;width: 1px;}#sk-container-id-27 div.sk-estimator {font-family: monospace;background-color: #f0f8ff;border: 1px dotted black;border-radius: 0.25em;box-sizing: border-box;margin-bottom: 0.5em;}#sk-container-id-27 div.sk-estimator:hover {background-color: #d4ebff;}#sk-container-id-27 div.sk-parallel-item::after {content: \"\";width: 100%;border-bottom: 1px solid gray;flex-grow: 1;}#sk-container-id-27 div.sk-label:hover label.sk-toggleable__label {background-color: #d4ebff;}#sk-container-id-27 div.sk-serial::before {content: \"\";position: absolute;border-left: 1px solid gray;box-sizing: border-box;top: 0;bottom: 0;left: 50%;z-index: 0;}#sk-container-id-27 div.sk-serial {display: flex;flex-direction: column;align-items: center;background-color: white;padding-right: 0.2em;padding-left: 0.2em;position: relative;}#sk-container-id-27 div.sk-item {position: relative;z-index: 1;}#sk-container-id-27 div.sk-parallel {display: flex;align-items: stretch;justify-content: center;background-color: white;position: relative;}#sk-container-id-27 div.sk-item::before, #sk-container-id-27 div.sk-parallel-item::before {content: \"\";position: absolute;border-left: 1px solid gray;box-sizing: border-box;top: 0;bottom: 0;left: 50%;z-index: -1;}#sk-container-id-27 div.sk-parallel-item {display: flex;flex-direction: column;z-index: 1;position: relative;background-color: white;}#sk-container-id-27 div.sk-parallel-item:first-child::after {align-self: flex-end;width: 50%;}#sk-container-id-27 div.sk-parallel-item:last-child::after {align-self: flex-start;width: 50%;}#sk-container-id-27 div.sk-parallel-item:only-child::after {width: 0;}#sk-container-id-27 div.sk-dashed-wrapped {border: 1px dashed gray;margin: 0 0.4em 0.5em 0.4em;box-sizing: border-box;padding-bottom: 0.4em;background-color: white;}#sk-container-id-27 div.sk-label label {font-family: monospace;font-weight: bold;display: inline-block;line-height: 1.2em;}#sk-container-id-27 div.sk-label-container {text-align: center;}#sk-container-id-27 div.sk-container {/* jupyter's `normalize.less` sets `[hidden] { display: none; }` but bootstrap.min.css set `[hidden] { display: none !important; }` so we also need the `!important` here to be able to override the default hidden behavior on the sphinx rendered scikit-learn.org. See: https://github.com/scikit-learn/scikit-learn/issues/21755 */display: inline-block !important;position: relative;}#sk-container-id-27 div.sk-text-repr-fallback {display: none;}</style><div id=\"sk-container-id-27\" class=\"sk-top-container\"><div class=\"sk-text-repr-fallback\"><pre>Pipeline(steps=[(&#x27;Standard Scaler&#x27;, StandardScaler()), (&#x27;SVC&#x27;, SVC())])</pre><b>In a Jupyter environment, please rerun this cell to show the HTML representation or trust the notebook. <br />On GitHub, the HTML representation is unable to render, please try loading this page with nbviewer.org.</b></div><div class=\"sk-container\" hidden><div class=\"sk-item sk-dashed-wrapped\"><div class=\"sk-label-container\"><div class=\"sk-label sk-toggleable\"><input class=\"sk-toggleable__control sk-hidden--visually\" id=\"sk-estimator-id-124\" type=\"checkbox\" ><label for=\"sk-estimator-id-124\" class=\"sk-toggleable__label sk-toggleable__label-arrow\">Pipeline</label><div class=\"sk-toggleable__content\"><pre>Pipeline(steps=[(&#x27;Standard Scaler&#x27;, StandardScaler()), (&#x27;SVC&#x27;, SVC())])</pre></div></div></div><div class=\"sk-serial\"><div class=\"sk-item\"><div class=\"sk-estimator sk-toggleable\"><input class=\"sk-toggleable__control sk-hidden--visually\" id=\"sk-estimator-id-125\" type=\"checkbox\" ><label for=\"sk-estimator-id-125\" class=\"sk-toggleable__label sk-toggleable__label-arrow\">StandardScaler</label><div class=\"sk-toggleable__content\"><pre>StandardScaler()</pre></div></div></div><div class=\"sk-item\"><div class=\"sk-estimator sk-toggleable\"><input class=\"sk-toggleable__control sk-hidden--visually\" id=\"sk-estimator-id-126\" type=\"checkbox\" ><label for=\"sk-estimator-id-126\" class=\"sk-toggleable__label sk-toggleable__label-arrow\">SVC</label><div class=\"sk-toggleable__content\"><pre>SVC()</pre></div></div></div></div></div></div></div>"
      ],
      "text/plain": [
       "Pipeline(steps=[('Standard Scaler', StandardScaler()), ('SVC', SVC())])"
      ]
     },
     "execution_count": 284,
     "metadata": {},
     "output_type": "execute_result"
    }
   ],
   "source": [
    "pipe_SVC = Pipeline(steps_SVC)\n",
    "pipe_SVC"
   ]
  },
  {
   "cell_type": "code",
   "execution_count": 285,
   "id": "904b64ad",
   "metadata": {},
   "outputs": [
    {
     "data": {
      "text/html": [
       "<style>#sk-container-id-28 {color: black;}#sk-container-id-28 pre{padding: 0;}#sk-container-id-28 div.sk-toggleable {background-color: white;}#sk-container-id-28 label.sk-toggleable__label {cursor: pointer;display: block;width: 100%;margin-bottom: 0;padding: 0.3em;box-sizing: border-box;text-align: center;}#sk-container-id-28 label.sk-toggleable__label-arrow:before {content: \"▸\";float: left;margin-right: 0.25em;color: #696969;}#sk-container-id-28 label.sk-toggleable__label-arrow:hover:before {color: black;}#sk-container-id-28 div.sk-estimator:hover label.sk-toggleable__label-arrow:before {color: black;}#sk-container-id-28 div.sk-toggleable__content {max-height: 0;max-width: 0;overflow: hidden;text-align: left;background-color: #f0f8ff;}#sk-container-id-28 div.sk-toggleable__content pre {margin: 0.2em;color: black;border-radius: 0.25em;background-color: #f0f8ff;}#sk-container-id-28 input.sk-toggleable__control:checked~div.sk-toggleable__content {max-height: 200px;max-width: 100%;overflow: auto;}#sk-container-id-28 input.sk-toggleable__control:checked~label.sk-toggleable__label-arrow:before {content: \"▾\";}#sk-container-id-28 div.sk-estimator input.sk-toggleable__control:checked~label.sk-toggleable__label {background-color: #d4ebff;}#sk-container-id-28 div.sk-label input.sk-toggleable__control:checked~label.sk-toggleable__label {background-color: #d4ebff;}#sk-container-id-28 input.sk-hidden--visually {border: 0;clip: rect(1px 1px 1px 1px);clip: rect(1px, 1px, 1px, 1px);height: 1px;margin: -1px;overflow: hidden;padding: 0;position: absolute;width: 1px;}#sk-container-id-28 div.sk-estimator {font-family: monospace;background-color: #f0f8ff;border: 1px dotted black;border-radius: 0.25em;box-sizing: border-box;margin-bottom: 0.5em;}#sk-container-id-28 div.sk-estimator:hover {background-color: #d4ebff;}#sk-container-id-28 div.sk-parallel-item::after {content: \"\";width: 100%;border-bottom: 1px solid gray;flex-grow: 1;}#sk-container-id-28 div.sk-label:hover label.sk-toggleable__label {background-color: #d4ebff;}#sk-container-id-28 div.sk-serial::before {content: \"\";position: absolute;border-left: 1px solid gray;box-sizing: border-box;top: 0;bottom: 0;left: 50%;z-index: 0;}#sk-container-id-28 div.sk-serial {display: flex;flex-direction: column;align-items: center;background-color: white;padding-right: 0.2em;padding-left: 0.2em;position: relative;}#sk-container-id-28 div.sk-item {position: relative;z-index: 1;}#sk-container-id-28 div.sk-parallel {display: flex;align-items: stretch;justify-content: center;background-color: white;position: relative;}#sk-container-id-28 div.sk-item::before, #sk-container-id-28 div.sk-parallel-item::before {content: \"\";position: absolute;border-left: 1px solid gray;box-sizing: border-box;top: 0;bottom: 0;left: 50%;z-index: -1;}#sk-container-id-28 div.sk-parallel-item {display: flex;flex-direction: column;z-index: 1;position: relative;background-color: white;}#sk-container-id-28 div.sk-parallel-item:first-child::after {align-self: flex-end;width: 50%;}#sk-container-id-28 div.sk-parallel-item:last-child::after {align-self: flex-start;width: 50%;}#sk-container-id-28 div.sk-parallel-item:only-child::after {width: 0;}#sk-container-id-28 div.sk-dashed-wrapped {border: 1px dashed gray;margin: 0 0.4em 0.5em 0.4em;box-sizing: border-box;padding-bottom: 0.4em;background-color: white;}#sk-container-id-28 div.sk-label label {font-family: monospace;font-weight: bold;display: inline-block;line-height: 1.2em;}#sk-container-id-28 div.sk-label-container {text-align: center;}#sk-container-id-28 div.sk-container {/* jupyter's `normalize.less` sets `[hidden] { display: none; }` but bootstrap.min.css set `[hidden] { display: none !important; }` so we also need the `!important` here to be able to override the default hidden behavior on the sphinx rendered scikit-learn.org. See: https://github.com/scikit-learn/scikit-learn/issues/21755 */display: inline-block !important;position: relative;}#sk-container-id-28 div.sk-text-repr-fallback {display: none;}</style><div id=\"sk-container-id-28\" class=\"sk-top-container\"><div class=\"sk-text-repr-fallback\"><pre>Pipeline(steps=[(&#x27;Standard Scaler&#x27;, StandardScaler()), (&#x27;SVC&#x27;, SVC())])</pre><b>In a Jupyter environment, please rerun this cell to show the HTML representation or trust the notebook. <br />On GitHub, the HTML representation is unable to render, please try loading this page with nbviewer.org.</b></div><div class=\"sk-container\" hidden><div class=\"sk-item sk-dashed-wrapped\"><div class=\"sk-label-container\"><div class=\"sk-label sk-toggleable\"><input class=\"sk-toggleable__control sk-hidden--visually\" id=\"sk-estimator-id-127\" type=\"checkbox\" ><label for=\"sk-estimator-id-127\" class=\"sk-toggleable__label sk-toggleable__label-arrow\">Pipeline</label><div class=\"sk-toggleable__content\"><pre>Pipeline(steps=[(&#x27;Standard Scaler&#x27;, StandardScaler()), (&#x27;SVC&#x27;, SVC())])</pre></div></div></div><div class=\"sk-serial\"><div class=\"sk-item\"><div class=\"sk-estimator sk-toggleable\"><input class=\"sk-toggleable__control sk-hidden--visually\" id=\"sk-estimator-id-128\" type=\"checkbox\" ><label for=\"sk-estimator-id-128\" class=\"sk-toggleable__label sk-toggleable__label-arrow\">StandardScaler</label><div class=\"sk-toggleable__content\"><pre>StandardScaler()</pre></div></div></div><div class=\"sk-item\"><div class=\"sk-estimator sk-toggleable\"><input class=\"sk-toggleable__control sk-hidden--visually\" id=\"sk-estimator-id-129\" type=\"checkbox\" ><label for=\"sk-estimator-id-129\" class=\"sk-toggleable__label sk-toggleable__label-arrow\">SVC</label><div class=\"sk-toggleable__content\"><pre>SVC()</pre></div></div></div></div></div></div></div>"
      ],
      "text/plain": [
       "Pipeline(steps=[('Standard Scaler', StandardScaler()), ('SVC', SVC())])"
      ]
     },
     "execution_count": 285,
     "metadata": {},
     "output_type": "execute_result"
    }
   ],
   "source": [
    "pipe_SVC.fit(X_train_PCA,y_train)"
   ]
  },
  {
   "cell_type": "code",
   "execution_count": 281,
   "id": "589796cc",
   "metadata": {},
   "outputs": [
    {
     "data": {
      "text/plain": [
       "array([0, 0, 0, ..., 0, 0, 0], dtype=int64)"
      ]
     },
     "execution_count": 281,
     "metadata": {},
     "output_type": "execute_result"
    }
   ],
   "source": [
    "pred_SVC= pipe_SVC.predict(X_test_pca) #X_test_pca\n",
    "pred_SVC"
   ]
  },
  {
   "cell_type": "code",
   "execution_count": 286,
   "id": "3c960498",
   "metadata": {},
   "outputs": [
    {
     "data": {
      "text/plain": [
       "array([0, 0, 0, ..., 0, 0, 0], dtype=int64)"
      ]
     },
     "execution_count": 286,
     "metadata": {},
     "output_type": "execute_result"
    }
   ],
   "source": [
    "pred_unseen_SVC= pipe_SVC.predict(X_test_pca) #X_test_pca\n",
    "pred_unseen_SVC"
   ]
  },
  {
   "cell_type": "code",
   "execution_count": null,
   "id": "631c5c59",
   "metadata": {},
   "outputs": [],
   "source": []
  },
  {
   "cell_type": "markdown",
   "id": "3b31f509",
   "metadata": {},
   "source": [
    "### ROC Score --> ROC is relation between True positive rate and false Positive rate"
   ]
  },
  {
   "cell_type": "code",
   "execution_count": 411,
   "id": "6298ca0a",
   "metadata": {},
   "outputs": [
    {
     "data": {
      "text/plain": [
       "0.7"
      ]
     },
     "execution_count": 411,
     "metadata": {},
     "output_type": "execute_result"
    }
   ],
   "source": [
    "round(metrics.roc_auc_score(y_test, pred_SVC),2) "
   ]
  },
  {
   "cell_type": "markdown",
   "id": "44eeeba8",
   "metadata": {},
   "source": [
    "### Accuracy Score ---> Accuracy is simply the ratio of correct prediction"
   ]
  },
  {
   "cell_type": "code",
   "execution_count": 412,
   "id": "f186c907",
   "metadata": {},
   "outputs": [
    {
     "data": {
      "text/plain": [
       "0.93"
      ]
     },
     "execution_count": 412,
     "metadata": {},
     "output_type": "execute_result"
    }
   ],
   "source": [
    "round(metrics.accuracy_score(y_test, pred_SVC),2)"
   ]
  },
  {
   "cell_type": "markdown",
   "id": "24878167",
   "metadata": {},
   "source": [
    "# Random Forest"
   ]
  },
  {
   "cell_type": "code",
   "execution_count": 417,
   "id": "c20d3f77",
   "metadata": {},
   "outputs": [],
   "source": [
    "steps_RF = [('Standard Scaler',StandardScaler()),('RF',RandomForestClassifier())]"
   ]
  },
  {
   "cell_type": "code",
   "execution_count": 418,
   "id": "2cd49358",
   "metadata": {},
   "outputs": [
    {
     "data": {
      "text/html": [
       "<style>#sk-container-id-48 {color: black;}#sk-container-id-48 pre{padding: 0;}#sk-container-id-48 div.sk-toggleable {background-color: white;}#sk-container-id-48 label.sk-toggleable__label {cursor: pointer;display: block;width: 100%;margin-bottom: 0;padding: 0.3em;box-sizing: border-box;text-align: center;}#sk-container-id-48 label.sk-toggleable__label-arrow:before {content: \"▸\";float: left;margin-right: 0.25em;color: #696969;}#sk-container-id-48 label.sk-toggleable__label-arrow:hover:before {color: black;}#sk-container-id-48 div.sk-estimator:hover label.sk-toggleable__label-arrow:before {color: black;}#sk-container-id-48 div.sk-toggleable__content {max-height: 0;max-width: 0;overflow: hidden;text-align: left;background-color: #f0f8ff;}#sk-container-id-48 div.sk-toggleable__content pre {margin: 0.2em;color: black;border-radius: 0.25em;background-color: #f0f8ff;}#sk-container-id-48 input.sk-toggleable__control:checked~div.sk-toggleable__content {max-height: 200px;max-width: 100%;overflow: auto;}#sk-container-id-48 input.sk-toggleable__control:checked~label.sk-toggleable__label-arrow:before {content: \"▾\";}#sk-container-id-48 div.sk-estimator input.sk-toggleable__control:checked~label.sk-toggleable__label {background-color: #d4ebff;}#sk-container-id-48 div.sk-label input.sk-toggleable__control:checked~label.sk-toggleable__label {background-color: #d4ebff;}#sk-container-id-48 input.sk-hidden--visually {border: 0;clip: rect(1px 1px 1px 1px);clip: rect(1px, 1px, 1px, 1px);height: 1px;margin: -1px;overflow: hidden;padding: 0;position: absolute;width: 1px;}#sk-container-id-48 div.sk-estimator {font-family: monospace;background-color: #f0f8ff;border: 1px dotted black;border-radius: 0.25em;box-sizing: border-box;margin-bottom: 0.5em;}#sk-container-id-48 div.sk-estimator:hover {background-color: #d4ebff;}#sk-container-id-48 div.sk-parallel-item::after {content: \"\";width: 100%;border-bottom: 1px solid gray;flex-grow: 1;}#sk-container-id-48 div.sk-label:hover label.sk-toggleable__label {background-color: #d4ebff;}#sk-container-id-48 div.sk-serial::before {content: \"\";position: absolute;border-left: 1px solid gray;box-sizing: border-box;top: 0;bottom: 0;left: 50%;z-index: 0;}#sk-container-id-48 div.sk-serial {display: flex;flex-direction: column;align-items: center;background-color: white;padding-right: 0.2em;padding-left: 0.2em;position: relative;}#sk-container-id-48 div.sk-item {position: relative;z-index: 1;}#sk-container-id-48 div.sk-parallel {display: flex;align-items: stretch;justify-content: center;background-color: white;position: relative;}#sk-container-id-48 div.sk-item::before, #sk-container-id-48 div.sk-parallel-item::before {content: \"\";position: absolute;border-left: 1px solid gray;box-sizing: border-box;top: 0;bottom: 0;left: 50%;z-index: -1;}#sk-container-id-48 div.sk-parallel-item {display: flex;flex-direction: column;z-index: 1;position: relative;background-color: white;}#sk-container-id-48 div.sk-parallel-item:first-child::after {align-self: flex-end;width: 50%;}#sk-container-id-48 div.sk-parallel-item:last-child::after {align-self: flex-start;width: 50%;}#sk-container-id-48 div.sk-parallel-item:only-child::after {width: 0;}#sk-container-id-48 div.sk-dashed-wrapped {border: 1px dashed gray;margin: 0 0.4em 0.5em 0.4em;box-sizing: border-box;padding-bottom: 0.4em;background-color: white;}#sk-container-id-48 div.sk-label label {font-family: monospace;font-weight: bold;display: inline-block;line-height: 1.2em;}#sk-container-id-48 div.sk-label-container {text-align: center;}#sk-container-id-48 div.sk-container {/* jupyter's `normalize.less` sets `[hidden] { display: none; }` but bootstrap.min.css set `[hidden] { display: none !important; }` so we also need the `!important` here to be able to override the default hidden behavior on the sphinx rendered scikit-learn.org. See: https://github.com/scikit-learn/scikit-learn/issues/21755 */display: inline-block !important;position: relative;}#sk-container-id-48 div.sk-text-repr-fallback {display: none;}</style><div id=\"sk-container-id-48\" class=\"sk-top-container\"><div class=\"sk-text-repr-fallback\"><pre>Pipeline(steps=[(&#x27;Standard Scaler&#x27;, StandardScaler()),\n",
       "                (&#x27;RF&#x27;, RandomForestClassifier())])</pre><b>In a Jupyter environment, please rerun this cell to show the HTML representation or trust the notebook. <br />On GitHub, the HTML representation is unable to render, please try loading this page with nbviewer.org.</b></div><div class=\"sk-container\" hidden><div class=\"sk-item sk-dashed-wrapped\"><div class=\"sk-label-container\"><div class=\"sk-label sk-toggleable\"><input class=\"sk-toggleable__control sk-hidden--visually\" id=\"sk-estimator-id-274\" type=\"checkbox\" ><label for=\"sk-estimator-id-274\" class=\"sk-toggleable__label sk-toggleable__label-arrow\">Pipeline</label><div class=\"sk-toggleable__content\"><pre>Pipeline(steps=[(&#x27;Standard Scaler&#x27;, StandardScaler()),\n",
       "                (&#x27;RF&#x27;, RandomForestClassifier())])</pre></div></div></div><div class=\"sk-serial\"><div class=\"sk-item\"><div class=\"sk-estimator sk-toggleable\"><input class=\"sk-toggleable__control sk-hidden--visually\" id=\"sk-estimator-id-275\" type=\"checkbox\" ><label for=\"sk-estimator-id-275\" class=\"sk-toggleable__label sk-toggleable__label-arrow\">StandardScaler</label><div class=\"sk-toggleable__content\"><pre>StandardScaler()</pre></div></div></div><div class=\"sk-item\"><div class=\"sk-estimator sk-toggleable\"><input class=\"sk-toggleable__control sk-hidden--visually\" id=\"sk-estimator-id-276\" type=\"checkbox\" ><label for=\"sk-estimator-id-276\" class=\"sk-toggleable__label sk-toggleable__label-arrow\">RandomForestClassifier</label><div class=\"sk-toggleable__content\"><pre>RandomForestClassifier()</pre></div></div></div></div></div></div></div>"
      ],
      "text/plain": [
       "Pipeline(steps=[('Standard Scaler', StandardScaler()),\n",
       "                ('RF', RandomForestClassifier())])"
      ]
     },
     "execution_count": 418,
     "metadata": {},
     "output_type": "execute_result"
    }
   ],
   "source": [
    "pipe_RF = Pipeline(steps_RF)\n",
    "pipe_RF"
   ]
  },
  {
   "cell_type": "code",
   "execution_count": 419,
   "id": "daa03508",
   "metadata": {},
   "outputs": [
    {
     "data": {
      "text/html": [
       "<style>#sk-container-id-49 {color: black;}#sk-container-id-49 pre{padding: 0;}#sk-container-id-49 div.sk-toggleable {background-color: white;}#sk-container-id-49 label.sk-toggleable__label {cursor: pointer;display: block;width: 100%;margin-bottom: 0;padding: 0.3em;box-sizing: border-box;text-align: center;}#sk-container-id-49 label.sk-toggleable__label-arrow:before {content: \"▸\";float: left;margin-right: 0.25em;color: #696969;}#sk-container-id-49 label.sk-toggleable__label-arrow:hover:before {color: black;}#sk-container-id-49 div.sk-estimator:hover label.sk-toggleable__label-arrow:before {color: black;}#sk-container-id-49 div.sk-toggleable__content {max-height: 0;max-width: 0;overflow: hidden;text-align: left;background-color: #f0f8ff;}#sk-container-id-49 div.sk-toggleable__content pre {margin: 0.2em;color: black;border-radius: 0.25em;background-color: #f0f8ff;}#sk-container-id-49 input.sk-toggleable__control:checked~div.sk-toggleable__content {max-height: 200px;max-width: 100%;overflow: auto;}#sk-container-id-49 input.sk-toggleable__control:checked~label.sk-toggleable__label-arrow:before {content: \"▾\";}#sk-container-id-49 div.sk-estimator input.sk-toggleable__control:checked~label.sk-toggleable__label {background-color: #d4ebff;}#sk-container-id-49 div.sk-label input.sk-toggleable__control:checked~label.sk-toggleable__label {background-color: #d4ebff;}#sk-container-id-49 input.sk-hidden--visually {border: 0;clip: rect(1px 1px 1px 1px);clip: rect(1px, 1px, 1px, 1px);height: 1px;margin: -1px;overflow: hidden;padding: 0;position: absolute;width: 1px;}#sk-container-id-49 div.sk-estimator {font-family: monospace;background-color: #f0f8ff;border: 1px dotted black;border-radius: 0.25em;box-sizing: border-box;margin-bottom: 0.5em;}#sk-container-id-49 div.sk-estimator:hover {background-color: #d4ebff;}#sk-container-id-49 div.sk-parallel-item::after {content: \"\";width: 100%;border-bottom: 1px solid gray;flex-grow: 1;}#sk-container-id-49 div.sk-label:hover label.sk-toggleable__label {background-color: #d4ebff;}#sk-container-id-49 div.sk-serial::before {content: \"\";position: absolute;border-left: 1px solid gray;box-sizing: border-box;top: 0;bottom: 0;left: 50%;z-index: 0;}#sk-container-id-49 div.sk-serial {display: flex;flex-direction: column;align-items: center;background-color: white;padding-right: 0.2em;padding-left: 0.2em;position: relative;}#sk-container-id-49 div.sk-item {position: relative;z-index: 1;}#sk-container-id-49 div.sk-parallel {display: flex;align-items: stretch;justify-content: center;background-color: white;position: relative;}#sk-container-id-49 div.sk-item::before, #sk-container-id-49 div.sk-parallel-item::before {content: \"\";position: absolute;border-left: 1px solid gray;box-sizing: border-box;top: 0;bottom: 0;left: 50%;z-index: -1;}#sk-container-id-49 div.sk-parallel-item {display: flex;flex-direction: column;z-index: 1;position: relative;background-color: white;}#sk-container-id-49 div.sk-parallel-item:first-child::after {align-self: flex-end;width: 50%;}#sk-container-id-49 div.sk-parallel-item:last-child::after {align-self: flex-start;width: 50%;}#sk-container-id-49 div.sk-parallel-item:only-child::after {width: 0;}#sk-container-id-49 div.sk-dashed-wrapped {border: 1px dashed gray;margin: 0 0.4em 0.5em 0.4em;box-sizing: border-box;padding-bottom: 0.4em;background-color: white;}#sk-container-id-49 div.sk-label label {font-family: monospace;font-weight: bold;display: inline-block;line-height: 1.2em;}#sk-container-id-49 div.sk-label-container {text-align: center;}#sk-container-id-49 div.sk-container {/* jupyter's `normalize.less` sets `[hidden] { display: none; }` but bootstrap.min.css set `[hidden] { display: none !important; }` so we also need the `!important` here to be able to override the default hidden behavior on the sphinx rendered scikit-learn.org. See: https://github.com/scikit-learn/scikit-learn/issues/21755 */display: inline-block !important;position: relative;}#sk-container-id-49 div.sk-text-repr-fallback {display: none;}</style><div id=\"sk-container-id-49\" class=\"sk-top-container\"><div class=\"sk-text-repr-fallback\"><pre>Pipeline(steps=[(&#x27;Standard Scaler&#x27;, StandardScaler()),\n",
       "                (&#x27;RF&#x27;, RandomForestClassifier())])</pre><b>In a Jupyter environment, please rerun this cell to show the HTML representation or trust the notebook. <br />On GitHub, the HTML representation is unable to render, please try loading this page with nbviewer.org.</b></div><div class=\"sk-container\" hidden><div class=\"sk-item sk-dashed-wrapped\"><div class=\"sk-label-container\"><div class=\"sk-label sk-toggleable\"><input class=\"sk-toggleable__control sk-hidden--visually\" id=\"sk-estimator-id-277\" type=\"checkbox\" ><label for=\"sk-estimator-id-277\" class=\"sk-toggleable__label sk-toggleable__label-arrow\">Pipeline</label><div class=\"sk-toggleable__content\"><pre>Pipeline(steps=[(&#x27;Standard Scaler&#x27;, StandardScaler()),\n",
       "                (&#x27;RF&#x27;, RandomForestClassifier())])</pre></div></div></div><div class=\"sk-serial\"><div class=\"sk-item\"><div class=\"sk-estimator sk-toggleable\"><input class=\"sk-toggleable__control sk-hidden--visually\" id=\"sk-estimator-id-278\" type=\"checkbox\" ><label for=\"sk-estimator-id-278\" class=\"sk-toggleable__label sk-toggleable__label-arrow\">StandardScaler</label><div class=\"sk-toggleable__content\"><pre>StandardScaler()</pre></div></div></div><div class=\"sk-item\"><div class=\"sk-estimator sk-toggleable\"><input class=\"sk-toggleable__control sk-hidden--visually\" id=\"sk-estimator-id-279\" type=\"checkbox\" ><label for=\"sk-estimator-id-279\" class=\"sk-toggleable__label sk-toggleable__label-arrow\">RandomForestClassifier</label><div class=\"sk-toggleable__content\"><pre>RandomForestClassifier()</pre></div></div></div></div></div></div></div>"
      ],
      "text/plain": [
       "Pipeline(steps=[('Standard Scaler', StandardScaler()),\n",
       "                ('RF', RandomForestClassifier())])"
      ]
     },
     "execution_count": 419,
     "metadata": {},
     "output_type": "execute_result"
    }
   ],
   "source": [
    "pipe_RF.fit(X_train_PCA,y_train)\n",
    "pipe_RF"
   ]
  },
  {
   "cell_type": "code",
   "execution_count": 420,
   "id": "e7dc4d13",
   "metadata": {},
   "outputs": [
    {
     "data": {
      "text/plain": [
       "array([0, 0, 0, ..., 0, 0, 0], dtype=int64)"
      ]
     },
     "execution_count": 420,
     "metadata": {},
     "output_type": "execute_result"
    }
   ],
   "source": [
    "pred_RF= pipe_RF.predict(X_test_pca) #X_test_pca\n",
    "pred_RF"
   ]
  },
  {
   "cell_type": "markdown",
   "id": "9db085e0",
   "metadata": {},
   "source": [
    "### ROC Score --> ROC is relation between True positive rate and false Positive rate"
   ]
  },
  {
   "cell_type": "markdown",
   "id": "45c51f77",
   "metadata": {},
   "source": []
  },
  {
   "cell_type": "code",
   "execution_count": 421,
   "id": "0b760bfe",
   "metadata": {},
   "outputs": [
    {
     "data": {
      "text/plain": [
       "0.7"
      ]
     },
     "execution_count": 421,
     "metadata": {},
     "output_type": "execute_result"
    }
   ],
   "source": [
    "round(metrics.roc_auc_score(y_test, pred_RF),2) "
   ]
  },
  {
   "cell_type": "markdown",
   "id": "d2f31826",
   "metadata": {},
   "source": [
    "### Accuracy Score ---> Accuracy is simply the ratio of correct prediction"
   ]
  },
  {
   "cell_type": "code",
   "execution_count": 422,
   "id": "11b5b775",
   "metadata": {},
   "outputs": [
    {
     "data": {
      "text/plain": [
       "0.93"
      ]
     },
     "execution_count": 422,
     "metadata": {},
     "output_type": "execute_result"
    }
   ],
   "source": [
    "round(metrics.accuracy_score(y_test, pred_RF),2)"
   ]
  },
  {
   "cell_type": "markdown",
   "id": "b420b5d1",
   "metadata": {},
   "source": [
    "## Hyper Parameter in Random Forest"
   ]
  },
  {
   "cell_type": "code",
   "execution_count": 423,
   "id": "280397e4",
   "metadata": {},
   "outputs": [
    {
     "data": {
      "text/html": [
       "<style>#sk-container-id-50 {color: black;}#sk-container-id-50 pre{padding: 0;}#sk-container-id-50 div.sk-toggleable {background-color: white;}#sk-container-id-50 label.sk-toggleable__label {cursor: pointer;display: block;width: 100%;margin-bottom: 0;padding: 0.3em;box-sizing: border-box;text-align: center;}#sk-container-id-50 label.sk-toggleable__label-arrow:before {content: \"▸\";float: left;margin-right: 0.25em;color: #696969;}#sk-container-id-50 label.sk-toggleable__label-arrow:hover:before {color: black;}#sk-container-id-50 div.sk-estimator:hover label.sk-toggleable__label-arrow:before {color: black;}#sk-container-id-50 div.sk-toggleable__content {max-height: 0;max-width: 0;overflow: hidden;text-align: left;background-color: #f0f8ff;}#sk-container-id-50 div.sk-toggleable__content pre {margin: 0.2em;color: black;border-radius: 0.25em;background-color: #f0f8ff;}#sk-container-id-50 input.sk-toggleable__control:checked~div.sk-toggleable__content {max-height: 200px;max-width: 100%;overflow: auto;}#sk-container-id-50 input.sk-toggleable__control:checked~label.sk-toggleable__label-arrow:before {content: \"▾\";}#sk-container-id-50 div.sk-estimator input.sk-toggleable__control:checked~label.sk-toggleable__label {background-color: #d4ebff;}#sk-container-id-50 div.sk-label input.sk-toggleable__control:checked~label.sk-toggleable__label {background-color: #d4ebff;}#sk-container-id-50 input.sk-hidden--visually {border: 0;clip: rect(1px 1px 1px 1px);clip: rect(1px, 1px, 1px, 1px);height: 1px;margin: -1px;overflow: hidden;padding: 0;position: absolute;width: 1px;}#sk-container-id-50 div.sk-estimator {font-family: monospace;background-color: #f0f8ff;border: 1px dotted black;border-radius: 0.25em;box-sizing: border-box;margin-bottom: 0.5em;}#sk-container-id-50 div.sk-estimator:hover {background-color: #d4ebff;}#sk-container-id-50 div.sk-parallel-item::after {content: \"\";width: 100%;border-bottom: 1px solid gray;flex-grow: 1;}#sk-container-id-50 div.sk-label:hover label.sk-toggleable__label {background-color: #d4ebff;}#sk-container-id-50 div.sk-serial::before {content: \"\";position: absolute;border-left: 1px solid gray;box-sizing: border-box;top: 0;bottom: 0;left: 50%;z-index: 0;}#sk-container-id-50 div.sk-serial {display: flex;flex-direction: column;align-items: center;background-color: white;padding-right: 0.2em;padding-left: 0.2em;position: relative;}#sk-container-id-50 div.sk-item {position: relative;z-index: 1;}#sk-container-id-50 div.sk-parallel {display: flex;align-items: stretch;justify-content: center;background-color: white;position: relative;}#sk-container-id-50 div.sk-item::before, #sk-container-id-50 div.sk-parallel-item::before {content: \"\";position: absolute;border-left: 1px solid gray;box-sizing: border-box;top: 0;bottom: 0;left: 50%;z-index: -1;}#sk-container-id-50 div.sk-parallel-item {display: flex;flex-direction: column;z-index: 1;position: relative;background-color: white;}#sk-container-id-50 div.sk-parallel-item:first-child::after {align-self: flex-end;width: 50%;}#sk-container-id-50 div.sk-parallel-item:last-child::after {align-self: flex-start;width: 50%;}#sk-container-id-50 div.sk-parallel-item:only-child::after {width: 0;}#sk-container-id-50 div.sk-dashed-wrapped {border: 1px dashed gray;margin: 0 0.4em 0.5em 0.4em;box-sizing: border-box;padding-bottom: 0.4em;background-color: white;}#sk-container-id-50 div.sk-label label {font-family: monospace;font-weight: bold;display: inline-block;line-height: 1.2em;}#sk-container-id-50 div.sk-label-container {text-align: center;}#sk-container-id-50 div.sk-container {/* jupyter's `normalize.less` sets `[hidden] { display: none; }` but bootstrap.min.css set `[hidden] { display: none !important; }` so we also need the `!important` here to be able to override the default hidden behavior on the sphinx rendered scikit-learn.org. See: https://github.com/scikit-learn/scikit-learn/issues/21755 */display: inline-block !important;position: relative;}#sk-container-id-50 div.sk-text-repr-fallback {display: none;}</style><div id=\"sk-container-id-50\" class=\"sk-top-container\"><div class=\"sk-text-repr-fallback\"><pre>Pipeline(steps=[(&#x27;Standard Scaler&#x27;, StandardScaler()),\n",
       "                (&#x27;RF&#x27;, RandomForestClassifier())])</pre><b>In a Jupyter environment, please rerun this cell to show the HTML representation or trust the notebook. <br />On GitHub, the HTML representation is unable to render, please try loading this page with nbviewer.org.</b></div><div class=\"sk-container\" hidden><div class=\"sk-item sk-dashed-wrapped\"><div class=\"sk-label-container\"><div class=\"sk-label sk-toggleable\"><input class=\"sk-toggleable__control sk-hidden--visually\" id=\"sk-estimator-id-280\" type=\"checkbox\" ><label for=\"sk-estimator-id-280\" class=\"sk-toggleable__label sk-toggleable__label-arrow\">Pipeline</label><div class=\"sk-toggleable__content\"><pre>Pipeline(steps=[(&#x27;Standard Scaler&#x27;, StandardScaler()),\n",
       "                (&#x27;RF&#x27;, RandomForestClassifier())])</pre></div></div></div><div class=\"sk-serial\"><div class=\"sk-item\"><div class=\"sk-estimator sk-toggleable\"><input class=\"sk-toggleable__control sk-hidden--visually\" id=\"sk-estimator-id-281\" type=\"checkbox\" ><label for=\"sk-estimator-id-281\" class=\"sk-toggleable__label sk-toggleable__label-arrow\">StandardScaler</label><div class=\"sk-toggleable__content\"><pre>StandardScaler()</pre></div></div></div><div class=\"sk-item\"><div class=\"sk-estimator sk-toggleable\"><input class=\"sk-toggleable__control sk-hidden--visually\" id=\"sk-estimator-id-282\" type=\"checkbox\" ><label for=\"sk-estimator-id-282\" class=\"sk-toggleable__label sk-toggleable__label-arrow\">RandomForestClassifier</label><div class=\"sk-toggleable__content\"><pre>RandomForestClassifier()</pre></div></div></div></div></div></div></div>"
      ],
      "text/plain": [
       "Pipeline(steps=[('Standard Scaler', StandardScaler()),\n",
       "                ('RF', RandomForestClassifier())])"
      ]
     },
     "execution_count": 423,
     "metadata": {},
     "output_type": "execute_result"
    }
   ],
   "source": [
    "pipe_RF_Tunning = Pipeline([('Standard Scaler',StandardScaler()),('RF',RandomForestClassifier())])\n",
    "pipe_RF_Tunning"
   ]
  },
  {
   "cell_type": "code",
   "execution_count": 424,
   "id": "cf194d9a",
   "metadata": {},
   "outputs": [],
   "source": [
    "grid_param =[\n",
    "            {'RF':[RandomForestClassifier()],\n",
    "             'RF__n_estimators': [10],\n",
    "             'RF__max_depth': [8],\n",
    "             'RF__min_samples_leaf':[20],\n",
    "             'RF__max_leaf_nodes':[50]}\n",
    "            ]"
   ]
  },
  {
   "cell_type": "code",
   "execution_count": 425,
   "id": "410b4c6e",
   "metadata": {},
   "outputs": [],
   "source": [
    "grid_search = GridSearchCV(pipe_RF_Tunning,grid_param,cv=4,verbose=1,n_jobs=-1)"
   ]
  },
  {
   "cell_type": "code",
   "execution_count": 426,
   "id": "a70988bb",
   "metadata": {},
   "outputs": [],
   "source": [
    "#X_train_PCA_tmp = X_train_PCA[:5]"
   ]
  },
  {
   "cell_type": "code",
   "execution_count": 427,
   "id": "c32e94b4",
   "metadata": {},
   "outputs": [],
   "source": [
    "#y_train_tmp = y_train[:5]"
   ]
  },
  {
   "cell_type": "code",
   "execution_count": 428,
   "id": "08a73031",
   "metadata": {},
   "outputs": [
    {
     "name": "stdout",
     "output_type": "stream",
     "text": [
      "Fitting 4 folds for each of 1 candidates, totalling 4 fits\n"
     ]
    }
   ],
   "source": [
    "rf_gridsearch_model = grid_search.fit(X_train_PCA,y_train)"
   ]
  },
  {
   "cell_type": "code",
   "execution_count": 429,
   "id": "9e7f1553",
   "metadata": {},
   "outputs": [
    {
     "data": {
      "text/plain": [
       "{'RF': RandomForestClassifier(max_depth=8, max_leaf_nodes=50, min_samples_leaf=20,\n",
       "                        n_estimators=10),\n",
       " 'RF__max_depth': 8,\n",
       " 'RF__max_leaf_nodes': 50,\n",
       " 'RF__min_samples_leaf': 20,\n",
       " 'RF__n_estimators': 10}"
      ]
     },
     "execution_count": 429,
     "metadata": {},
     "output_type": "execute_result"
    }
   ],
   "source": [
    "rf_gridsearch_model.best_params_"
   ]
  },
  {
   "cell_type": "code",
   "execution_count": 430,
   "id": "97323095",
   "metadata": {},
   "outputs": [],
   "source": [
    "step_RF_GS = [('Standard Scaler',StandardScaler()),('RF',RandomForestClassifier(max_depth=8,\n",
    "                                                                                max_leaf_nodes=50, \n",
    "                                                                                min_samples_leaf=20,\n",
    "                                                                                n_estimators=10))]\n",
    "pipe_RF_GS = Pipeline(step_RF_GS)"
   ]
  },
  {
   "cell_type": "code",
   "execution_count": 431,
   "id": "fa5a6b0e",
   "metadata": {},
   "outputs": [
    {
     "data": {
      "text/html": [
       "<style>#sk-container-id-51 {color: black;}#sk-container-id-51 pre{padding: 0;}#sk-container-id-51 div.sk-toggleable {background-color: white;}#sk-container-id-51 label.sk-toggleable__label {cursor: pointer;display: block;width: 100%;margin-bottom: 0;padding: 0.3em;box-sizing: border-box;text-align: center;}#sk-container-id-51 label.sk-toggleable__label-arrow:before {content: \"▸\";float: left;margin-right: 0.25em;color: #696969;}#sk-container-id-51 label.sk-toggleable__label-arrow:hover:before {color: black;}#sk-container-id-51 div.sk-estimator:hover label.sk-toggleable__label-arrow:before {color: black;}#sk-container-id-51 div.sk-toggleable__content {max-height: 0;max-width: 0;overflow: hidden;text-align: left;background-color: #f0f8ff;}#sk-container-id-51 div.sk-toggleable__content pre {margin: 0.2em;color: black;border-radius: 0.25em;background-color: #f0f8ff;}#sk-container-id-51 input.sk-toggleable__control:checked~div.sk-toggleable__content {max-height: 200px;max-width: 100%;overflow: auto;}#sk-container-id-51 input.sk-toggleable__control:checked~label.sk-toggleable__label-arrow:before {content: \"▾\";}#sk-container-id-51 div.sk-estimator input.sk-toggleable__control:checked~label.sk-toggleable__label {background-color: #d4ebff;}#sk-container-id-51 div.sk-label input.sk-toggleable__control:checked~label.sk-toggleable__label {background-color: #d4ebff;}#sk-container-id-51 input.sk-hidden--visually {border: 0;clip: rect(1px 1px 1px 1px);clip: rect(1px, 1px, 1px, 1px);height: 1px;margin: -1px;overflow: hidden;padding: 0;position: absolute;width: 1px;}#sk-container-id-51 div.sk-estimator {font-family: monospace;background-color: #f0f8ff;border: 1px dotted black;border-radius: 0.25em;box-sizing: border-box;margin-bottom: 0.5em;}#sk-container-id-51 div.sk-estimator:hover {background-color: #d4ebff;}#sk-container-id-51 div.sk-parallel-item::after {content: \"\";width: 100%;border-bottom: 1px solid gray;flex-grow: 1;}#sk-container-id-51 div.sk-label:hover label.sk-toggleable__label {background-color: #d4ebff;}#sk-container-id-51 div.sk-serial::before {content: \"\";position: absolute;border-left: 1px solid gray;box-sizing: border-box;top: 0;bottom: 0;left: 50%;z-index: 0;}#sk-container-id-51 div.sk-serial {display: flex;flex-direction: column;align-items: center;background-color: white;padding-right: 0.2em;padding-left: 0.2em;position: relative;}#sk-container-id-51 div.sk-item {position: relative;z-index: 1;}#sk-container-id-51 div.sk-parallel {display: flex;align-items: stretch;justify-content: center;background-color: white;position: relative;}#sk-container-id-51 div.sk-item::before, #sk-container-id-51 div.sk-parallel-item::before {content: \"\";position: absolute;border-left: 1px solid gray;box-sizing: border-box;top: 0;bottom: 0;left: 50%;z-index: -1;}#sk-container-id-51 div.sk-parallel-item {display: flex;flex-direction: column;z-index: 1;position: relative;background-color: white;}#sk-container-id-51 div.sk-parallel-item:first-child::after {align-self: flex-end;width: 50%;}#sk-container-id-51 div.sk-parallel-item:last-child::after {align-self: flex-start;width: 50%;}#sk-container-id-51 div.sk-parallel-item:only-child::after {width: 0;}#sk-container-id-51 div.sk-dashed-wrapped {border: 1px dashed gray;margin: 0 0.4em 0.5em 0.4em;box-sizing: border-box;padding-bottom: 0.4em;background-color: white;}#sk-container-id-51 div.sk-label label {font-family: monospace;font-weight: bold;display: inline-block;line-height: 1.2em;}#sk-container-id-51 div.sk-label-container {text-align: center;}#sk-container-id-51 div.sk-container {/* jupyter's `normalize.less` sets `[hidden] { display: none; }` but bootstrap.min.css set `[hidden] { display: none !important; }` so we also need the `!important` here to be able to override the default hidden behavior on the sphinx rendered scikit-learn.org. See: https://github.com/scikit-learn/scikit-learn/issues/21755 */display: inline-block !important;position: relative;}#sk-container-id-51 div.sk-text-repr-fallback {display: none;}</style><div id=\"sk-container-id-51\" class=\"sk-top-container\"><div class=\"sk-text-repr-fallback\"><pre>Pipeline(steps=[(&#x27;Standard Scaler&#x27;, StandardScaler()),\n",
       "                (&#x27;RF&#x27;,\n",
       "                 RandomForestClassifier(max_depth=8, max_leaf_nodes=50,\n",
       "                                        min_samples_leaf=20,\n",
       "                                        n_estimators=10))])</pre><b>In a Jupyter environment, please rerun this cell to show the HTML representation or trust the notebook. <br />On GitHub, the HTML representation is unable to render, please try loading this page with nbviewer.org.</b></div><div class=\"sk-container\" hidden><div class=\"sk-item sk-dashed-wrapped\"><div class=\"sk-label-container\"><div class=\"sk-label sk-toggleable\"><input class=\"sk-toggleable__control sk-hidden--visually\" id=\"sk-estimator-id-283\" type=\"checkbox\" ><label for=\"sk-estimator-id-283\" class=\"sk-toggleable__label sk-toggleable__label-arrow\">Pipeline</label><div class=\"sk-toggleable__content\"><pre>Pipeline(steps=[(&#x27;Standard Scaler&#x27;, StandardScaler()),\n",
       "                (&#x27;RF&#x27;,\n",
       "                 RandomForestClassifier(max_depth=8, max_leaf_nodes=50,\n",
       "                                        min_samples_leaf=20,\n",
       "                                        n_estimators=10))])</pre></div></div></div><div class=\"sk-serial\"><div class=\"sk-item\"><div class=\"sk-estimator sk-toggleable\"><input class=\"sk-toggleable__control sk-hidden--visually\" id=\"sk-estimator-id-284\" type=\"checkbox\" ><label for=\"sk-estimator-id-284\" class=\"sk-toggleable__label sk-toggleable__label-arrow\">StandardScaler</label><div class=\"sk-toggleable__content\"><pre>StandardScaler()</pre></div></div></div><div class=\"sk-item\"><div class=\"sk-estimator sk-toggleable\"><input class=\"sk-toggleable__control sk-hidden--visually\" id=\"sk-estimator-id-285\" type=\"checkbox\" ><label for=\"sk-estimator-id-285\" class=\"sk-toggleable__label sk-toggleable__label-arrow\">RandomForestClassifier</label><div class=\"sk-toggleable__content\"><pre>RandomForestClassifier(max_depth=8, max_leaf_nodes=50, min_samples_leaf=20,\n",
       "                       n_estimators=10)</pre></div></div></div></div></div></div></div>"
      ],
      "text/plain": [
       "Pipeline(steps=[('Standard Scaler', StandardScaler()),\n",
       "                ('RF',\n",
       "                 RandomForestClassifier(max_depth=8, max_leaf_nodes=50,\n",
       "                                        min_samples_leaf=20,\n",
       "                                        n_estimators=10))])"
      ]
     },
     "execution_count": 431,
     "metadata": {},
     "output_type": "execute_result"
    }
   ],
   "source": [
    "pipe_RF_GS"
   ]
  },
  {
   "cell_type": "code",
   "execution_count": 432,
   "id": "19061af0",
   "metadata": {},
   "outputs": [
    {
     "data": {
      "text/html": [
       "<style>#sk-container-id-52 {color: black;}#sk-container-id-52 pre{padding: 0;}#sk-container-id-52 div.sk-toggleable {background-color: white;}#sk-container-id-52 label.sk-toggleable__label {cursor: pointer;display: block;width: 100%;margin-bottom: 0;padding: 0.3em;box-sizing: border-box;text-align: center;}#sk-container-id-52 label.sk-toggleable__label-arrow:before {content: \"▸\";float: left;margin-right: 0.25em;color: #696969;}#sk-container-id-52 label.sk-toggleable__label-arrow:hover:before {color: black;}#sk-container-id-52 div.sk-estimator:hover label.sk-toggleable__label-arrow:before {color: black;}#sk-container-id-52 div.sk-toggleable__content {max-height: 0;max-width: 0;overflow: hidden;text-align: left;background-color: #f0f8ff;}#sk-container-id-52 div.sk-toggleable__content pre {margin: 0.2em;color: black;border-radius: 0.25em;background-color: #f0f8ff;}#sk-container-id-52 input.sk-toggleable__control:checked~div.sk-toggleable__content {max-height: 200px;max-width: 100%;overflow: auto;}#sk-container-id-52 input.sk-toggleable__control:checked~label.sk-toggleable__label-arrow:before {content: \"▾\";}#sk-container-id-52 div.sk-estimator input.sk-toggleable__control:checked~label.sk-toggleable__label {background-color: #d4ebff;}#sk-container-id-52 div.sk-label input.sk-toggleable__control:checked~label.sk-toggleable__label {background-color: #d4ebff;}#sk-container-id-52 input.sk-hidden--visually {border: 0;clip: rect(1px 1px 1px 1px);clip: rect(1px, 1px, 1px, 1px);height: 1px;margin: -1px;overflow: hidden;padding: 0;position: absolute;width: 1px;}#sk-container-id-52 div.sk-estimator {font-family: monospace;background-color: #f0f8ff;border: 1px dotted black;border-radius: 0.25em;box-sizing: border-box;margin-bottom: 0.5em;}#sk-container-id-52 div.sk-estimator:hover {background-color: #d4ebff;}#sk-container-id-52 div.sk-parallel-item::after {content: \"\";width: 100%;border-bottom: 1px solid gray;flex-grow: 1;}#sk-container-id-52 div.sk-label:hover label.sk-toggleable__label {background-color: #d4ebff;}#sk-container-id-52 div.sk-serial::before {content: \"\";position: absolute;border-left: 1px solid gray;box-sizing: border-box;top: 0;bottom: 0;left: 50%;z-index: 0;}#sk-container-id-52 div.sk-serial {display: flex;flex-direction: column;align-items: center;background-color: white;padding-right: 0.2em;padding-left: 0.2em;position: relative;}#sk-container-id-52 div.sk-item {position: relative;z-index: 1;}#sk-container-id-52 div.sk-parallel {display: flex;align-items: stretch;justify-content: center;background-color: white;position: relative;}#sk-container-id-52 div.sk-item::before, #sk-container-id-52 div.sk-parallel-item::before {content: \"\";position: absolute;border-left: 1px solid gray;box-sizing: border-box;top: 0;bottom: 0;left: 50%;z-index: -1;}#sk-container-id-52 div.sk-parallel-item {display: flex;flex-direction: column;z-index: 1;position: relative;background-color: white;}#sk-container-id-52 div.sk-parallel-item:first-child::after {align-self: flex-end;width: 50%;}#sk-container-id-52 div.sk-parallel-item:last-child::after {align-self: flex-start;width: 50%;}#sk-container-id-52 div.sk-parallel-item:only-child::after {width: 0;}#sk-container-id-52 div.sk-dashed-wrapped {border: 1px dashed gray;margin: 0 0.4em 0.5em 0.4em;box-sizing: border-box;padding-bottom: 0.4em;background-color: white;}#sk-container-id-52 div.sk-label label {font-family: monospace;font-weight: bold;display: inline-block;line-height: 1.2em;}#sk-container-id-52 div.sk-label-container {text-align: center;}#sk-container-id-52 div.sk-container {/* jupyter's `normalize.less` sets `[hidden] { display: none; }` but bootstrap.min.css set `[hidden] { display: none !important; }` so we also need the `!important` here to be able to override the default hidden behavior on the sphinx rendered scikit-learn.org. See: https://github.com/scikit-learn/scikit-learn/issues/21755 */display: inline-block !important;position: relative;}#sk-container-id-52 div.sk-text-repr-fallback {display: none;}</style><div id=\"sk-container-id-52\" class=\"sk-top-container\"><div class=\"sk-text-repr-fallback\"><pre>Pipeline(steps=[(&#x27;Standard Scaler&#x27;, StandardScaler()),\n",
       "                (&#x27;RF&#x27;,\n",
       "                 RandomForestClassifier(max_depth=8, max_leaf_nodes=50,\n",
       "                                        min_samples_leaf=20,\n",
       "                                        n_estimators=10))])</pre><b>In a Jupyter environment, please rerun this cell to show the HTML representation or trust the notebook. <br />On GitHub, the HTML representation is unable to render, please try loading this page with nbviewer.org.</b></div><div class=\"sk-container\" hidden><div class=\"sk-item sk-dashed-wrapped\"><div class=\"sk-label-container\"><div class=\"sk-label sk-toggleable\"><input class=\"sk-toggleable__control sk-hidden--visually\" id=\"sk-estimator-id-286\" type=\"checkbox\" ><label for=\"sk-estimator-id-286\" class=\"sk-toggleable__label sk-toggleable__label-arrow\">Pipeline</label><div class=\"sk-toggleable__content\"><pre>Pipeline(steps=[(&#x27;Standard Scaler&#x27;, StandardScaler()),\n",
       "                (&#x27;RF&#x27;,\n",
       "                 RandomForestClassifier(max_depth=8, max_leaf_nodes=50,\n",
       "                                        min_samples_leaf=20,\n",
       "                                        n_estimators=10))])</pre></div></div></div><div class=\"sk-serial\"><div class=\"sk-item\"><div class=\"sk-estimator sk-toggleable\"><input class=\"sk-toggleable__control sk-hidden--visually\" id=\"sk-estimator-id-287\" type=\"checkbox\" ><label for=\"sk-estimator-id-287\" class=\"sk-toggleable__label sk-toggleable__label-arrow\">StandardScaler</label><div class=\"sk-toggleable__content\"><pre>StandardScaler()</pre></div></div></div><div class=\"sk-item\"><div class=\"sk-estimator sk-toggleable\"><input class=\"sk-toggleable__control sk-hidden--visually\" id=\"sk-estimator-id-288\" type=\"checkbox\" ><label for=\"sk-estimator-id-288\" class=\"sk-toggleable__label sk-toggleable__label-arrow\">RandomForestClassifier</label><div class=\"sk-toggleable__content\"><pre>RandomForestClassifier(max_depth=8, max_leaf_nodes=50, min_samples_leaf=20,\n",
       "                       n_estimators=10)</pre></div></div></div></div></div></div></div>"
      ],
      "text/plain": [
       "Pipeline(steps=[('Standard Scaler', StandardScaler()),\n",
       "                ('RF',\n",
       "                 RandomForestClassifier(max_depth=8, max_leaf_nodes=50,\n",
       "                                        min_samples_leaf=20,\n",
       "                                        n_estimators=10))])"
      ]
     },
     "execution_count": 432,
     "metadata": {},
     "output_type": "execute_result"
    }
   ],
   "source": [
    "pipe_RF_GS.fit(X_train_PCA,y_train)\n",
    "pipe_RF_GS"
   ]
  },
  {
   "cell_type": "code",
   "execution_count": 433,
   "id": "58aecf8f",
   "metadata": {},
   "outputs": [
    {
     "data": {
      "text/plain": [
       "array([0, 0, 0, ..., 0, 0, 0], dtype=int64)"
      ]
     },
     "execution_count": 433,
     "metadata": {},
     "output_type": "execute_result"
    }
   ],
   "source": [
    "pred_RF_GS= pipe_RF_GS.predict(X_test_pca) #X_test_pca\n",
    "pred_RF_GS"
   ]
  },
  {
   "cell_type": "markdown",
   "id": "3e252b79",
   "metadata": {},
   "source": [
    "### ROC Score --> ROC is relation between True positive rate and false Positive rate"
   ]
  },
  {
   "cell_type": "code",
   "execution_count": 434,
   "id": "47fb5c03",
   "metadata": {},
   "outputs": [
    {
     "data": {
      "text/plain": [
       "0.66"
      ]
     },
     "execution_count": 434,
     "metadata": {},
     "output_type": "execute_result"
    }
   ],
   "source": [
    "round(metrics.roc_auc_score(y_test, pred_RF_GS),2)"
   ]
  },
  {
   "cell_type": "markdown",
   "id": "be4681b8",
   "metadata": {},
   "source": [
    "### Accuracy Score ---> Accuracy is simply the ratio of correct prediction"
   ]
  },
  {
   "cell_type": "code",
   "execution_count": 435,
   "id": "d38d37ac",
   "metadata": {},
   "outputs": [
    {
     "data": {
      "text/plain": [
       "0.93"
      ]
     },
     "execution_count": 435,
     "metadata": {},
     "output_type": "execute_result"
    }
   ],
   "source": [
    "round(metrics.accuracy_score(y_test, pred_RF_GS),2)"
   ]
  },
  {
   "cell_type": "markdown",
   "id": "796154f8",
   "metadata": {},
   "source": [
    "# Conclustion\n",
    "1. LinearRegression, SVC and Random Forest all are giving same result\n",
    "2. Hence using LinerRegression Model to predict"
   ]
  },
  {
   "cell_type": "code",
   "execution_count": 48,
   "id": "b5bf6561",
   "metadata": {},
   "outputs": [
    {
     "data": {
      "text/plain": [
       "array([0, 0, 0, ..., 0, 0, 0], dtype=int64)"
      ]
     },
     "execution_count": 48,
     "metadata": {},
     "output_type": "execute_result"
    }
   ],
   "source": [
    "pred_probs_unseen = pipe.predict(unseen_pca) #X_test_pca\n",
    "pred_probs_unseen"
   ]
  },
  {
   "cell_type": "code",
   "execution_count": 50,
   "id": "0daf8e2d",
   "metadata": {},
   "outputs": [
    {
     "ename": "IndexError",
     "evalue": "too many indices for array: array is 1-dimensional, but 2 were indexed",
     "output_type": "error",
     "traceback": [
      "\u001b[1;31m---------------------------------------------------------------------------\u001b[0m",
      "\u001b[1;31mIndexError\u001b[0m                                Traceback (most recent call last)",
      "Cell \u001b[1;32mIn[50], line 1\u001b[0m\n\u001b[1;32m----> 1\u001b[0m pred_probs_unseen[:,\u001b[38;5;241m0\u001b[39m]\n",
      "\u001b[1;31mIndexError\u001b[0m: too many indices for array: array is 1-dimensional, but 2 were indexed"
     ]
    }
   ],
   "source": [
    "pred_probs_unseen"
   ]
  },
  {
   "cell_type": "markdown",
   "id": "5a21075c",
   "metadata": {},
   "source": [
    "# Creating Submission File"
   ]
  },
  {
   "cell_type": "code",
   "execution_count": 146,
   "id": "d7bd2617",
   "metadata": {},
   "outputs": [],
   "source": [
    "unseen_output = pd.DataFrame({'id':unseen_old.id, 'churn_probability':pred_probs_unseen})\n"
   ]
  },
  {
   "cell_type": "code",
   "execution_count": 147,
   "id": "6be9f4bb",
   "metadata": {},
   "outputs": [
    {
     "data": {
      "text/html": [
       "<div>\n",
       "<style scoped>\n",
       "    .dataframe tbody tr th:only-of-type {\n",
       "        vertical-align: middle;\n",
       "    }\n",
       "\n",
       "    .dataframe tbody tr th {\n",
       "        vertical-align: top;\n",
       "    }\n",
       "\n",
       "    .dataframe thead th {\n",
       "        text-align: right;\n",
       "    }\n",
       "</style>\n",
       "<table border=\"1\" class=\"dataframe\">\n",
       "  <thead>\n",
       "    <tr style=\"text-align: right;\">\n",
       "      <th></th>\n",
       "      <th>id</th>\n",
       "      <th>churn_probability</th>\n",
       "    </tr>\n",
       "  </thead>\n",
       "  <tbody>\n",
       "    <tr>\n",
       "      <th>0</th>\n",
       "      <td>69999</td>\n",
       "      <td>0</td>\n",
       "    </tr>\n",
       "    <tr>\n",
       "      <th>1</th>\n",
       "      <td>70000</td>\n",
       "      <td>0</td>\n",
       "    </tr>\n",
       "    <tr>\n",
       "      <th>2</th>\n",
       "      <td>70001</td>\n",
       "      <td>0</td>\n",
       "    </tr>\n",
       "    <tr>\n",
       "      <th>3</th>\n",
       "      <td>70002</td>\n",
       "      <td>0</td>\n",
       "    </tr>\n",
       "    <tr>\n",
       "      <th>4</th>\n",
       "      <td>70003</td>\n",
       "      <td>0</td>\n",
       "    </tr>\n",
       "    <tr>\n",
       "      <th>...</th>\n",
       "      <td>...</td>\n",
       "      <td>...</td>\n",
       "    </tr>\n",
       "    <tr>\n",
       "      <th>29995</th>\n",
       "      <td>99994</td>\n",
       "      <td>0</td>\n",
       "    </tr>\n",
       "    <tr>\n",
       "      <th>29996</th>\n",
       "      <td>99995</td>\n",
       "      <td>0</td>\n",
       "    </tr>\n",
       "    <tr>\n",
       "      <th>29997</th>\n",
       "      <td>99996</td>\n",
       "      <td>0</td>\n",
       "    </tr>\n",
       "    <tr>\n",
       "      <th>29998</th>\n",
       "      <td>99997</td>\n",
       "      <td>0</td>\n",
       "    </tr>\n",
       "    <tr>\n",
       "      <th>29999</th>\n",
       "      <td>99998</td>\n",
       "      <td>0</td>\n",
       "    </tr>\n",
       "  </tbody>\n",
       "</table>\n",
       "<p>30000 rows × 2 columns</p>\n",
       "</div>"
      ],
      "text/plain": [
       "          id  churn_probability\n",
       "0      69999                  0\n",
       "1      70000                  0\n",
       "2      70001                  0\n",
       "3      70002                  0\n",
       "4      70003                  0\n",
       "...      ...                ...\n",
       "29995  99994                  0\n",
       "29996  99995                  0\n",
       "29997  99996                  0\n",
       "29998  99997                  0\n",
       "29999  99998                  0\n",
       "\n",
       "[30000 rows x 2 columns]"
      ]
     },
     "execution_count": 147,
     "metadata": {},
     "output_type": "execute_result"
    }
   ],
   "source": [
    "unseen_output"
   ]
  },
  {
   "cell_type": "code",
   "execution_count": 149,
   "id": "b2a0ce54",
   "metadata": {},
   "outputs": [],
   "source": [
    "unseen_output.to_csv('submission_pca_LinearRegression_08jul.csv',index=False)"
   ]
  },
  {
   "cell_type": "code",
   "execution_count": null,
   "id": "8a688423",
   "metadata": {
    "papermill": {
     "duration": 0.070782,
     "end_time": "2021-08-13T07:17:26.223247",
     "exception": false,
     "start_time": "2021-08-13T07:17:26.152465",
     "status": "completed"
    },
    "tags": []
   },
   "outputs": [],
   "source": [
    "# Finding 15 most important variables using RFE"
   ]
  },
  {
   "cell_type": "code",
   "execution_count": 154,
   "id": "b8e8c542",
   "metadata": {},
   "outputs": [],
   "source": [
    "from sklearn.feature_selection import RFE\n",
    "lnr_mdl = LogisticRegression() # RFE does not work with statsmodels hence using sklearn model to fit data, from sklearn.linear_model import LinearRegression\n",
    "lnr_mdl.fit(X_train,y_train)\n",
    "\n",
    "rfe = RFE(lnr_mdl, n_features_to_select=15)\n",
    "rfe = rfe.fit(X_train,y_train)"
   ]
  },
  {
   "cell_type": "code",
   "execution_count": 155,
   "id": "71b30c0d",
   "metadata": {},
   "outputs": [
    {
     "data": {
      "text/plain": [
       "Index(['roam_ic_mou_6', 'roam_og_mou_6', 'std_og_mou_6', 'loc_ic_t2t_mou_8',\n",
       "       'loc_ic_t2f_mou_8', 'loc_ic_mou_8', 'std_ic_t2t_mou_6',\n",
       "       'std_ic_t2f_mou_8', 'total_ic_mou_8', 'isd_ic_mou_7', 'isd_ic_mou_8',\n",
       "       'total_rech_num_6', 'total_rech_num_7', 'total_rech_num_8',\n",
       "       'vol_2g_mb_8'],\n",
       "      dtype='object')"
      ]
     },
     "execution_count": 155,
     "metadata": {},
     "output_type": "execute_result"
    }
   ],
   "source": [
    "# getting all columns supported for model \n",
    "support_col = X_train.columns[rfe.support_]\n",
    "support_col"
   ]
  },
  {
   "cell_type": "code",
   "execution_count": 156,
   "id": "31db3406",
   "metadata": {},
   "outputs": [],
   "source": [
    "imp = np.abs(loading).sum(axis=1)"
   ]
  },
  {
   "cell_type": "code",
   "execution_count": 168,
   "id": "84a0062a",
   "metadata": {},
   "outputs": [
    {
     "data": {
      "text/plain": [
       "arpu_6    0.001112\n",
       "arpu_7    0.023149\n",
       "arpu_8    0.020673\n",
       "dtype: float64"
      ]
     },
     "execution_count": 168,
     "metadata": {},
     "output_type": "execute_result"
    }
   ],
   "source": [
    "imp.head(3)"
   ]
  },
  {
   "cell_type": "code",
   "execution_count": 158,
   "id": "3b7f6231",
   "metadata": {},
   "outputs": [],
   "source": [
    "imp/=imp.sum()"
   ]
  },
  {
   "cell_type": "code",
   "execution_count": 165,
   "id": "e8d97eac",
   "metadata": {},
   "outputs": [
    {
     "data": {
      "text/plain": [
       "pandas.core.series.Series"
      ]
     },
     "execution_count": 165,
     "metadata": {},
     "output_type": "execute_result"
    }
   ],
   "source": [
    "type(imp)"
   ]
  },
  {
   "cell_type": "code",
   "execution_count": 167,
   "id": "025d493b",
   "metadata": {},
   "outputs": [
    {
     "data": {
      "text/plain": [
       "total_og_mou_8      0.039994\n",
       "total_ic_mou_8      0.039789\n",
       "total_og_mou_7      0.038624\n",
       "std_og_mou_8        0.037486\n",
       "total_ic_mou_7      0.034216\n",
       "total_ic_mou_6      0.033517\n",
       "total_rech_amt_7    0.032914\n",
       "loc_og_mou_6        0.032260\n",
       "total_rech_amt_8    0.031156\n",
       "loc_ic_mou_7        0.030051\n",
       "onnet_mou_8         0.029529\n",
       "loc_ic_mou_8        0.029215\n",
       "offnet_mou_8        0.028982\n",
       "offnet_mou_7        0.028474\n",
       "loc_og_mou_8        0.028351\n",
       "dtype: float64"
      ]
     },
     "execution_count": 167,
     "metadata": {},
     "output_type": "execute_result"
    }
   ],
   "source": [
    "imp.sort_values(ascending = False).head(15)"
   ]
  },
  {
   "cell_type": "code",
   "execution_count": null,
   "id": "497bd26a",
   "metadata": {},
   "outputs": [],
   "source": []
  }
 ],
 "metadata": {
  "kernelspec": {
   "display_name": "Python 3 (ipykernel)",
   "language": "python",
   "name": "python3"
  },
  "language_info": {
   "codemirror_mode": {
    "name": "ipython",
    "version": 3
   },
   "file_extension": ".py",
   "mimetype": "text/x-python",
   "name": "python",
   "nbconvert_exporter": "python",
   "pygments_lexer": "ipython3",
   "version": "3.11.5"
  },
  "papermill": {
   "default_parameters": {},
   "duration": 57.533667,
   "end_time": "2021-08-13T07:17:27.204430",
   "environment_variables": {},
   "exception": null,
   "input_path": "__notebook__.ipynb",
   "output_path": "__notebook__.ipynb",
   "parameters": {},
   "start_time": "2021-08-13T07:16:29.670763",
   "version": "2.3.3"
  }
 },
 "nbformat": 4,
 "nbformat_minor": 5
}
